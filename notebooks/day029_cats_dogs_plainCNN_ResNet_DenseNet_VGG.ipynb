{
 "cells": [
  {
   "cell_type": "markdown",
   "id": "5f4989a0-8583-43a3-aaed-6834c9c0aba2",
   "metadata": {},
   "source": [
    "# 1. Set up"
   ]
  },
  {
   "cell_type": "code",
   "execution_count": 1,
   "id": "e45dbea0-e69b-46a8-85d1-3406a47db30b",
   "metadata": {},
   "outputs": [],
   "source": [
    "import os, time, copy, math, numpy as np\n",
    "import torch, torch.nn as nn\n",
    "from torch.utils.data import DataLoader\n",
    "from torchvision import datasets, transforms, models\n",
    "import matplotlib.pyplot as plt"
   ]
  },
  {
   "cell_type": "code",
   "execution_count": 2,
   "id": "7a037192-ee8e-40f8-a063-62c05917dc37",
   "metadata": {},
   "outputs": [],
   "source": [
    "device = torch.device(\"mps\")"
   ]
  },
  {
   "cell_type": "code",
   "execution_count": 3,
   "id": "bc9bb3a0-7993-44fd-8144-7a265ff34a07",
   "metadata": {},
   "outputs": [],
   "source": [
    "SEED = 42\n",
    "def set_seed(seed = SEED):\n",
    "    import random\n",
    "    random.seed(seed)\n",
    "    np.random.seed(seed)\n",
    "    torch.manual_seed(seed)\n",
    "    torch.cuda.manual_seed_all(seed)\n",
    "set_seed()"
   ]
  },
  {
   "cell_type": "code",
   "execution_count": 4,
   "id": "be5da0d8-361a-4f9c-be92-5673eb52a278",
   "metadata": {},
   "outputs": [],
   "source": [
    "DATA_ROOT = \"./data/cats_dogs\"\n",
    "IMG_SIZE = 224\n",
    "BATCH_T = 64\n",
    "BATCH_V = 128\n",
    "NUM_WORKERS = 2\n",
    "EPOCHS = 9"
   ]
  },
  {
   "cell_type": "markdown",
   "id": "1c4d81f8-c97f-42f7-a5e8-00603ecb5642",
   "metadata": {},
   "source": [
    "# 2. Data"
   ]
  },
  {
   "cell_type": "code",
   "execution_count": 10,
   "id": "340fe6e1-61e3-400a-bd08-b75a9b73ddcc",
   "metadata": {},
   "outputs": [
    {
     "name": "stdout",
     "output_type": "stream",
     "text": [
      "Downloading data from https://storage.googleapis.com/mledu-datasets/cats_and_dogs_filtered.zip\n",
      "68606236/68606236 [==============================] - 2s 0us/step\n"
     ]
    }
   ],
   "source": [
    "import tensorflow as tf \n",
    "DATASET_URL = \"https://storage.googleapis.com/mledu-datasets/cats_and_dogs_filtered.zip\"\n",
    "\n",
    "zip_path = tf.keras.utils.get_file(\n",
    "    fname=\"cats_and_dogs_filtered.zip\",\n",
    "    origin=DATASET_URL,\n",
    "    extract=True,\n",
    "    cache_dir=DATA_ROOT,          # 自定义根目录\n",
    ")"
   ]
  },
  {
   "cell_type": "code",
   "execution_count": 11,
   "id": "4a5ed81a-3e5c-4454-97a4-e78aecd69711",
   "metadata": {},
   "outputs": [
    {
     "name": "stdout",
     "output_type": "stream",
     "text": [
      "Classes: ['cats', 'dogs']\n"
     ]
    }
   ],
   "source": [
    "train_tfms = transforms.Compose([\n",
    "    transforms.Resize((IMG_SIZE, IMG_SIZE)), #resize to 224,224\n",
    "    transforms.RandomHorizontalFlip(),\n",
    "    transforms.RandomResizedCrop(IMG_SIZE, scale=(0.8, 1.0)),\n",
    "    transforms.ToTensor(),\n",
    "    transforms.Normalize([0.485, 0.456, 0.406],[0.229, 0.224, 0.225])\n",
    "])\n",
    "\n",
    "val_tfms = transforms.Compose([\n",
    "    transforms.Resize((IMG_SIZE, IMG_SIZE)),\n",
    "    transforms.ToTensor(),\n",
    "    transforms.Normalize([0.485, 0.456, 0.406],[0.229, 0.224, 0.225])\n",
    "])\n",
    "\n",
    "train_dir = os.path.join(DATA_ROOT, \"train\")\n",
    "val_dir = os.path.join(DATA_ROOT, \"val\")\n",
    "\n",
    "train_set = datasets.ImageFolder(train_dir, transform=train_tfms)\n",
    "val_set = datasets.ImageFolder(val_dir, transform=val_tfms)\n",
    "\n",
    "num_classes = len(train_set.classes)\n",
    "class_names = train_set.classes\n",
    "\n",
    "print(f\"Classes: {class_names}\")\n",
    "\n",
    "train_loader = DataLoader(train_set, batch_size=BATCH_T, shuffle=True, num_workers=NUM_WORKERS, pin_memory=True)\n",
    "val_loader = DataLoader(val_set, batch_size=BATCH_V, shuffle=False, num_workers=NUM_WORKERS, pin_memory=True)"
   ]
  },
  {
   "cell_type": "markdown",
   "id": "b326cfd1-2c2f-4fcf-bedf-9ba40af4b4fa",
   "metadata": {},
   "source": [
    "# 3. Models + Modes"
   ]
  },
  {
   "cell_type": "markdown",
   "id": "cd573a26-cfda-41eb-88bf-56e186e5f600",
   "metadata": {},
   "source": [
    "PlainCNN/ResNet-18/DenseNet-121/VGG_16"
   ]
  },
  {
   "cell_type": "code",
   "execution_count": 12,
   "id": "275f3032-2c0a-469b-b4f8-b4435162e09d",
   "metadata": {},
   "outputs": [],
   "source": [
    "def conv_bn_relu(cin, cout, k=3, s=1, p=1):\n",
    "    return nn.Sequential(\n",
    "        nn.Conv2d(cin, cout, kernel_size=k, stride=s, padding=p, bias=False),\n",
    "        nn.BatchNorm2d(cout),\n",
    "        nn.ReLU(inplace=True),\n",
    "    )"
   ]
  },
  {
   "cell_type": "code",
   "execution_count": 14,
   "id": "a05202b2-b55a-440e-b16d-e519542aec69",
   "metadata": {},
   "outputs": [],
   "source": [
    "class PlainCNN(nn.Module):\n",
    "    def __init__(self, in_ch=3, num_classes=2):\n",
    "        super().__init__()\n",
    "        self.enc = nn.Sequential(\n",
    "            conv_bn_relu(in_ch, 32),\n",
    "            nn.MaxPool2d(2),\n",
    "            conv_bn_relu(32, 64),\n",
    "            nn.MaxPool2d(2),\n",
    "            conv_bn_relu(64, 128),\n",
    "            nn.MaxPool2d(2),\n",
    "            conv_bn_relu(128, 256),\n",
    "            nn.MaxPool2d(2),\n",
    "        )\n",
    "        self.head = nn.Sequential(\n",
    "            nn.AdaptiveAvgPool2d(1), #GLOABAL AVERAGE POOL no matter the input shape, out put N * 256 * 1 * 1\n",
    "            nn.Flatten(),\n",
    "            nn.Linear(256, num_classes)\n",
    "        )\n",
    "\n",
    "        #Kaiming init\n",
    "        for m in self.modules():\n",
    "            if isinstance(m, nn.Conv2d):\n",
    "                nn.init.kaiming_normal_(m.weight, mode=\"fan_out\", nonlinearity=\"relu\")\n",
    "            elif isinstance(m, nn.BatchNorm2d):\n",
    "                nn.init.ones_(m.weight)\n",
    "                nn.init.zeros_(m.bias)\n",
    "\n",
    "    def forward(self, x):\n",
    "        x = self.enc(x)\n",
    "        x = self.head(x)\n",
    "        return x"
   ]
  },
  {
   "cell_type": "code",
   "execution_count": 15,
   "id": "19795423-4cac-48dd-adbd-4b949b3551c7",
   "metadata": {},
   "outputs": [],
   "source": [
    "def count_params(model):\n",
    "    return sum(p.numel() for p in model.parameters())"
   ]
  },
  {
   "cell_type": "code",
   "execution_count": 17,
   "id": "a78b01e7-bb55-41a3-91bc-06da036569e0",
   "metadata": {},
   "outputs": [],
   "source": [
    "def _weights_or_none_resnet18(mode):\n",
    "    if mode == \"scratch\":\n",
    "        return None\n",
    "    else:\n",
    "        return models.ResNet18_Weights.IMAGENET1K_V1"
   ]
  },
  {
   "cell_type": "code",
   "execution_count": 21,
   "id": "c655445f-30a1-490b-ba25-4d833a9c4e33",
   "metadata": {},
   "outputs": [],
   "source": [
    "def _weights_or_none_densenet121(mode):\n",
    "    if mode == \"scratch\":\n",
    "        return None\n",
    "    else:\n",
    "        return models.DenseNet121_Weights.IMAGENET1K_V1"
   ]
  },
  {
   "cell_type": "code",
   "execution_count": 19,
   "id": "5a0f4007-df3c-4238-9b9a-bc11bd78fcef",
   "metadata": {},
   "outputs": [],
   "source": [
    "def _weights_or_none_vgg16(mode):\n",
    "    if mode == \"scratch\":\n",
    "        return None\n",
    "    else:\n",
    "        return models.VGG16_Weights.IMAGENET1K_V1"
   ]
  },
  {
   "cell_type": "code",
   "execution_count": 20,
   "id": "5e41f243-4528-4c22-939d-d52e69b56fb4",
   "metadata": {},
   "outputs": [],
   "source": [
    "def build_plaincnn(mode=\"scratch\"):\n",
    "    model = PlainCNN(num_classes=num_classes)\n",
    "    return model.to(device), [{\"params\": model.parameters(), \"lr\":1e-3}]"
   ]
  },
  {
   "cell_type": "code",
   "execution_count": 22,
   "id": "f73ee572-ff85-4c2f-805a-e09d3a3e70ff",
   "metadata": {},
   "outputs": [],
   "source": [
    "def build_resnet18(mode=\"scratch\"):\n",
    "    w = _weights_or_none_resnet18(mode)\n",
    "    model = models.resnet18(weights=w)\n",
    "    in_feat = model.fc.in_features # last feature dimension\n",
    "    model.fc = nn.Linear(in_feat, num_classes)\n",
    "\n",
    "    params = []\n",
    "    if mode == \"scratch\":\n",
    "        for p in model.parameters():\n",
    "            p.requires_grad = True\n",
    "        params = [{\"params\": model.parameters(), \"lr\": 1e-3}]\n",
    "\n",
    "    elif mode == \"freeze\":\n",
    "        for p in model.parameters():\n",
    "            p.requires_grad = False\n",
    "        for p in model.fc.parameters():\n",
    "            p.requires_grad = True\n",
    "        params = [{\"params\": model.fc.parameters(), \"lr\": 3e-3}]\n",
    "\n",
    "    elif mode == \"finetune\":\n",
    "        for p in model.parameters(): p.requires_grad = False\n",
    "        for p in model.layer4.parameters(): p.requires_grad = True  # unfreeze last stage / 解冻最后stage\n",
    "        for p in model.fc.parameters():    p.requires_grad = True\n",
    "        params = [\n",
    "            {\"params\": model.layer4.parameters(), \"lr\": 5e-4},\n",
    "            {\"params\": model.fc.parameters(),      \"lr\": 1e-3},\n",
    "        ]\n",
    "    return model.to(device), params"
   ]
  },
  {
   "cell_type": "code",
   "execution_count": 23,
   "id": "b1df1698-fa94-4420-97a4-80ec2e085d98",
   "metadata": {},
   "outputs": [],
   "source": [
    "def build_densenet121(mode=\"scratch\"):\n",
    "    w = _weights_or_none_densenet121(mode)\n",
    "    model = models.densenet121(weights=w)\n",
    "    in_feat = model.classifier.in_features\n",
    "    model.classifier = nn.Linear(in_feat, num_classes)\n",
    "\n",
    "    if mode == \"scratch\":\n",
    "        for p in model.parameters(): p.requires_grad = True\n",
    "        params = [{\"params\": model.parameters(), \"lr\": 1e-3}]\n",
    "    elif mode == \"freeze\":\n",
    "        for p in model.parameters(): p.requires_grad = False\n",
    "        for p in model.classifier.parameters(): p.requires_grad = True\n",
    "        params = [{\"params\": model.classifier.parameters(), \"lr\": 3e-3}]\n",
    "    elif mode == \"finetune\":\n",
    "        for p in model.parameters(): p.requires_grad = False\n",
    "        # Unfreeze last denseblock (features.denseblock4) / 解冻最后一个denseblock\n",
    "        for p in model.features.denseblock4.parameters(): p.requires_grad = True\n",
    "        for p in model.classifier.parameters():           p.requires_grad = True\n",
    "        params = [\n",
    "            {\"params\": model.features.denseblock4.parameters(), \"lr\": 5e-4},\n",
    "            {\"params\": model.classifier.parameters(),           \"lr\": 1e-3},\n",
    "        ]\n",
    "    return model.to(device), params"
   ]
  },
  {
   "cell_type": "code",
   "execution_count": 24,
   "id": "3ad0a0d9-66e4-4946-996e-47a7665a1f56",
   "metadata": {},
   "outputs": [],
   "source": [
    "def build_vgg16(mode=\"scratch\"):\n",
    "    w = _weights_or_none_vgg16(mode)\n",
    "    model = models.vgg16(weights=w)\n",
    "    in_feat = model.classifier[-1].in_features\n",
    "    # Replace the final classifier layer (keep earlier FCs) / 仅替换最后一层分类器\n",
    "    model.classifier[-1] = nn.Linear(in_feat, num_classes)\n",
    "\n",
    "    if mode == \"scratch\":\n",
    "        for p in model.parameters(): p.requires_grad = True\n",
    "        params = [{\"params\": model.parameters(), \"lr\": 1e-3}]\n",
    "    elif mode == \"freeze\":\n",
    "        for p in model.features.parameters(): p.requires_grad = False # freeze conv backbone / 冻结卷积骨干\n",
    "        for p in model.classifier.parameters(): p.requires_grad = True\n",
    "        params = [{\"params\": model.classifier.parameters(), \"lr\": 1e-3}]\n",
    "    elif mode == \"finetune\":\n",
    "        # Typical finetune: unfreeze top conv block (features[24:]) + classifier / 解冻顶层卷积块+分类器\n",
    "        for p in model.parameters(): p.requires_grad = False\n",
    "        for p in model.features[24:].parameters(): p.requires_grad = True\n",
    "        for p in model.classifier.parameters():    p.requires_grad = True\n",
    "        params = [\n",
    "            {\"params\": model.features[24:].parameters(), \"lr\": 5e-4},\n",
    "            {\"params\": model.classifier.parameters(),     \"lr\": 1e-3},\n",
    "        ]\n",
    "    return model.to(device), params"
   ]
  },
  {
   "cell_type": "code",
   "execution_count": 25,
   "id": "9355c456-6aaa-4cb1-a73c-d16bb2868a2f",
   "metadata": {},
   "outputs": [],
   "source": [
    "BUILDERS = {\n",
    "    \"plaincnn\":   build_plaincnn,\n",
    "    \"resnet18\":   build_resnet18,\n",
    "    \"densenet121\":build_densenet121,\n",
    "    \"vgg16\":      build_vgg16,\n",
    "}"
   ]
  },
  {
   "cell_type": "markdown",
   "id": "6a33a937-12de-467e-9a0f-bb71e4db33b9",
   "metadata": {},
   "source": [
    "# 4. Train and eval"
   ]
  },
  {
   "cell_type": "code",
   "execution_count": 26,
   "id": "f74dcaef-5f3e-4a69-be49-45b0ac5ff915",
   "metadata": {},
   "outputs": [],
   "source": [
    "def accuracy_from_logits(logits, targets):\n",
    "    return (logits.argmax(1) == targets).float().mean().item()"
   ]
  },
  {
   "cell_type": "code",
   "execution_count": 27,
   "id": "edadc222-b01a-46ee-8ec3-e4a58eaf1155",
   "metadata": {},
   "outputs": [],
   "source": [
    "@torch.no_grad()\n",
    "def evaluate(model, loader, criterion):\n",
    "    model.eval()\n",
    "    tot_loss, tot_acc, n = 0.0, 0.0, 0\n",
    "    for x,y in loader:\n",
    "        x,y = x.to(device), y.to(device)\n",
    "        out = model(x)\n",
    "        loss = criterion(out, y)\n",
    "        bs = x.size(0)\n",
    "        tot_loss += loss.item() * bs\n",
    "        tot_acc  += accuracy_from_logits(out, y) * bs\n",
    "        n += bs\n",
    "    return tot_loss / n, tot_acc / n"
   ]
  },
  {
   "cell_type": "code",
   "execution_count": 28,
   "id": "f55e0da6-a6ea-4037-b576-217de1abfd3f",
   "metadata": {},
   "outputs": [],
   "source": [
    "def train_one_epoch(model, loader, optimizer, criterion):\n",
    "    model.train()\n",
    "    tot_loss, tot_acc, n = 0.0, 0.0, 0\n",
    "    for x,y in loader:\n",
    "        x,y = x.to(device), y.to(device)\n",
    "        optimizer.zero_grad(set_to_none=True)  # clear grads / 清梯度\n",
    "        out = model(x)\n",
    "        loss = criterion(out, y)\n",
    "        loss.backward()                        # backprop / 反向传播\n",
    "        optimizer.step()                       # update / 更新参数\n",
    "        bs = x.size(0)\n",
    "        tot_loss += loss.item() * bs\n",
    "        tot_acc  += accuracy_from_logits(out, y) * bs\n",
    "        n += bs\n",
    "    return tot_loss / n, tot_acc / n"
   ]
  },
  {
   "cell_type": "markdown",
   "id": "d4b68faf-352d-463c-a237-f027a8e2046f",
   "metadata": {},
   "source": [
    "# 5. Rund one model + one mode"
   ]
  },
  {
   "cell_type": "code",
   "execution_count": 33,
   "id": "2b2f109f-4ed9-4856-9a49-b36ec129af7f",
   "metadata": {},
   "outputs": [],
   "source": [
    "def run_experiment(arch=\"resnet18\", mode=\"freeze\", epochs=EPOCHS, wd=1e-4):\n",
    "    \"\"\"\n",
    "    arch: 'plaincnn' | 'resnet18' | 'densenet121' | 'vgg16'\n",
    "    mode: 'scratch'  | 'freeze'   | 'finetune'\n",
    "    \"\"\"\n",
    "    build = BUILDERS[arch]\n",
    "    model, param_groups = build(mode)\n",
    "    optimizer = torch.optim.AdamW(param_groups, weight_decay=wd)\n",
    "    criterion = nn.CrossEntropyLoss()\n",
    "\n",
    "    hist = {\"train_loss\":[], \"train_acc\":[], \"val_loss\":[], \"val_acc\":[]}\n",
    "    t0 = time.time()\n",
    "    for ep in range(1, epochs+1):\n",
    "        trL, trA = train_one_epoch(model, train_loader, optimizer, criterion)\n",
    "        vaL, vaA = evaluate(model, val_loader, criterion)\n",
    "        hist[\"train_loss\"].append(trL); hist[\"train_acc\"].append(trA)\n",
    "        hist[\"val_loss\"].append(vaL);   hist[\"val_acc\"].append(vaA)\n",
    "        print(f\"[{arch:10s}|{mode:8s}] ep{ep:02d} | train {trL:.4f}/{trA:.4f} | val {vaL:.4f}/{vaA:.4f}\")\n",
    "    dur = time.time() - t0\n",
    "    params = count_params(model)\n",
    "    print(f\"=> {arch}|{mode}: params={params/1e6:.2f}M, time={dur:.1f}s\")\n",
    "\n",
    "    return model, hist, {\"arch\":arch, \"mode\":mode, \"params\":params, \"time_sec\":dur}"
   ]
  },
  {
   "cell_type": "markdown",
   "id": "64611922-8e9d-48b7-9ae2-8aaea17cbb89",
   "metadata": {},
   "source": [
    "# 6. Plot"
   ]
  },
  {
   "cell_type": "code",
   "execution_count": 30,
   "id": "ae1231c4-5fec-49aa-8948-9d186157f5e6",
   "metadata": {},
   "outputs": [],
   "source": [
    "def plot_error_curves(hists, labels, title=\"Cats vs Dogs: Error vs Epoch\"):\n",
    "    # error = 1 - acc / 误差 = 1 - 准确率\n",
    "    ep = range(1, len(hists[0][\"val_acc\"])+1)\n",
    "    plt.figure(figsize=(9,6))\n",
    "    for h, lab in zip(hists, labels):\n",
    "        plt.plot(ep, 1 - np.array(h[\"train_acc\"]), \"--\", label=f\"{lab} train\")\n",
    "        plt.plot(ep, 1 - np.array(h[\"val_acc\"]),   \"-\",  label=f\"{lab} val\")\n",
    "    plt.title(title); plt.xlabel(\"Epoch\"); plt.ylabel(\"Error (1-acc)\")\n",
    "    plt.grid(True); plt.legend(); plt.show()"
   ]
  },
  {
   "cell_type": "markdown",
   "id": "1583cb4d-a22a-451d-847b-c06db3409417",
   "metadata": {},
   "source": [
    "# 7. Run a compact suite"
   ]
  },
  {
   "cell_type": "code",
   "execution_count": 31,
   "id": "a02f1fb4-bf3c-4bca-bb3d-d8b250dff6bf",
   "metadata": {},
   "outputs": [],
   "source": [
    "SUITE = [\n",
    "    (\"plaincnn\", \"scratch\"),\n",
    "    (\"resnet18\", \"freeze\"),\n",
    "    (\"resnet18\", \"finetune\"),\n",
    "    (\"densenet121\", \"freeze\"),\n",
    "    (\"vgg16\", \"freeze\")\n",
    "]"
   ]
  },
  {
   "cell_type": "code",
   "execution_count": 34,
   "id": "06979a2f-0801-42c3-b9a6-f623fd10b8c3",
   "metadata": {},
   "outputs": [
    {
     "name": "stdout",
     "output_type": "stream",
     "text": [
      "[plaincnn  |scratch ] ep01 | train 0.6768/0.6115 | val 0.6552/0.6080\n",
      "[plaincnn  |scratch ] ep02 | train 0.6362/0.6265 | val 0.6790/0.5890\n",
      "[plaincnn  |scratch ] ep03 | train 0.6176/0.6620 | val 0.6181/0.6660\n",
      "[plaincnn  |scratch ] ep04 | train 0.6131/0.6690 | val 0.5836/0.7020\n",
      "[plaincnn  |scratch ] ep05 | train 0.5869/0.6830 | val 0.5773/0.6890\n",
      "[plaincnn  |scratch ] ep06 | train 0.5682/0.7080 | val 0.6512/0.6590\n",
      "[plaincnn  |scratch ] ep07 | train 0.5607/0.7165 | val 0.6160/0.7060\n",
      "[plaincnn  |scratch ] ep08 | train 0.5622/0.7090 | val 0.5508/0.7320\n",
      "[plaincnn  |scratch ] ep09 | train 0.5431/0.7355 | val 0.5927/0.7130\n",
      "=> plaincnn|scratch: params=0.39M, time=290.2s\n",
      "[resnet18  |freeze  ] ep01 | train 0.2508/0.8915 | val 0.0856/0.9700\n",
      "[resnet18  |freeze  ] ep02 | train 0.0993/0.9645 | val 0.0665/0.9780\n",
      "[resnet18  |freeze  ] ep03 | train 0.0871/0.9680 | val 0.0784/0.9640\n",
      "[resnet18  |freeze  ] ep04 | train 0.0913/0.9620 | val 0.0653/0.9770\n",
      "[resnet18  |freeze  ] ep05 | train 0.0730/0.9730 | val 0.0883/0.9630\n",
      "[resnet18  |freeze  ] ep06 | train 0.0777/0.9685 | val 0.0536/0.9770\n",
      "[resnet18  |freeze  ] ep07 | train 0.0835/0.9705 | val 0.0474/0.9850\n",
      "[resnet18  |freeze  ] ep08 | train 0.0653/0.9775 | val 0.0515/0.9810\n",
      "[resnet18  |freeze  ] ep09 | train 0.0581/0.9805 | val 0.0625/0.9730\n",
      "=> resnet18|freeze: params=11.18M, time=257.6s\n",
      "[resnet18  |finetune] ep01 | train 0.1205/0.9400 | val 0.0814/0.9700\n",
      "[resnet18  |finetune] ep02 | train 0.0357/0.9890 | val 0.0652/0.9730\n",
      "[resnet18  |finetune] ep03 | train 0.0207/0.9925 | val 0.0608/0.9740\n",
      "[resnet18  |finetune] ep04 | train 0.0132/0.9960 | val 0.0760/0.9760\n",
      "[resnet18  |finetune] ep05 | train 0.0047/0.9995 | val 0.0488/0.9770\n",
      "[resnet18  |finetune] ep06 | train 0.0050/0.9990 | val 0.0730/0.9730\n",
      "[resnet18  |finetune] ep07 | train 0.0091/0.9955 | val 0.0555/0.9780\n",
      "[resnet18  |finetune] ep08 | train 0.0126/0.9960 | val 0.0597/0.9820\n",
      "[resnet18  |finetune] ep09 | train 0.0278/0.9925 | val 0.0598/0.9790\n",
      "=> resnet18|finetune: params=11.18M, time=271.0s\n"
     ]
    },
    {
     "name": "stderr",
     "output_type": "stream",
     "text": [
      "Downloading: \"https://download.pytorch.org/models/densenet121-a639ec97.pth\" to /Users/mamba/.cache/torch/hub/checkpoints/densenet121-a639ec97.pth\n",
      "100%|█| 30.8M/30.8M [00:00<00:00, 47.3MB\n"
     ]
    },
    {
     "name": "stdout",
     "output_type": "stream",
     "text": [
      "[densenet121|freeze  ] ep01 | train 0.2424/0.8970 | val 0.0809/0.9710\n",
      "[densenet121|freeze  ] ep02 | train 0.0794/0.9715 | val 0.0436/0.9880\n",
      "[densenet121|freeze  ] ep03 | train 0.0554/0.9815 | val 0.0361/0.9870\n",
      "[densenet121|freeze  ] ep04 | train 0.0559/0.9790 | val 0.0329/0.9890\n",
      "[densenet121|freeze  ] ep05 | train 0.0524/0.9815 | val 0.0354/0.9900\n",
      "[densenet121|freeze  ] ep06 | train 0.0746/0.9715 | val 0.0433/0.9850\n",
      "[densenet121|freeze  ] ep07 | train 0.0588/0.9775 | val 0.0445/0.9810\n",
      "[densenet121|freeze  ] ep08 | train 0.0377/0.9880 | val 0.0270/0.9890\n",
      "[densenet121|freeze  ] ep09 | train 0.0454/0.9840 | val 0.0297/0.9880\n",
      "=> densenet121|freeze: params=6.96M, time=351.0s\n"
     ]
    },
    {
     "name": "stderr",
     "output_type": "stream",
     "text": [
      "Downloading: \"https://download.pytorch.org/models/vgg16-397923af.pth\" to /Users/mamba/.cache/torch/hub/checkpoints/vgg16-397923af.pth\n",
      "100%|█| 528M/528M [00:12<00:00, 43.9MB/s\n"
     ]
    },
    {
     "name": "stdout",
     "output_type": "stream",
     "text": [
      "[vgg16     |freeze  ] ep01 | train 0.5281/0.9275 | val 0.0503/0.9900\n",
      "[vgg16     |freeze  ] ep02 | train 0.1996/0.9710 | val 0.1458/0.9900\n",
      "[vgg16     |freeze  ] ep03 | train 0.1823/0.9840 | val 0.2018/0.9850\n",
      "[vgg16     |freeze  ] ep04 | train 0.0735/0.9880 | val 0.1701/0.9820\n",
      "[vgg16     |freeze  ] ep05 | train 0.1392/0.9880 | val 0.1888/0.9870\n",
      "[vgg16     |freeze  ] ep06 | train 0.2243/0.9835 | val 0.3665/0.9810\n",
      "[vgg16     |freeze  ] ep07 | train 0.1208/0.9910 | val 0.8091/0.9640\n",
      "[vgg16     |freeze  ] ep08 | train 0.1481/0.9905 | val 0.6809/0.9870\n",
      "[vgg16     |freeze  ] ep09 | train 0.3417/0.9850 | val 1.0312/0.9800\n",
      "=> vgg16|freeze: params=134.27M, time=2526.0s\n"
     ]
    },
    {
     "data": {
      "image/png": "[encoded data removed]",
      "text/plain": [
       "<Figure size 900x600 with 1 Axes>"
      ]
     },
     "metadata": {},
     "output_type": "display_data"
    },
    {
     "name": "stdout",
     "output_type": "stream",
     "text": [
      "\n",
      "=== Summary (Params, Best Val Acc) ===\n",
      "plaincnn     scratch   | params=  0.39M | best_val_acc=0.7320 | time=290.2s\n",
      "resnet18     freeze    | params= 11.18M | best_val_acc=0.9850 | time=257.6s\n",
      "resnet18     finetune  | params= 11.18M | best_val_acc=0.9820 | time=271.0s\n",
      "densenet121  freeze    | params=  6.96M | best_val_acc=0.9900 | time=351.0s\n",
      "vgg16        freeze    | params=134.27M | best_val_acc=0.9900 | time=2526.0s\n"
     ]
    }
   ],
   "source": [
    "hists, labels, infos = [], [], []\n",
    "for (arch, mode) in SUITE:\n",
    "    model, hist, info = run_experiment(arch=arch, mode=mode, epochs=EPOCHS)\n",
    "    hists.append(hist)\n",
    "    labels.append(f\"{arch}-{mode}\")\n",
    "    infos.append(info)\n",
    "\n",
    "plot_error_curves(hists, labels, title=\"Cats vs Dogs (CNN Final): Train/Val Error\")\n",
    "\n",
    "# Print summary table / 打印总结表\n",
    "print(\"\\n=== Summary (Params, Best Val Acc) ===\")\n",
    "for h, info in zip(hists, infos):\n",
    "    best_val = max(h[\"val_acc\"])\n",
    "    print(f\"{info['arch']:<12s} {info['mode']:<9s} | params={info['params']/1e6:>6.2f}M | best_val_acc={best_val:.4f} | time={info['time_sec']:.1f}s\")"
   ]
  },
  {
   "cell_type": "code",
   "execution_count": null,
   "id": "eaa53723-3692-42f4-aedb-c80ce72acd17",
   "metadata": {},
   "outputs": [],
   "source": []
  }
 ],
 "metadata": {
  "kernelspec": {
   "display_name": "Python 3 (ipykernel)",
   "language": "python",
   "name": "python3"
  },
  "language_info": {
   "codemirror_mode": {
    "name": "ipython",
    "version": 3
   },
   "file_extension": ".py",
   "mimetype": "text/x-python",
   "name": "python",
   "nbconvert_exporter": "python",
   "pygments_lexer": "ipython3",
   "version": "3.10.13"
  }
 },
 "nbformat": 4,
 "nbformat_minor": 5
}
