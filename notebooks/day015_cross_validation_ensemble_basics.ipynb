{
 "cells": [
  {
   "cell_type": "markdown",
   "id": "f26bd4b0-5ad7-489f-bb0f-7956632e3056",
   "metadata": {},
   "source": [
    "# 1. Cross Validation"
   ]
  },
  {
   "cell_type": "markdown",
   "id": "2c7e159b-1d66-423b-bba1-c5c0e5a4731e",
   "metadata": {},
   "source": [
    "## 1.1 cross_val_score() in sklearn"
   ]
  },
  {
   "cell_type": "markdown",
   "id": "60c3d652-8d16-452b-9795-e327afc37003",
   "metadata": {},
   "source": [
    "**`cross_val_score` 是聪明的**，它会自动根据任务类型选用合适的交叉验证策略：\n",
    "\n",
    "- 分类 ➜ `StratifiedKFold`\n",
    "- 回归 ➜ `KFold`"
   ]
  },
  {
   "cell_type": "markdown",
   "id": "a888a909-6aea-474e-92e4-35d5e9e3d9c7",
   "metadata": {},
   "source": [
    "### 1.1.1 cross_val_score() for kfold"
   ]
  },
  {
   "cell_type": "code",
   "execution_count": 1,
   "id": "b624c3b0-035b-4bbd-a828-90e6cc9d51c9",
   "metadata": {},
   "outputs": [],
   "source": [
    "from sklearn.datasets import load_diabetes\n",
    "from sklearn.linear_model import LinearRegression\n",
    "from sklearn.model_selection import cross_val_score"
   ]
  },
  {
   "cell_type": "code",
   "execution_count": 3,
   "id": "75ca3558-760c-4a16-a953-fc99593da18c",
   "metadata": {},
   "outputs": [],
   "source": [
    "X_reg, y_reg = load_diabetes(return_X_y = True)\n",
    "reg_model = LinearRegression()\n",
    "reg_scores = cross_val_score(reg_model, X_reg, y_reg, cv=5, scoring=\"neg_mean_squared_error\") #cv=kfold or stratified to explicitely, \n",
    "#only number cv=5, then cross_val_score will determin use which determine on regression or classification"
   ]
  },
  {
   "cell_type": "code",
   "execution_count": 4,
   "id": "17e4203d-5067-4047-8741-4e1d750fc8b2",
   "metadata": {},
   "outputs": [
    {
     "name": "stdout",
     "output_type": "stream",
     "text": [
      "每折 MSE: [-2779.92344921 -3028.83633883 -3237.6875877  -3008.74648884\n",
      " -2910.21268776]\n",
      "平均 MSE: -2993.08131046933\n"
     ]
    }
   ],
   "source": [
    "print(\"每折 MSE:\", reg_scores)\n",
    "print(\"平均 MSE:\", reg_scores.mean())"
   ]
  },
  {
   "cell_type": "markdown",
   "id": "0a8192da-1f93-40b0-8403-409b8d23a2ac",
   "metadata": {},
   "source": [
    "### 1.1.2 cross_val_score() for stratifiedkfold"
   ]
  },
  {
   "cell_type": "code",
   "execution_count": 5,
   "id": "d0803f25-e736-49c6-933f-5029465146e4",
   "metadata": {},
   "outputs": [],
   "source": [
    "from sklearn.datasets import load_iris\n",
    "from sklearn.svm import SVC\n",
    "from sklearn.model_selection import cross_val_score"
   ]
  },
  {
   "cell_type": "code",
   "execution_count": 6,
   "id": "163ea593-7f4e-4457-81dd-6de580eed520",
   "metadata": {},
   "outputs": [],
   "source": [
    "X_clf, y_clf = load_iris(return_X_y=True)\n",
    "clf_model = SVC(kernel=\"linear\")\n",
    "clf_scores = cross_val_score(clf_model, X_clf, y_clf, cv=5, scoring=\"accuracy\")"
   ]
  },
  {
   "cell_type": "code",
   "execution_count": 8,
   "id": "a3b62e01-cea2-440d-9dbc-012d072c342f",
   "metadata": {},
   "outputs": [
    {
     "name": "stdout",
     "output_type": "stream",
     "text": [
      "每折准确率: [0.96666667 1.         0.96666667 0.96666667 1.        ]\n",
      "平均准确率: 0.9800000000000001\n"
     ]
    }
   ],
   "source": [
    "print(\"每折准确率:\", clf_scores)\n",
    "print(\"平均准确率:\", clf_scores.mean())"
   ]
  },
  {
   "cell_type": "markdown",
   "id": "1e7ff47e-5987-4990-9a1a-2ef6e3f7a00b",
   "metadata": {},
   "source": [
    "## 1.2 Kfold in sklearn"
   ]
  },
  {
   "cell_type": "code",
   "execution_count": 9,
   "id": "b2f279df-8a25-45e6-8558-559738083cfb",
   "metadata": {},
   "outputs": [],
   "source": [
    "n_samples = len(X_reg)"
   ]
  },
  {
   "cell_type": "code",
   "execution_count": 16,
   "id": "12e6cac9-158c-475e-9957-589391c9cad4",
   "metadata": {},
   "outputs": [],
   "source": [
    "from sklearn.model_selection import KFold\n",
    "import matplotlib.pyplot as plt\n",
    "import numpy as np"
   ]
  },
  {
   "cell_type": "code",
   "execution_count": 17,
   "id": "af0c6a2a-ff94-46e2-b60b-9c3763b0e89b",
   "metadata": {},
   "outputs": [],
   "source": [
    "kf = KFold(n_splits=5, shuffle=True, random_state=42)\n",
    "splits = list(kf.split(X_reg))"
   ]
  },
  {
   "cell_type": "code",
   "execution_count": 18,
   "id": "f348787e-50ec-4113-8722-babcde4251e9",
   "metadata": {},
   "outputs": [
    {
     "data": {
      "image/png": "[encoded data removed]",
      "text/plain": [
       "<Figure size 1000x300 with 1 Axes>"
      ]
     },
     "metadata": {},
     "output_type": "display_data"
    }
   ],
   "source": [
    "#visualize index in each fold\n",
    "\n",
    "fig, ax = plt.subplots(figsize=(10, 3))\n",
    "for fold, (train_idx, val_idx) in enumerate(splits):\n",
    "    y_fold = np.full(n_samples, -1) #initialize to -1 for non-selected\n",
    "    y_fold[val_idx] = fold\n",
    "    ax.scatter(range(n_samples), [fold] * n_samples, c=y_fold, cmap=\"tab10\", marker=\"|\", s=80)\n",
    "\n",
    "ax.set_title(\"Sklearn KFold Index Visualization (5 folds)\")\n",
    "ax.set_xlabel(\"Sample Index\")\n",
    "ax.set_ylabel(\"Fold\")\n",
    "ax.set_yticks(range(5))\n",
    "plt.tight_layout()\n",
    "plt.grid(True)\n",
    "plt.show()"
   ]
  },
  {
   "cell_type": "markdown",
   "id": "fb334652-8705-4c6d-b758-cd9546bb66b6",
   "metadata": {},
   "source": [
    "## 1.3 StratifiedKFold in sklearn"
   ]
  },
  {
   "cell_type": "code",
   "execution_count": 23,
   "id": "b0f0649f-c308-498d-9339-4e91d3671088",
   "metadata": {},
   "outputs": [],
   "source": [
    "from sklearn.model_selection import StratifiedKFold"
   ]
  },
  {
   "cell_type": "code",
   "execution_count": 25,
   "id": "fe134649-951b-41f1-a628-ef8eb723f57e",
   "metadata": {},
   "outputs": [],
   "source": [
    "skf = StratifiedKFold(n_splits=5, shuffle=True, random_state=42)\n",
    "splits = list(skf.split(X_clf, y_clf))"
   ]
  },
  {
   "cell_type": "code",
   "execution_count": 27,
   "id": "d49d7bcf-0250-41f4-afc4-70c125be27bf",
   "metadata": {},
   "outputs": [
    {
     "data": {
      "image/png": "[encoded data removed]",
      "text/plain": [
       "<Figure size 1000x300 with 1 Axes>"
      ]
     },
     "metadata": {},
     "output_type": "display_data"
    }
   ],
   "source": [
    "fig, ax = plt.subplots(figsize=(10, 3))\n",
    "for fold, (train_idx, val_idx) in enumerate(splits):\n",
    "    y_vis = np.full(n_samples, -1)         # 所有样本初始为 -1，表示未参与验证集\n",
    "    y_vis[val_idx] = y_clf[val_idx]            # 验证集标记为其类别标签（用于上色）\n",
    "\n",
    "    ax.scatter(range(n_samples),           # 横轴为样本索引\n",
    "               [fold] * n_samples,         # 每一行对应一个 fold\n",
    "               c=y_vis,                    # 按照类别标签上色\n",
    "               cmap=\"tab10\", marker='|', s=80)\n",
    "\n",
    "ax.set_title(\"StratifiedKFold Index Visualization (5 folds)\")\n",
    "ax.set_xlabel(\"Sample Index\")\n",
    "ax.set_ylabel(\"Fold\")\n",
    "ax.set_yticks(range(5))\n",
    "plt.tight_layout()\n",
    "plt.grid(True)\n",
    "plt.show()"
   ]
  },
  {
   "cell_type": "markdown",
   "id": "132d5080-e89b-43c3-82a1-2b082415baae",
   "metadata": {},
   "source": [
    "## 1.4 KFold numpy"
   ]
  },
  {
   "cell_type": "code",
   "execution_count": 28,
   "id": "e0369bda-2d8a-4e3c-a562-3b3e3cfdafb6",
   "metadata": {},
   "outputs": [],
   "source": [
    "import numpy as np"
   ]
  },
  {
   "cell_type": "code",
   "execution_count": 34,
   "id": "13d9d102-cce3-4695-b752-d97d97dc08ef",
   "metadata": {},
   "outputs": [],
   "source": [
    "def kfold_indices(n_samples, n_splits=5, shuffle=True, random_state=None):\n",
    "    \"\"\"\n",
    "    手动实现 KFold 的索引生成器。\n",
    "\n",
    "    参数：\n",
    "    - n_samples: 样本数量（整数）\n",
    "    - n_splits: 折数\n",
    "    - shuffle: 是否在切分前打乱样本顺序\n",
    "    - random_state: 随机种子，便于结果复现\n",
    "\n",
    "    返回：\n",
    "    - 生成器：每次 yield 一个 (train_idx, val_idx) 元组\n",
    "    \"\"\"\n",
    "    indices = np.arange(n_samples)\n",
    "    if shuffle:\n",
    "        rng = np.random.RandomState(random_state)\n",
    "        rng.shuffle(indices) #shuffle the indices\n",
    "\n",
    "    # 确定每一折的大小（如果不能整除，前面若干折多一个样本）\n",
    "    fold_sizes = np.full(n_splits, n_samples // n_splits, dtype=int)\n",
    "    fold_sizes[:n_samples % n_splits] += 1 #eg 442 samples, for each val size is [89, 89, 88, 88, 88], then train is [353, 353, 354, 354, 354]\n",
    "\n",
    "    current = 0\n",
    "    for fold_size in fold_sizes:\n",
    "        val_idx = indices[current : current + fold_size]\n",
    "        train_idx = np.concatenate([indices[:current], indices[current + fold_size:]]) # add :current (before val set) + current + fold_size: (after val set)\n",
    "        yield train_idx, val_idx\n",
    "        current += fold_size"
   ]
  },
  {
   "cell_type": "code",
   "execution_count": 35,
   "id": "2fddb4e1-f15a-4111-b58f-2bb861da2b9e",
   "metadata": {},
   "outputs": [
    {
     "name": "stdout",
     "output_type": "stream",
     "text": [
      "442\n",
      "Fold 1:\n",
      "  Train size: 353 | Val size: 89\n",
      "  Train indices: [ 17  66 137 245  31]...\n",
      "  Val indices:   [287 211  72 321  73]...\n",
      "----------------------------------------\n",
      "Fold 2:\n",
      "  Train size: 353 | Val size: 89\n",
      "  Train indices: [287 211  72 321  73]...\n",
      "  Val indices:   [ 17  66 137 245  31]...\n",
      "----------------------------------------\n",
      "Fold 3:\n",
      "  Train size: 354 | Val size: 88\n",
      "  Train indices: [287 211  72 321  73]...\n",
      "  Val indices:   [250  59 111 204 410]...\n",
      "----------------------------------------\n",
      "Fold 4:\n",
      "  Train size: 354 | Val size: 88\n",
      "  Train indices: [287 211  72 321  73]...\n",
      "  Val indices:   [274 164 136 197 258]...\n",
      "----------------------------------------\n",
      "Fold 5:\n",
      "  Train size: 354 | Val size: 88\n",
      "  Train indices: [287 211  72 321  73]...\n",
      "  Val indices:   [212 295 403 251 431]...\n",
      "----------------------------------------\n"
     ]
    }
   ],
   "source": [
    "from sklearn.datasets import load_diabetes\n",
    "X, y = load_diabetes(return_X_y=True)\n",
    "\n",
    "n_samples = len(X)\n",
    "print(n_samples)\n",
    "kf = kfold_indices(n_samples, n_splits=5, shuffle=True, random_state=42)\n",
    "\n",
    "for i, (train_idx, val_idx) in enumerate(kf):\n",
    "    print(f\"Fold {i+1}:\")\n",
    "    print(f\"  Train size: {len(train_idx)} | Val size: {len(val_idx)}\")\n",
    "    print(f\"  Train indices: {train_idx[:5]}...\")  # 显示前5个\n",
    "    print(f\"  Val indices:   {val_idx[:5]}...\")\n",
    "    print(\"-\" * 40)"
   ]
  },
  {
   "cell_type": "markdown",
   "id": "b8f7c215-75f2-44eb-8f7d-6579404148e7",
   "metadata": {},
   "source": [
    "### 1.5 StratifiedKFold numpy"
   ]
  },
  {
   "cell_type": "code",
   "execution_count": 39,
   "id": "9def005e-4bec-433d-abb1-9bd03ab8c91f",
   "metadata": {},
   "outputs": [],
   "source": [
    "def stratified_kfold_indices(y, n_splits=5, shuffle=True, random_state=None):\n",
    "    \"\"\"\n",
    "    手动实现 StratifiedKFold 的索引生成器，保持每一折中类别分布比例一致。\n",
    "\n",
    "    参数：\n",
    "    - y: 标签数组（1D），支持多类别分类\n",
    "    - n_splits: 折数\n",
    "    - shuffle: 是否在切分前打乱每类样本顺序\n",
    "    - random_state: 随机种子\n",
    "\n",
    "    返回：\n",
    "    - 一个生成器，yield (train_idx, val_idx)\n",
    "    \"\"\"\n",
    "\n",
    "    y = np.array(y)\n",
    "    n_samples = len(y)\n",
    "\n",
    "    classes, y_indices = np.unique(y, return_inverse=True) # the returned y_indices is map the y element to class name, kind of like encode\n",
    "    n_classes = len(classes)\n",
    "\n",
    "    rng = np.random.RandomState(random_state)\n",
    "\n",
    "    per_class_indices = [np.where(y_indices == class_idx)[0] for class_idx in range(n_classes)] # will generate [[indices for class 0], [indices for class[1], ...]]\n",
    "\n",
    "\n",
    "    fold_indices = [[] for _ in range(n_splits)]\n",
    "\n",
    "    for class_indices in per_class_indices:\n",
    "        if shuffle:\n",
    "            rng.shuffle(class_indices)\n",
    "\n",
    "        fold_sizes = np.full(n_splits, len(class_indices) // n_splits, dtype=int)\n",
    "        fold_sizes[:len(class_indices) % n_splits] += 1\n",
    "\n",
    "        current = 0\n",
    "        for fold in range(n_splits):\n",
    "            start, stop = current, current + fold_sizes[fold]\n",
    "            fold_indices[fold].extend(class_indices[start : stop])\n",
    "            current = stop\n",
    "\n",
    "\n",
    "    for fold in range(n_splits):\n",
    "        val_idx = np.array(fold_indices[fold])\n",
    "        train_idx = np.array([i for i in range(n_samples) if i not in val_idx])\n",
    "        yield train_idx, val_idx"
   ]
  },
  {
   "cell_type": "code",
   "execution_count": 41,
   "id": "caff6ec0-0596-482f-ad41-eae331eead5a",
   "metadata": {},
   "outputs": [
    {
     "name": "stdout",
     "output_type": "stream",
     "text": [
      "X len: 150\n",
      "Fold 1: {0: 10, 1: 10, 2: 10}\n",
      "Fold 2: {0: 10, 1: 10, 2: 10}\n",
      "Fold 3: {0: 10, 1: 10, 2: 10}\n",
      "Fold 4: {0: 10, 1: 10, 2: 10}\n",
      "Fold 5: {0: 10, 1: 10, 2: 10}\n"
     ]
    }
   ],
   "source": [
    "from sklearn.datasets import load_iris\n",
    "\n",
    "# 加载分类数据\n",
    "X, y = load_iris(return_X_y=True)\n",
    "print(f\"X len: {len(X)}\")\n",
    "\n",
    "# 获取分层索引\n",
    "splits = stratified_kfold_indices(y, n_splits=5, shuffle=True, random_state=42)\n",
    "\n",
    "# 打印每一折验证集的类别分布\n",
    "for i, (_, val_idx) in enumerate(splits):\n",
    "    unique, counts = np.unique(y[val_idx], return_counts=True)\n",
    "    print(f\"Fold {i+1}: {dict(zip(unique, counts))}\")"
   ]
  },
  {
   "cell_type": "markdown",
   "id": "cc2384dd-e934-4edc-9628-423da30c5615",
   "metadata": {},
   "source": [
    "## 1.6 Cross_val_score numpy"
   ]
  },
  {
   "cell_type": "code",
   "execution_count": 42,
   "id": "1c6d6ec4-5aaa-42ae-b2d8-e7c30d6d7053",
   "metadata": {},
   "outputs": [],
   "source": [
    "from sklearn.base import clone\n",
    "from sklearn.metrics import accuracy_score, mean_squared_error"
   ]
  },
  {
   "cell_type": "code",
   "execution_count": 45,
   "id": "761802b1-74cb-489b-b33c-932b67e6bee5",
   "metadata": {},
   "outputs": [],
   "source": [
    "def cross_val_score_numpy(model, X, y, cv_generator, scoring=\"accuracy\"):\n",
    "    \"\"\"\n",
    "    使用 NumPy 实现的 cross_val_score，支持回归和分类。\n",
    "\n",
    "    参数：\n",
    "    - model: 支持 fit 和 predict 的模型（sklearn）\n",
    "    - X: 特征数组，形状 (n_samples, n_features)\n",
    "    - y: 标签数组，形状 (n_samples,)\n",
    "    - cv_generator: 由 KFold 或 StratifiedKFold 返回的索引生成器\n",
    "    - scoring: 'accuracy' 或 'neg_mean_squared_error'\n",
    "\n",
    "    返回：\n",
    "    - 每一折的评分列表（np.array）\n",
    "    \"\"\"\n",
    "\n",
    "    scores = []\n",
    "\n",
    "    for fold, (train_idx, val_idx) in enumerate(cv_generator):\n",
    "        X_train, y_train = X[train_idx], y[train_idx]\n",
    "        X_val, y_val = X[val_idx], y[val_idx]\n",
    "\n",
    "        model_clone = clone(model)\n",
    "        model_clone.fit(X_train, y_train)\n",
    "        y_pred = model_clone.predict(X_val)\n",
    "\n",
    "        if scoring == 'accuracy':\n",
    "            score = accuracy_score(y_val, y_pred)\n",
    "            #score = np.sum(y_val == y_pred) / len(y_val)\n",
    "        elif scoring == 'neg_mean_squared_error':\n",
    "            score = -mean_squared_error(y_val, y_pred)\n",
    "            #score = score = -np.mean((y_val - y_pred) ** 2)\n",
    "\n",
    "        scores.append(score)\n",
    "\n",
    "    return np.array(scores)"
   ]
  },
  {
   "cell_type": "code",
   "execution_count": 51,
   "id": "a95dc374-2efc-4174-8cee-2510abae32e8",
   "metadata": {},
   "outputs": [
    {
     "name": "stdout",
     "output_type": "stream",
     "text": [
      "每一折的准确率: [1.         0.96666667 0.96666667 0.93333333 0.96666667]\n",
      "平均准确率: 0.9666666666666668\n"
     ]
    }
   ],
   "source": [
    "from sklearn.datasets import load_iris\n",
    "from sklearn.linear_model import LogisticRegression\n",
    "\n",
    "X, y = load_iris(return_X_y=True)\n",
    "model = LogisticRegression(max_iter=1000)\n",
    "\n",
    "# 手动 StratifiedKFold（我们之前实现的函数）\n",
    "cv_gen = stratified_kfold_indices(y, n_splits=5, shuffle=True, random_state=42)\n",
    "\n",
    "scores = cross_val_score_numpy(model, X, y, cv_gen, scoring='accuracy')\n",
    "print(\"每一折的准确率:\", scores)\n",
    "print(\"平均准确率:\", scores.mean())"
   ]
  },
  {
   "cell_type": "code",
   "execution_count": 52,
   "id": "ffc170da-97e7-4e02-9a60-bcb8da536467",
   "metadata": {},
   "outputs": [
    {
     "name": "stdout",
     "output_type": "stream",
     "text": [
      "每一折的准确率: [1.         1.         0.93333333 0.96666667 0.96666667]\n",
      "平均准确率: 0.9733333333333334\n"
     ]
    }
   ],
   "source": [
    "scores = cross_val_score_numpy(model, X, y, KFold(n_splits=5, shuffle=True, random_state=42).split(X), scoring='accuracy')\n",
    "print(\"每一折的准确率:\", scores)\n",
    "print(\"平均准确率:\", scores.mean())"
   ]
  },
  {
   "cell_type": "code",
   "execution_count": 54,
   "id": "5557dc92-b889-4e46-9325-a82ee96afe9f",
   "metadata": {},
   "outputs": [
    {
     "name": "stdout",
     "output_type": "stream",
     "text": [
      "StratifiedKFold accuracy: 0.9666666666666668\n"
     ]
    }
   ],
   "source": [
    "from sklearn.model_selection import StratifiedKFold\n",
    "from sklearn.datasets import load_iris\n",
    "from sklearn.linear_model import LogisticRegression\n",
    "\n",
    "X, y = load_iris(return_X_y=True)\n",
    "skf = StratifiedKFold(n_splits=5, shuffle=True, random_state=42)\n",
    "\n",
    "model = LogisticRegression(max_iter=1000)\n",
    "cv_gen = skf.split(X, y)  # 注意：必须传入 y 用于分层\n",
    "\n",
    "scores = cross_val_score_numpy(model, X, y, cv_gen, scoring='accuracy')\n",
    "print(\"StratifiedKFold accuracy:\", scores.mean())"
   ]
  },
  {
   "cell_type": "code",
   "execution_count": 56,
   "id": "7e66b9c4-ba7d-4991-a937-17f8f33f9d11",
   "metadata": {},
   "outputs": [
    {
     "name": "stdout",
     "output_type": "stream",
     "text": [
      "StratifiedKFold accuracy: 0.9733333333333334\n"
     ]
    }
   ],
   "source": [
    "scores = cross_val_score(model, X, y, cv=5, scoring='accuracy')\n",
    "print(\"StratifiedKFold accuracy:\", scores.mean())"
   ]
  },
  {
   "cell_type": "code",
   "execution_count": 58,
   "id": "6411b552-8a27-43ee-b2db-8c491b6ac335",
   "metadata": {},
   "outputs": [
    {
     "name": "stdout",
     "output_type": "stream",
     "text": [
      "StratifiedKFold accuracy: 0.9733333333333334\n"
     ]
    }
   ],
   "source": [
    "cv_gen = kfold_indices(len(X), n_splits=5, shuffle=True, random_state=42)\n",
    "scores = cross_val_score_numpy(model, X, y, cv_gen, scoring='accuracy')\n",
    "print(\"StratifiedKFold accuracy:\", scores.mean())"
   ]
  },
  {
   "cell_type": "markdown",
   "id": "a7303c1c-e69d-4961-bd39-ce4183e8daba",
   "metadata": {},
   "source": [
    "# 2. GridSearchCV"
   ]
  },
  {
   "cell_type": "markdown",
   "id": "2f7372aa-9262-48d6-9148-4550dddf74a7",
   "metadata": {},
   "source": [
    "## 2.1 Sklearn gridsearchcv"
   ]
  },
  {
   "cell_type": "code",
   "execution_count": 60,
   "id": "0402f2db-f11f-4d33-b04a-81a168d70a0e",
   "metadata": {},
   "outputs": [],
   "source": [
    "from sklearn.model_selection import GridSearchCV"
   ]
  },
  {
   "cell_type": "code",
   "execution_count": 61,
   "id": "143d772c-41df-4ccf-8c41-694a587fb22f",
   "metadata": {},
   "outputs": [
    {
     "name": "stdout",
     "output_type": "stream",
     "text": [
      "最优参数: {'C': 1, 'gamma': 'scale', 'kernel': 'linear'}\n",
      "最优分数: 0.9800000000000001\n"
     ]
    }
   ],
   "source": [
    "# 加载数据\n",
    "X, y = load_iris(return_X_y=True)\n",
    "\n",
    "# 定义模型和搜索空间\n",
    "model = SVC()\n",
    "param_grid = {\n",
    "    'C': [0.1, 1, 10],\n",
    "    'kernel': ['linear', 'rbf'],\n",
    "    'gamma': ['scale', 'auto']\n",
    "}\n",
    "\n",
    "# 设置 GridSearchCV（默认 StratifiedKFold）\n",
    "grid_search = GridSearchCV(\n",
    "    estimator=model,\n",
    "    param_grid=param_grid,\n",
    "    scoring='accuracy',\n",
    "    cv=5,\n",
    "    return_train_score=True\n",
    ")\n",
    "\n",
    "# 执行搜索\n",
    "grid_search.fit(X, y)\n",
    "\n",
    "# 输出最优结果\n",
    "print(\"最优参数:\", grid_search.best_params_)\n",
    "print(\"最优分数:\", grid_search.best_score_)"
   ]
  },
  {
   "cell_type": "code",
   "execution_count": 63,
   "id": "18e3de00-d645-4069-9948-1d983cb57f84",
   "metadata": {},
   "outputs": [
    {
     "data": {
      "text/html": [
       "<div>\n",
       "<style scoped>\n",
       "    .dataframe tbody tr th:only-of-type {\n",
       "        vertical-align: middle;\n",
       "    }\n",
       "\n",
       "    .dataframe tbody tr th {\n",
       "        vertical-align: top;\n",
       "    }\n",
       "\n",
       "    .dataframe thead th {\n",
       "        text-align: right;\n",
       "    }\n",
       "</style>\n",
       "<table border=\"1\" class=\"dataframe\">\n",
       "  <thead>\n",
       "    <tr style=\"text-align: right;\">\n",
       "      <th></th>\n",
       "      <th>params</th>\n",
       "      <th>mean_test_score</th>\n",
       "      <th>std_test_score</th>\n",
       "      <th>rank_test_score</th>\n",
       "    </tr>\n",
       "  </thead>\n",
       "  <tbody>\n",
       "    <tr>\n",
       "      <th>4</th>\n",
       "      <td>{'C': 1, 'gamma': 'scale', 'kernel': 'linear'}</td>\n",
       "      <td>0.980000</td>\n",
       "      <td>0.016330</td>\n",
       "      <td>1</td>\n",
       "    </tr>\n",
       "    <tr>\n",
       "      <th>6</th>\n",
       "      <td>{'C': 1, 'gamma': 'auto', 'kernel': 'linear'}</td>\n",
       "      <td>0.980000</td>\n",
       "      <td>0.016330</td>\n",
       "      <td>1</td>\n",
       "    </tr>\n",
       "    <tr>\n",
       "      <th>7</th>\n",
       "      <td>{'C': 1, 'gamma': 'auto', 'kernel': 'rbf'}</td>\n",
       "      <td>0.980000</td>\n",
       "      <td>0.016330</td>\n",
       "      <td>1</td>\n",
       "    </tr>\n",
       "    <tr>\n",
       "      <th>9</th>\n",
       "      <td>{'C': 10, 'gamma': 'scale', 'kernel': 'rbf'}</td>\n",
       "      <td>0.980000</td>\n",
       "      <td>0.016330</td>\n",
       "      <td>1</td>\n",
       "    </tr>\n",
       "    <tr>\n",
       "      <th>11</th>\n",
       "      <td>{'C': 10, 'gamma': 'auto', 'kernel': 'rbf'}</td>\n",
       "      <td>0.980000</td>\n",
       "      <td>0.016330</td>\n",
       "      <td>1</td>\n",
       "    </tr>\n",
       "    <tr>\n",
       "      <th>0</th>\n",
       "      <td>{'C': 0.1, 'gamma': 'scale', 'kernel': 'linear'}</td>\n",
       "      <td>0.973333</td>\n",
       "      <td>0.013333</td>\n",
       "      <td>6</td>\n",
       "    </tr>\n",
       "    <tr>\n",
       "      <th>2</th>\n",
       "      <td>{'C': 0.1, 'gamma': 'auto', 'kernel': 'linear'}</td>\n",
       "      <td>0.973333</td>\n",
       "      <td>0.013333</td>\n",
       "      <td>6</td>\n",
       "    </tr>\n",
       "    <tr>\n",
       "      <th>8</th>\n",
       "      <td>{'C': 10, 'gamma': 'scale', 'kernel': 'linear'}</td>\n",
       "      <td>0.973333</td>\n",
       "      <td>0.038873</td>\n",
       "      <td>6</td>\n",
       "    </tr>\n",
       "    <tr>\n",
       "      <th>10</th>\n",
       "      <td>{'C': 10, 'gamma': 'auto', 'kernel': 'linear'}</td>\n",
       "      <td>0.973333</td>\n",
       "      <td>0.038873</td>\n",
       "      <td>6</td>\n",
       "    </tr>\n",
       "    <tr>\n",
       "      <th>5</th>\n",
       "      <td>{'C': 1, 'gamma': 'scale', 'kernel': 'rbf'}</td>\n",
       "      <td>0.966667</td>\n",
       "      <td>0.021082</td>\n",
       "      <td>10</td>\n",
       "    </tr>\n",
       "    <tr>\n",
       "      <th>3</th>\n",
       "      <td>{'C': 0.1, 'gamma': 'auto', 'kernel': 'rbf'}</td>\n",
       "      <td>0.946667</td>\n",
       "      <td>0.033993</td>\n",
       "      <td>11</td>\n",
       "    </tr>\n",
       "    <tr>\n",
       "      <th>1</th>\n",
       "      <td>{'C': 0.1, 'gamma': 'scale', 'kernel': 'rbf'}</td>\n",
       "      <td>0.920000</td>\n",
       "      <td>0.026667</td>\n",
       "      <td>12</td>\n",
       "    </tr>\n",
       "  </tbody>\n",
       "</table>\n",
       "</div>"
      ],
      "text/plain": [
       "                                              params  mean_test_score  \\\n",
       "4     {'C': 1, 'gamma': 'scale', 'kernel': 'linear'}         0.980000   \n",
       "6      {'C': 1, 'gamma': 'auto', 'kernel': 'linear'}         0.980000   \n",
       "7         {'C': 1, 'gamma': 'auto', 'kernel': 'rbf'}         0.980000   \n",
       "9       {'C': 10, 'gamma': 'scale', 'kernel': 'rbf'}         0.980000   \n",
       "11       {'C': 10, 'gamma': 'auto', 'kernel': 'rbf'}         0.980000   \n",
       "0   {'C': 0.1, 'gamma': 'scale', 'kernel': 'linear'}         0.973333   \n",
       "2    {'C': 0.1, 'gamma': 'auto', 'kernel': 'linear'}         0.973333   \n",
       "8    {'C': 10, 'gamma': 'scale', 'kernel': 'linear'}         0.973333   \n",
       "10    {'C': 10, 'gamma': 'auto', 'kernel': 'linear'}         0.973333   \n",
       "5        {'C': 1, 'gamma': 'scale', 'kernel': 'rbf'}         0.966667   \n",
       "3       {'C': 0.1, 'gamma': 'auto', 'kernel': 'rbf'}         0.946667   \n",
       "1      {'C': 0.1, 'gamma': 'scale', 'kernel': 'rbf'}         0.920000   \n",
       "\n",
       "    std_test_score  rank_test_score  \n",
       "4         0.016330                1  \n",
       "6         0.016330                1  \n",
       "7         0.016330                1  \n",
       "9         0.016330                1  \n",
       "11        0.016330                1  \n",
       "0         0.013333                6  \n",
       "2         0.013333                6  \n",
       "8         0.038873                6  \n",
       "10        0.038873                6  \n",
       "5         0.021082               10  \n",
       "3         0.033993               11  \n",
       "1         0.026667               12  "
      ]
     },
     "execution_count": 63,
     "metadata": {},
     "output_type": "execute_result"
    }
   ],
   "source": [
    "import pandas as pd\n",
    "\n",
    "# 将交叉验证结果转为 DataFrame 查看细节\n",
    "results_df = pd.DataFrame(grid_search.cv_results_)\n",
    "results_df = results_df.sort_values(by='mean_test_score', ascending=False)\n",
    "results_df[['params', 'mean_test_score', 'std_test_score', 'rank_test_score']]"
   ]
  },
  {
   "cell_type": "markdown",
   "id": "4987b559-bec5-4618-ba73-b9e10520712d",
   "metadata": {},
   "source": [
    "## 2.2 numpy grid search cv"
   ]
  },
  {
   "cell_type": "code",
   "execution_count": 64,
   "id": "cada93d9-04ea-4b8f-a2ff-5573f93642cb",
   "metadata": {},
   "outputs": [],
   "source": [
    "from itertools import product"
   ]
  },
  {
   "cell_type": "code",
   "execution_count": 65,
   "id": "3f1387c2-29c5-4f85-9be2-cf9ebf808167",
   "metadata": {},
   "outputs": [],
   "source": [
    "def grid_search_cv(model, X, y, param_grid, cv_generator, scoring=\"accuracy\"):\n",
    "\n",
    "    \"\"\"\n",
    "    使用 NumPy 手动实现的 GridSearchCV。\n",
    "    \n",
    "    参数：\n",
    "    - model: 拟合模型（如 SVC）\n",
    "    - X, y: 数据集\n",
    "    - param_grid: dict，超参数搜索空间\n",
    "    - cv_generator: KFold 或 StratifiedKFold 的 .split(X, y) 生成器\n",
    "    - scoring: 支持 'accuracy'（分类）\n",
    "\n",
    "    返回：\n",
    "    - results_df: DataFrame，每组参数组合及其平均分数\n",
    "    - best_params: 平均得分最高的参数组合\n",
    "    \"\"\"\n",
    "\n",
    "    keys, values = zip(*param_grid.items())\n",
    "    param_combinations = [dict(zip(keys, v)) for v in product(*values)]\n",
    "\n",
    "    results = []\n",
    "    for params in param_combinations:\n",
    "        cv = list(cv_generator)\n",
    "        scores = []\n",
    "        for train_idx, val_idx in cv:\n",
    "            X_train, y_train = X[train_idx], y[train_idx]\n",
    "            X_val, y_val = X[val_idx], y[val_idx]\n",
    "\n",
    "            # 克隆模型并设置参数\n",
    "            m = clone(model).set_params(**params)\n",
    "            m.fit(X_train, y_train)\n",
    "            y_pred = m.predict(X_val)\n",
    "\n",
    "            # 计算评分\n",
    "            if scoring == 'accuracy':\n",
    "                score = accuracy_score(y_val, y_pred)\n",
    "            elif scoring == 'neg_mean_squared_error':\n",
    "                score = -mean_squared_error(y_val, y_pred)\n",
    "\n",
    "            scores.append(score)\n",
    "\n",
    "        avg_score = np.mean(scores)\n",
    "        results.append({**params, 'mean_score': avg_score})\n",
    "\n",
    "    # 转为 DataFrame，找到最优参数\n",
    "    results_df = pd.DataFrame(results)\n",
    "    best_idx = results_df['mean_score'].idxmax()\n",
    "    best_params = results_df.iloc[best_idx][list(keys)].to_dict()\n",
    "\n",
    "    return results_df, best_params"
   ]
  },
  {
   "cell_type": "code",
   "execution_count": 67,
   "id": "3a82cc2f-e66e-4416-bf2d-7845b17c43f7",
   "metadata": {},
   "outputs": [
    {
     "name": "stdout",
     "output_type": "stream",
     "text": [
      "Best Parameters: {'C': 0.1, 'kernel': 'linear'}\n",
      "      C  kernel  mean_score\n",
      "0   0.1  linear    0.973333\n",
      "1   0.1     rbf         NaN\n",
      "2   1.0  linear         NaN\n",
      "3   1.0     rbf         NaN\n",
      "4  10.0  linear         NaN\n",
      "5  10.0     rbf         NaN\n"
     ]
    },
    {
     "name": "stderr",
     "output_type": "stream",
     "text": [
      "/Users/mamba/Documents/MOOC/ML/env/lib/python3.10/site-packages/numpy/core/fromnumeric.py:3504: RuntimeWarning: Mean of empty slice.\n",
      "  return _methods._mean(a, axis=axis, dtype=dtype,\n",
      "/Users/mamba/Documents/MOOC/ML/env/lib/python3.10/site-packages/numpy/core/_methods.py:129: RuntimeWarning: invalid value encountered in scalar divide\n",
      "  ret = ret.dtype.type(ret / rcount)\n"
     ]
    }
   ],
   "source": [
    "# 加载数据\n",
    "X, y = load_iris(return_X_y=True)\n",
    "\n",
    "# 模型与超参数空间\n",
    "model = SVC()\n",
    "param_grid = {\n",
    "    'C': [0.1, 1, 10],\n",
    "    'kernel': ['linear', 'rbf']\n",
    "}\n",
    "\n",
    "# 交叉验证折叠生成器（sklearn 的也可直接用）\n",
    "cv_generator = StratifiedKFold(n_splits=5, shuffle=True, random_state=42).split(X, y)\n",
    "\n",
    "# 手动 GridSearchCV\n",
    "results_df, best_params = grid_search_cv(model, X, y, param_grid, cv_generator, scoring='accuracy')\n",
    "\n",
    "print(\"Best Parameters:\", best_params)\n",
    "print(results_df)"
   ]
  },
  {
   "cell_type": "code",
   "execution_count": 68,
   "id": "4973e5e4-de2f-4a7d-9bed-e9ac59669423",
   "metadata": {},
   "outputs": [],
   "source": [
    "import matplotlib.pyplot as plt\n",
    "import seaborn as sns\n",
    "import pandas as pd\n",
    "\n",
    "def plot_grid_heatmap(results_df, x_param, y_param, score_param='mean_score'):\n",
    "    \"\"\"\n",
    "    绘制手动 GridSearchCV 的评分热力图。\n",
    "\n",
    "    参数：\n",
    "    - results_df: DataFrame，包含超参数组合与评分\n",
    "    - x_param: 横轴参数名（如 'C'）\n",
    "    - y_param: 纵轴参数名（如 'kernel'）\n",
    "    - score_param: 默认使用 'mean_score' 作为热力图的值\n",
    "    \"\"\"\n",
    "    # 转换成透视表（参数组合 -> 分数）\n",
    "    pivot_table = results_df.pivot(index=y_param, columns=x_param, values=score_param)\n",
    "\n",
    "    # 绘图\n",
    "    plt.figure(figsize=(8, 6))\n",
    "    sns.heatmap(pivot_table, annot=True, fmt=\".3f\", cmap=\"YlGnBu\")\n",
    "    plt.title(f\"Grid Search Mean Score Heatmap ({score_param})\")\n",
    "    plt.xlabel(x_param)\n",
    "    plt.ylabel(y_param)\n",
    "    plt.tight_layout()\n",
    "    plt.show()\n"
   ]
  },
  {
   "cell_type": "code",
   "execution_count": 69,
   "id": "24b9aa38-7d5f-42ad-8edb-06f83f68df7e",
   "metadata": {},
   "outputs": [
    {
     "data": {
      "image/png": "[encoded data removed]",
      "text/plain": [
       "<Figure size 800x600 with 2 Axes>"
      ]
     },
     "metadata": {},
     "output_type": "display_data"
    }
   ],
   "source": [
    "plot_grid_heatmap(results_df, x_param='C', y_param='kernel')"
   ]
  },
  {
   "cell_type": "markdown",
   "id": "c6ff2db5-0266-4bde-84b1-57ad6a98639c",
   "metadata": {},
   "source": [
    "# 3. Ensemble learning basics"
   ]
  },
  {
   "cell_type": "markdown",
   "id": "f8576898-f5b3-423f-b6fd-113f2140bdf9",
   "metadata": {},
   "source": [
    "## 3.1 Bagging, Eg. Random forest"
   ]
  },
  {
   "cell_type": "code",
   "execution_count": 70,
   "id": "da80f9b6-3946-4854-9790-bf7594a274d8",
   "metadata": {},
   "outputs": [
    {
     "name": "stdout",
     "output_type": "stream",
     "text": [
      "Random Forest Accuracy (5-fold): 0.967\n"
     ]
    }
   ],
   "source": [
    "from sklearn.ensemble import RandomForestClassifier\n",
    "from sklearn.datasets import load_iris\n",
    "from sklearn.model_selection import cross_val_score\n",
    "\n",
    "X, y = load_iris(return_X_y=True)\n",
    "\n",
    "rf = RandomForestClassifier(n_estimators=100, random_state=42)\n",
    "scores = cross_val_score(rf, X, y, cv=5)\n",
    "print(f\"Random Forest Accuracy (5-fold): {scores.mean():.3f}\")"
   ]
  },
  {
   "cell_type": "code",
   "execution_count": 72,
   "id": "b59a3c2c-35de-431f-b9ad-7b82c869aca4",
   "metadata": {},
   "outputs": [
    {
     "name": "stdout",
     "output_type": "stream",
     "text": [
      "Random Forest Accuracy (5-fold): 0.947\n"
     ]
    }
   ],
   "source": [
    "scores = cross_val_score_numpy(rf, X, y, StratifiedKFold(n_splits=5, shuffle=True, random_state=42).split(X, y))\n",
    "print(f\"Random Forest Accuracy (5-fold): {scores.mean():.3f}\")"
   ]
  },
  {
   "cell_type": "code",
   "execution_count": 78,
   "id": "4444a036-abe6-4672-810c-ddd0d9749a59",
   "metadata": {},
   "outputs": [],
   "source": [
    "import numpy as np\n",
    "from sklearn.tree import DecisionTreeClassifier\n",
    "\n",
    "class RandomForestClassifierScratch:\n",
    "    def __init__(self, n_estimators=10, max_features='sqrt', max_depth=None, bootstrap=True, random_state=None):\n",
    "        \"\"\"\n",
    "        简单版随机森林分类器（基于 sklearn 的决策树）\n",
    "\n",
    "        参数说明：\n",
    "        - n_estimators: 森林中树的数量\n",
    "        - max_features: 每棵树使用的特征数量（'sqrt'、'log2' 或 int）\n",
    "        - max_depth: 决策树最大深度\n",
    "        - bootstrap: 是否对样本有放回采样\n",
    "        - random_state: 随机种子（保证结果可复现）\n",
    "        \"\"\"\n",
    "        self.n_estimators = n_estimators\n",
    "        self.max_features = max_features\n",
    "        self.max_depth = max_depth\n",
    "        self.bootstrap = bootstrap\n",
    "        self.random_state = random_state\n",
    "        self.trees = []\n",
    "        self.features_indices = []\n",
    "\n",
    "        if random_state is not None:\n",
    "            np.random.seed(random_state)\n",
    "\n",
    "    def _sample(self, X, y):\n",
    "        \"\"\"\n",
    "        样本采样 + 特征采样\n",
    "\n",
    "        返回：\n",
    "        - X_sample: 采样后的特征\n",
    "        - y_sample: 采样后的标签\n",
    "        - features: 使用的特征索引\n",
    "        \"\"\"\n",
    "        n_samples, n_features = X.shape\n",
    "\n",
    "        # 对样本有放回采样\n",
    "        indices = np.random.choice(n_samples, size=n_samples, replace=self.bootstrap)\n",
    "\n",
    "        # 选择特征数量\n",
    "        if self.max_features == 'sqrt':\n",
    "            max_feats = int(np.sqrt(n_features))\n",
    "        elif self.max_features == 'log2':\n",
    "            max_feats = int(np.log2(n_features))\n",
    "        elif isinstance(self.max_features, int):\n",
    "            max_feats = self.max_features\n",
    "        else:\n",
    "            max_feats = n_features\n",
    "\n",
    "        # 随机选择特征索引\n",
    "        features = np.random.choice(n_features, size=max_feats, replace=False)\n",
    "\n",
    "        return X[indices][:, features], y[indices], features\n",
    "\n",
    "    def fit(self, X, y):\n",
    "        \"\"\"\n",
    "        拟合训练数据，构建多棵决策树\n",
    "        \"\"\"\n",
    "        self.trees = []\n",
    "        self.features_indices = []\n",
    "        self.classes_ = np.unique(y)\n",
    "\n",
    "        for _ in range(self.n_estimators):\n",
    "            X_sample, y_sample, feat_idx = self._sample(X, y)\n",
    "            tree = DecisionTreeClassifier(max_depth=self.max_depth)\n",
    "            tree.fit(X_sample, y_sample)\n",
    "            self.trees.append(tree)\n",
    "            self.features_indices.append(feat_idx)\n",
    "\n",
    "    def predict(self, X):\n",
    "        \"\"\"\n",
    "        多数投票进行预测\n",
    "        \"\"\"\n",
    "        predictions = np.zeros((X.shape[0], self.n_estimators), dtype=int)\n",
    "\n",
    "        for i, tree in enumerate(self.trees):\n",
    "            features = self.features_indices[i]\n",
    "            preds = tree.predict(X[:, features])\n",
    "            predictions[:, i] = preds\n",
    "\n",
    "        # 对每一行做多数投票\n",
    "        y_pred = []\n",
    "        for row in predictions:\n",
    "            counts = np.bincount(row)\n",
    "            y_pred.append(np.argmax(counts))\n",
    "        return np.array(y_pred)\n",
    "\n",
    "    def predict_proba(self, X):\n",
    "        \"\"\"\n",
    "        输出每个样本属于每个类别的概率（每棵树的投票占比）\n",
    "        \"\"\"\n",
    "        n_samples = X.shape[0]\n",
    "        n_classes = len(self.classes_)\n",
    "        proba = np.zeros((n_samples, n_classes))\n",
    "\n",
    "        for tree, feat_idx in zip(self.trees, self.features_indices):\n",
    "            preds = tree.predict(X[:, feat_idx])\n",
    "            for i, pred in enumerate(preds):\n",
    "                class_idx = np.where(self.classes_ == pred)[0][0]\n",
    "                proba[i, class_idx] += 1\n",
    "\n",
    "        # 转为概率（归一化）\n",
    "        proba /= self.n_estimators\n",
    "        return proba"
   ]
  },
  {
   "cell_type": "code",
   "execution_count": 79,
   "id": "d742e999-d653-4889-89ee-86feae413949",
   "metadata": {},
   "outputs": [
    {
     "name": "stdout",
     "output_type": "stream",
     "text": [
      "预测前10个： [0 0 0 0 0 0 0 0 0 0]\n"
     ]
    }
   ],
   "source": [
    "X, y = load_iris(return_X_y=True)\n",
    "\n",
    "rf = RandomForestClassifierScratch(n_estimators=10, max_depth=3, random_state=42)\n",
    "rf.fit(X, y)\n",
    "y_pred = rf.predict(X)\n",
    "\n",
    "print(\"预测前10个：\", y_pred[:10])"
   ]
  },
  {
   "cell_type": "code",
   "execution_count": 81,
   "id": "956ebaa2-0508-4061-bf99-f9e0a8683f12",
   "metadata": {},
   "outputs": [],
   "source": [
    "y_prob = rf.predict_proba(X)"
   ]
  },
  {
   "cell_type": "code",
   "execution_count": 82,
   "id": "16d3a1a7-63f3-4a10-88e4-620ba1de6bcc",
   "metadata": {},
   "outputs": [
    {
     "data": {
      "text/plain": [
       "array([[1. , 0. , 0. ],\n",
       "       [1. , 0. , 0. ],\n",
       "       [1. , 0. , 0. ],\n",
       "       [1. , 0. , 0. ],\n",
       "       [1. , 0. , 0. ],\n",
       "       [1. , 0. , 0. ],\n",
       "       [1. , 0. , 0. ],\n",
       "       [1. , 0. , 0. ],\n",
       "       [1. , 0. , 0. ],\n",
       "       [1. , 0. , 0. ],\n",
       "       [1. , 0. , 0. ],\n",
       "       [1. , 0. , 0. ],\n",
       "       [1. , 0. , 0. ],\n",
       "       [1. , 0. , 0. ],\n",
       "       [1. , 0. , 0. ],\n",
       "       [1. , 0. , 0. ],\n",
       "       [1. , 0. , 0. ],\n",
       "       [1. , 0. , 0. ],\n",
       "       [1. , 0. , 0. ],\n",
       "       [1. , 0. , 0. ],\n",
       "       [1. , 0. , 0. ],\n",
       "       [1. , 0. , 0. ],\n",
       "       [1. , 0. , 0. ],\n",
       "       [1. , 0. , 0. ],\n",
       "       [1. , 0. , 0. ],\n",
       "       [1. , 0. , 0. ],\n",
       "       [1. , 0. , 0. ],\n",
       "       [1. , 0. , 0. ],\n",
       "       [1. , 0. , 0. ],\n",
       "       [1. , 0. , 0. ],\n",
       "       [1. , 0. , 0. ],\n",
       "       [1. , 0. , 0. ],\n",
       "       [1. , 0. , 0. ],\n",
       "       [1. , 0. , 0. ],\n",
       "       [1. , 0. , 0. ],\n",
       "       [1. , 0. , 0. ],\n",
       "       [1. , 0. , 0. ],\n",
       "       [1. , 0. , 0. ],\n",
       "       [1. , 0. , 0. ],\n",
       "       [1. , 0. , 0. ],\n",
       "       [1. , 0. , 0. ],\n",
       "       [1. , 0. , 0. ],\n",
       "       [1. , 0. , 0. ],\n",
       "       [1. , 0. , 0. ],\n",
       "       [1. , 0. , 0. ],\n",
       "       [1. , 0. , 0. ],\n",
       "       [1. , 0. , 0. ],\n",
       "       [1. , 0. , 0. ],\n",
       "       [1. , 0. , 0. ],\n",
       "       [1. , 0. , 0. ],\n",
       "       [0. , 1. , 0. ],\n",
       "       [0. , 1. , 0. ],\n",
       "       [0. , 0.4, 0.6],\n",
       "       [0. , 1. , 0. ],\n",
       "       [0. , 1. , 0. ],\n",
       "       [0. , 1. , 0. ],\n",
       "       [0. , 1. , 0. ],\n",
       "       [0. , 1. , 0. ],\n",
       "       [0. , 1. , 0. ],\n",
       "       [0. , 1. , 0. ],\n",
       "       [0. , 1. , 0. ],\n",
       "       [0. , 1. , 0. ],\n",
       "       [0. , 1. , 0. ],\n",
       "       [0. , 1. , 0. ],\n",
       "       [0. , 1. , 0. ],\n",
       "       [0. , 1. , 0. ],\n",
       "       [0. , 1. , 0. ],\n",
       "       [0. , 1. , 0. ],\n",
       "       [0. , 1. , 0. ],\n",
       "       [0. , 1. , 0. ],\n",
       "       [0. , 0.2, 0.8],\n",
       "       [0. , 1. , 0. ],\n",
       "       [0. , 0.4, 0.6],\n",
       "       [0. , 1. , 0. ],\n",
       "       [0. , 1. , 0. ],\n",
       "       [0. , 1. , 0. ],\n",
       "       [0. , 0.6, 0.4],\n",
       "       [0. , 0.3, 0.7],\n",
       "       [0. , 1. , 0. ],\n",
       "       [0. , 1. , 0. ],\n",
       "       [0. , 1. , 0. ],\n",
       "       [0. , 1. , 0. ],\n",
       "       [0. , 1. , 0. ],\n",
       "       [0. , 0.5, 0.5],\n",
       "       [0. , 1. , 0. ],\n",
       "       [0. , 1. , 0. ],\n",
       "       [0. , 1. , 0. ],\n",
       "       [0. , 1. , 0. ],\n",
       "       [0. , 1. , 0. ],\n",
       "       [0. , 1. , 0. ],\n",
       "       [0. , 1. , 0. ],\n",
       "       [0. , 1. , 0. ],\n",
       "       [0. , 1. , 0. ],\n",
       "       [0. , 1. , 0. ],\n",
       "       [0. , 1. , 0. ],\n",
       "       [0. , 1. , 0. ],\n",
       "       [0. , 1. , 0. ],\n",
       "       [0. , 1. , 0. ],\n",
       "       [0. , 1. , 0. ],\n",
       "       [0. , 1. , 0. ],\n",
       "       [0. , 0. , 1. ],\n",
       "       [0. , 0.1, 0.9],\n",
       "       [0. , 0. , 1. ],\n",
       "       [0. , 0. , 1. ],\n",
       "       [0. , 0. , 1. ],\n",
       "       [0. , 0. , 1. ],\n",
       "       [0. , 0.8, 0.2],\n",
       "       [0. , 0. , 1. ],\n",
       "       [0. , 0. , 1. ],\n",
       "       [0. , 0. , 1. ],\n",
       "       [0. , 0. , 1. ],\n",
       "       [0. , 0. , 1. ],\n",
       "       [0. , 0. , 1. ],\n",
       "       [0. , 0. , 1. ],\n",
       "       [0. , 0.1, 0.9],\n",
       "       [0. , 0. , 1. ],\n",
       "       [0. , 0. , 1. ],\n",
       "       [0. , 0. , 1. ],\n",
       "       [0. , 0. , 1. ],\n",
       "       [0. , 0.4, 0.6],\n",
       "       [0. , 0. , 1. ],\n",
       "       [0. , 0. , 1. ],\n",
       "       [0. , 0. , 1. ],\n",
       "       [0. , 0. , 1. ],\n",
       "       [0. , 0. , 1. ],\n",
       "       [0. , 0. , 1. ],\n",
       "       [0. , 0.2, 0.8],\n",
       "       [0. , 0. , 1. ],\n",
       "       [0. , 0. , 1. ],\n",
       "       [0. , 0.3, 0.7],\n",
       "       [0. , 0. , 1. ],\n",
       "       [0. , 0. , 1. ],\n",
       "       [0. , 0. , 1. ],\n",
       "       [0. , 0.4, 0.6],\n",
       "       [0. , 0.4, 0.6],\n",
       "       [0. , 0. , 1. ],\n",
       "       [0. , 0. , 1. ],\n",
       "       [0. , 0. , 1. ],\n",
       "       [0. , 0.2, 0.8],\n",
       "       [0. , 0. , 1. ],\n",
       "       [0. , 0. , 1. ],\n",
       "       [0. , 0. , 1. ],\n",
       "       [0. , 0.1, 0.9],\n",
       "       [0. , 0. , 1. ],\n",
       "       [0. , 0. , 1. ],\n",
       "       [0. , 0. , 1. ],\n",
       "       [0. , 0. , 1. ],\n",
       "       [0. , 0. , 1. ],\n",
       "       [0. , 0. , 1. ],\n",
       "       [0. , 0.1, 0.9]])"
      ]
     },
     "execution_count": 82,
     "metadata": {},
     "output_type": "execute_result"
    }
   ],
   "source": [
    "y_prob"
   ]
  },
  {
   "cell_type": "markdown",
   "id": "35c54c1b-1243-4d4d-90ce-e39966f89eab",
   "metadata": {},
   "source": [
    "## 3.2 VotingClassifier"
   ]
  },
  {
   "cell_type": "code",
   "execution_count": 83,
   "id": "f95ab142-fa66-43d8-95f4-c51af9e87a2e",
   "metadata": {},
   "outputs": [
    {
     "name": "stdout",
     "output_type": "stream",
     "text": [
      "VotingClassifier Accuracy (soft): 0.973\n"
     ]
    },
    {
     "name": "stderr",
     "output_type": "stream",
     "text": [
      "/Users/mamba/Documents/MOOC/ML/env/lib/python3.10/site-packages/sklearn/linear_model/_logistic.py:473: ConvergenceWarning: lbfgs failed to converge after 100 iteration(s) (status=1):\n",
      "STOP: TOTAL NO. of ITERATIONS REACHED LIMIT\n",
      "\n",
      "Increase the number of iterations to improve the convergence (max_iter=100).\n",
      "You might also want to scale the data as shown in:\n",
      "    https://scikit-learn.org/stable/modules/preprocessing.html\n",
      "Please also refer to the documentation for alternative solver options:\n",
      "    https://scikit-learn.org/stable/modules/linear_model.html#logistic-regression\n",
      "  n_iter_i = _check_optimize_result(\n"
     ]
    }
   ],
   "source": [
    "from sklearn.ensemble import VotingClassifier\n",
    "from sklearn.linear_model import LogisticRegression\n",
    "from sklearn.svm import SVC\n",
    "from sklearn.tree import DecisionTreeClassifier\n",
    "\n",
    "# 多个基分类器\n",
    "clf1 = LogisticRegression()\n",
    "clf2 = DecisionTreeClassifier()\n",
    "clf3 = SVC(probability=True)\n",
    "\n",
    "# 投票集成器（soft voting）\n",
    "voting = VotingClassifier(\n",
    "    estimators=[('lr', clf1), ('dt', clf2), ('svc', clf3)],\n",
    "    voting='soft'\n",
    ")\n",
    "\n",
    "scores = cross_val_score(voting, X, y, cv=5)\n",
    "print(f\"VotingClassifier Accuracy (soft): {scores.mean():.3f}\")"
   ]
  },
  {
   "cell_type": "code",
   "execution_count": null,
   "id": "ed7cef9f-f3fb-4f9e-bb0b-57eb5895d6c9",
   "metadata": {},
   "outputs": [],
   "source": []
  }
 ],
 "metadata": {
  "kernelspec": {
   "display_name": "Python 3 (ipykernel)",
   "language": "python",
   "name": "python3"
  },
  "language_info": {
   "codemirror_mode": {
    "name": "ipython",
    "version": 3
   },
   "file_extension": ".py",
   "mimetype": "text/x-python",
   "name": "python",
   "nbconvert_exporter": "python",
   "pygments_lexer": "ipython3",
   "version": "3.10.13"
  }
 },
 "nbformat": 4,
 "nbformat_minor": 5
}
