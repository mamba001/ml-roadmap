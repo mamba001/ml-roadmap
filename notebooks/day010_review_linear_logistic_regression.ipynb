{
 "cells": [
  {
   "cell_type": "markdown",
   "id": "8221cedf-4d3e-47db-83d2-9c464f91843b",
   "metadata": {},
   "source": [
    "# 1. Linear Regression"
   ]
  },
  {
   "cell_type": "markdown",
   "id": "c73543b1-0c73-4b12-b55e-df63c7c78df6",
   "metadata": {},
   "source": [
    "## 1.1 Numpy Closed form"
   ]
  },
  {
   "cell_type": "code",
   "execution_count": 44,
   "id": "2b411e61-9572-47ed-aa6e-b6b30e2595f2",
   "metadata": {},
   "outputs": [],
   "source": [
    "import numpy as np"
   ]
  },
  {
   "cell_type": "code",
   "execution_count": 45,
   "id": "ee2bc175-101d-4fed-b97d-4f8d69028496",
   "metadata": {},
   "outputs": [],
   "source": [
    "np.random.seed(42)"
   ]
  },
  {
   "cell_type": "code",
   "execution_count": 46,
   "id": "dac29476-09b5-4985-baf5-9a6a534ebb0e",
   "metadata": {},
   "outputs": [
    {
     "data": {
      "text/plain": [
       "(100, 5)"
      ]
     },
     "execution_count": 46,
     "metadata": {},
     "output_type": "execute_result"
    }
   ],
   "source": [
    "m = 100\n",
    "n = 5\n",
    "X = np.random.randn(m, n)\n",
    "X.shape"
   ]
  },
  {
   "cell_type": "code",
   "execution_count": 47,
   "id": "14983d32-7a6e-4e5e-bc13-ee28d24d057b",
   "metadata": {},
   "outputs": [],
   "source": [
    "w_true = np.array([[4], [-2], [1.9], [0.5], [-2.9]])\n",
    "b_true = 4.2"
   ]
  },
  {
   "cell_type": "code",
   "execution_count": 48,
   "id": "0479c41a-4abd-4632-8ee4-e5a3fba3c04e",
   "metadata": {},
   "outputs": [
    {
     "data": {
      "text/plain": [
       "(100, 1)"
      ]
     },
     "execution_count": 48,
     "metadata": {},
     "output_type": "execute_result"
    }
   ],
   "source": [
    "y = X @ w_true + b_true + np.random.randn(m, 1) * 0.5\n",
    "y.shape"
   ]
  },
  {
   "cell_type": "code",
   "execution_count": 49,
   "id": "0ae22a2a-df90-420a-a01f-4ebc039e327f",
   "metadata": {},
   "outputs": [
    {
     "data": {
      "text/plain": [
       "(100, 6)"
      ]
     },
     "execution_count": 49,
     "metadata": {},
     "output_type": "execute_result"
    }
   ],
   "source": [
    "X_b = np.c_[np.ones((m, 1)), X]\n",
    "X_b.shape"
   ]
  },
  {
   "cell_type": "code",
   "execution_count": 50,
   "id": "821d346c-53f7-417c-b784-c3c88c65bfe2",
   "metadata": {},
   "outputs": [],
   "source": [
    "theta_best = np.linalg.inv(X_b.T @ X_b) @ X_b.T @ y"
   ]
  },
  {
   "cell_type": "code",
   "execution_count": 51,
   "id": "ac2b95fa-2f6d-44fc-a884-56d579a8ce30",
   "metadata": {},
   "outputs": [
    {
     "name": "stdout",
     "output_type": "stream",
     "text": [
      "w_true: [ 4.  -2.   1.9  0.5 -2.9]\n",
      "b_true: 4.2\n",
      "closed form solution: [ 4.12693763  4.02710641 -1.93224448  1.88935295  0.58037361 -2.90361573]\n"
     ]
    }
   ],
   "source": [
    "print(f\"w_true: {w_true.ravel()}\")\n",
    "print(f\"b_true: {b_true}\")\n",
    "print(f\"closed form solution: {theta_best.ravel()}\")"
   ]
  },
  {
   "cell_type": "markdown",
   "id": "95997a5f-63eb-45ca-bfdf-6ed84a1a97ba",
   "metadata": {},
   "source": [
    "## 1.2 Numpy GD"
   ]
  },
  {
   "cell_type": "code",
   "execution_count": 52,
   "id": "3d88f61d-6447-4fa1-b5e8-d2189b799313",
   "metadata": {},
   "outputs": [
    {
     "name": "stdout",
     "output_type": "stream",
     "text": [
      "w_true: [ 4.  -2.   1.9  0.5 -2.9]\n",
      "b_true: 4.2\n",
      "GS solution: [ 4.02710641 -1.93224448  1.88935295  0.58037361 -2.90361573] 4.126937631685491\n"
     ]
    }
   ],
   "source": [
    "w = np.random.randn(n, 1)\n",
    "b = 0.0\n",
    "\n",
    "lr = 0.05\n",
    "epochs = 1000\n",
    "\n",
    "for epoch in range(epochs):\n",
    "    y_pred = X @ w + b\n",
    "    error = y_pred - y\n",
    "    MSE_loss = np.mean(error ** 2)\n",
    "\n",
    "    dw = X.T @ error / m\n",
    "    db = np.mean(error)\n",
    "\n",
    "    w = w - lr * dw\n",
    "    b = b - lr * db\n",
    "\n",
    "print(f\"w_true: {w_true.ravel()}\")\n",
    "print(f\"b_true: {b_true}\")\n",
    "print(f\"GS solution: {w.ravel()} {b}\")"
   ]
  },
  {
   "cell_type": "markdown",
   "id": "b8814d43-6aee-481d-98e5-48efed4a19b2",
   "metadata": {},
   "source": [
    "## 1.3 Pytorch"
   ]
  },
  {
   "cell_type": "code",
   "execution_count": 53,
   "id": "dc53468c-8300-4468-95bf-f57a5d480910",
   "metadata": {},
   "outputs": [],
   "source": [
    "import torch\n",
    "import torch.nn as nn\n",
    "import torch.optim as optim"
   ]
  },
  {
   "cell_type": "code",
   "execution_count": 54,
   "id": "74f1aa41-f92b-4c5f-8ebd-3aa12c81b16f",
   "metadata": {},
   "outputs": [
    {
     "name": "stdout",
     "output_type": "stream",
     "text": [
      "w_true: [ 4.  -2.   1.9  0.5 -2.9]\n",
      "b_true: 4.2\n",
      "Pytorch solution: [[ 4.0271034 -1.9322453  1.8893536  0.5803733 -2.9036171]] 4.126936435699463\n"
     ]
    }
   ],
   "source": [
    "model = nn.Linear(n, 1)\n",
    "loss_fn = nn.MSELoss()\n",
    "optimizer = optim.SGD(model.parameters(), lr=lr)\n",
    "\n",
    "X_tensor = torch.from_numpy(X).float()\n",
    "y_tensor = torch.from_numpy(y).float()\n",
    "\n",
    "for epoch in range(epochs):\n",
    "    y_pred = model(X_tensor) # forward pass\n",
    "    loss = loss_fn(y_pred, y_tensor)\n",
    "\n",
    "    loss.backward() #similar to numpy dw and db calculation\n",
    "    optimizer.step() # similar to numpy update w and b by dw db lr\n",
    "    optimizer.zero_grad() #clear the gradient\n",
    "\n",
    "print(f\"w_true: {w_true.ravel()}\")\n",
    "print(f\"b_true: {b_true}\")\n",
    "print(f\"Pytorch solution: {model.weight.detach().numpy()} {model.bias.item()}\")"
   ]
  },
  {
   "cell_type": "markdown",
   "id": "1e99c193-da60-4964-bcf1-8df11c12a291",
   "metadata": {},
   "source": [
    "## 1.4 Sklearn"
   ]
  },
  {
   "cell_type": "code",
   "execution_count": 55,
   "id": "c4c6a3cf-5aef-40ca-9598-94a9bab22d77",
   "metadata": {},
   "outputs": [
    {
     "name": "stdout",
     "output_type": "stream",
     "text": [
      "w_true: [ 4.  -2.   1.9  0.5 -2.9]\n",
      "b_true: 4.2\n",
      "Sklearn solution: [ 4.02710641 -1.93224448  1.88935295  0.58037361 -2.90361573] [4.12693763]\n"
     ]
    }
   ],
   "source": [
    "from sklearn.linear_model import LinearRegression\n",
    "\n",
    "linear_model = LinearRegression()\n",
    "linear_model.fit(X, y)\n",
    "\n",
    "print(f\"w_true: {w_true.ravel()}\")\n",
    "print(f\"b_true: {b_true}\")\n",
    "print(f\"Sklearn solution: {linear_model.coef_.ravel()} {linear_model.intercept_}\")"
   ]
  },
  {
   "cell_type": "markdown",
   "id": "bca49414-d4d3-4cac-9d8b-5fb2ca8cea4c",
   "metadata": {},
   "source": [
    "# 2. Logistic Regression"
   ]
  },
  {
   "cell_type": "markdown",
   "id": "b883499f-17a9-4857-8f0b-71b70f4b9eef",
   "metadata": {},
   "source": [
    "## 2.1 Numpy"
   ]
  },
  {
   "cell_type": "code",
   "execution_count": 56,
   "id": "19bd759c-94a4-44d4-8c25-840e446fbb04",
   "metadata": {},
   "outputs": [],
   "source": [
    "def sigmoid(x):\n",
    "    return 1 / (1 + np.exp(-x))"
   ]
  },
  {
   "cell_type": "code",
   "execution_count": 57,
   "id": "f8e43052-edde-4453-9565-fe651154b9c8",
   "metadata": {},
   "outputs": [],
   "source": [
    "m = 10000\n",
    "n = 5\n",
    "X = np.random.randn(m, n)\n",
    "w_true = np.array([[2], [-3], [4], [-3], [-1]]) #combining b to make y==0 and 1 close to half half\n",
    "b_true = 0.5\n",
    "\n",
    "logits = X @ w_true + b_true\n",
    "probs = sigmoid(logits)\n",
    "y = (probs > 0.5).astype(int)"
   ]
  },
  {
   "cell_type": "code",
   "execution_count": 58,
   "id": "6d63230a-ed7b-4050-91ae-9a0e4f273c5e",
   "metadata": {},
   "outputs": [
    {
     "data": {
      "text/plain": [
       "(10000, 1)"
      ]
     },
     "execution_count": 58,
     "metadata": {},
     "output_type": "execute_result"
    }
   ],
   "source": [
    "y.shape"
   ]
  },
  {
   "cell_type": "code",
   "execution_count": 59,
   "id": "0c576a88-5217-425b-8175-92709b3100fc",
   "metadata": {},
   "outputs": [
    {
     "data": {
      "text/plain": [
       "array([5238])"
      ]
     },
     "execution_count": 59,
     "metadata": {},
     "output_type": "execute_result"
    }
   ],
   "source": [
    "sum(y)"
   ]
  },
  {
   "cell_type": "code",
   "execution_count": 60,
   "id": "74b475a9-bc2e-49ea-a90f-065ada1b18c1",
   "metadata": {},
   "outputs": [
    {
     "name": "stderr",
     "output_type": "stream",
     "text": [
      "/var/folders/ky/bcrb9sq920z3c4x2gm1wy70h0000gn/T/ipykernel_59683/3549214237.py:10: RuntimeWarning: invalid value encountered in log\n",
      "  loss = -np.mean(y * np.log(y_pred + 1e-6) + (1 - y) * np.log(1 - y_pred + 1e-6))\n"
     ]
    },
    {
     "name": "stdout",
     "output_type": "stream",
     "text": [
      "w_true: [ 2 -3  4 -3 -1]\n",
      "b_true: 0.5\n",
      "GD solution: [ 0.13143723 -0.1884101   0.25349303 -0.19215729 -0.06492323] 0.526950586272894\n"
     ]
    }
   ],
   "source": [
    "w = np.random.randn(n, 1)\n",
    "b = 0.0\n",
    "\n",
    "lr = 0.05\n",
    "epochs = 1000\n",
    "\n",
    "for epoch in range(epochs):\n",
    "    y_pred = X @ w + b\n",
    "    dz = y_pred - y\n",
    "    loss = -np.mean(y * np.log(y_pred + 1e-6) + (1 - y) * np.log(1 - y_pred + 1e-6))\n",
    "\n",
    "    dw = X.T @ dz / m\n",
    "    db = np.mean(dz)\n",
    "\n",
    "    w = w - lr * dw\n",
    "    b = b - lr * db\n",
    "\n",
    "print(f\"w_true: {w_true.ravel()}\")\n",
    "print(f\"b_true: {b_true}\")\n",
    "print(f\"GD solution: {w.ravel()} {b}\")"
   ]
  },
  {
   "cell_type": "markdown",
   "id": "78c863ba-6e22-4dc1-871a-e1933c9118ce",
   "metadata": {},
   "source": [
    "## 2.2 Pytorch"
   ]
  },
  {
   "cell_type": "markdown",
   "id": "8f1ac1e1-7c13-421a-8b6c-012c527a65d5",
   "metadata": {},
   "source": [
    "just use linear model, but using different loss function, should be good"
   ]
  },
  {
   "cell_type": "code",
   "execution_count": 63,
   "id": "a014c50e-bd80-4b1a-9fd2-a3776ea35265",
   "metadata": {},
   "outputs": [
    {
     "name": "stdout",
     "output_type": "stream",
     "text": [
      "w_true: [ 2 -3  4 -3 -1]\n",
      "b_true: 0.5\n",
      "Pytorch solution: [[ 1.3123004 -1.9089855  2.595153  -1.9481338 -0.6411347]] 0.28791528940200806\n"
     ]
    }
   ],
   "source": [
    "X_tensor = torch.from_numpy(X).float()\n",
    "y_tensor = torch.from_numpy(y).float()\n",
    "\n",
    "model = nn.Linear(n, 1)\n",
    "loss_fn = nn.BCEWithLogitsLoss()  # 内置 sigmoid + BCE\n",
    "optimizer = optim.SGD(model.parameters(), lr=lr)\n",
    "\n",
    "for epoch in range(epochs):\n",
    "    logits_pred = model(X_tensor) # forward pass to logits using just linear model\n",
    "    loss = loss_fn(logits_pred, y_tensor) \n",
    "\n",
    "    loss.backward() #similar to numpy dw and db calculation\n",
    "    optimizer.step() # similar to numpy update w and b by dw db lr\n",
    "    optimizer.zero_grad() #clear the gradient\n",
    "\n",
    "print(f\"w_true: {w_true.ravel()}\")\n",
    "print(f\"b_true: {b_true}\")\n",
    "print(f\"Pytorch solution: {model.weight.detach().numpy()} {model.bias.item()}\")"
   ]
  },
  {
   "cell_type": "markdown",
   "id": "9cd1c15c-6bac-41e6-9b47-44c80363ac05",
   "metadata": {},
   "source": [
    "## 2.3 Sklearn"
   ]
  },
  {
   "cell_type": "code",
   "execution_count": 67,
   "id": "d106d02c-9e62-48eb-b649-7302f778ba76",
   "metadata": {},
   "outputs": [
    {
     "name": "stdout",
     "output_type": "stream",
     "text": [
      "w_true: [ 2 -3  4 -3 -1]\n",
      "b_true: 0.5\n",
      "Sklearn solution: [ 223.03793023 -334.9691114   445.44523275 -335.28515157 -111.5357643 ] [55.61447073]\n"
     ]
    },
    {
     "name": "stderr",
     "output_type": "stream",
     "text": [
      "/Users/mamba/Documents/MOOC/ML/env/lib/python3.10/site-packages/sklearn/utils/validation.py:1300: DataConversionWarning: A column-vector y was passed when a 1d array was expected. Please change the shape of y to (n_samples, ), for example using ravel().\n",
      "  y = column_or_1d(y, warn=True)\n"
     ]
    }
   ],
   "source": [
    "from sklearn.linear_model import LogisticRegression\n",
    "\n",
    "log_reg = LogisticRegression(penalty=None, solver='lbfgs', max_iter=1000)\n",
    "log_reg.fit(X, y)\n",
    "\n",
    "print(f\"w_true: {w_true.ravel()}\")\n",
    "print(f\"b_true: {b_true}\")\n",
    "print(f\"Sklearn solution: {log_reg.coef_.ravel()} {log_reg.intercept_}\")"
   ]
  },
  {
   "cell_type": "code",
   "execution_count": 69,
   "id": "6d58ca4a-6125-4674-b66d-fe22a8471329",
   "metadata": {},
   "outputs": [
    {
     "name": "stdout",
     "output_type": "stream",
     "text": [
      "w_true: [ 2 -3  4 -3 -1]\n",
      "b_true: 0.5\n",
      "Sklearn solution: [ 5.92114355 -8.80560919 11.86826819 -8.93676922 -3.00842441] [1.44418849]\n"
     ]
    },
    {
     "name": "stderr",
     "output_type": "stream",
     "text": [
      "/Users/mamba/Documents/MOOC/ML/env/lib/python3.10/site-packages/sklearn/utils/validation.py:1300: DataConversionWarning: A column-vector y was passed when a 1d array was expected. Please change the shape of y to (n_samples, ), for example using ravel().\n",
      "  y = column_or_1d(y, warn=True)\n"
     ]
    }
   ],
   "source": [
    "from sklearn.linear_model import LogisticRegression\n",
    "\n",
    "log_reg = LogisticRegression(max_iter=1000)\n",
    "log_reg.fit(X, y)\n",
    "\n",
    "print(f\"w_true: {w_true.ravel()}\")\n",
    "print(f\"b_true: {b_true}\")\n",
    "print(f\"Sklearn solution: {log_reg.coef_.ravel()} {log_reg.intercept_}\")"
   ]
  },
  {
   "cell_type": "code",
   "execution_count": null,
   "id": "3ee7ac1b-ad06-48a6-857e-7534880657f3",
   "metadata": {},
   "outputs": [],
   "source": []
  }
 ],
 "metadata": {
  "kernelspec": {
   "display_name": "Python 3 (ipykernel)",
   "language": "python",
   "name": "python3"
  },
  "language_info": {
   "codemirror_mode": {
    "name": "ipython",
    "version": 3
   },
   "file_extension": ".py",
   "mimetype": "text/x-python",
   "name": "python",
   "nbconvert_exporter": "python",
   "pygments_lexer": "ipython3",
   "version": "3.10.13"
  }
 },
 "nbformat": 4,
 "nbformat_minor": 5
}
