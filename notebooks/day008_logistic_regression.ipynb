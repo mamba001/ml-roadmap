{
 "cells": [
  {
   "cell_type": "markdown",
   "id": "9c3fd084-2586-4688-8de8-9edca92b1cca",
   "metadata": {},
   "source": [
    "# 1. Sigmoid function"
   ]
  },
  {
   "cell_type": "code",
   "execution_count": 1,
   "id": "66677345-d3d7-4095-9a82-2c6531088c48",
   "metadata": {},
   "outputs": [],
   "source": [
    "import numpy as np\n",
    "import matplotlib.pyplot as plt"
   ]
  },
  {
   "cell_type": "code",
   "execution_count": 2,
   "id": "93b6296f-e2fc-47c6-bf89-fa6d2bb03280",
   "metadata": {},
   "outputs": [],
   "source": [
    "def sigmoid(x):\n",
    "    return 1 / (1 + np.exp(-x))"
   ]
  },
  {
   "cell_type": "code",
   "execution_count": 6,
   "id": "fc8b6d4e-5ea0-4a8e-bee8-3183a304bc10",
   "metadata": {},
   "outputs": [],
   "source": [
    "z = np.linspace(-10, 10, 100)\n",
    "s = sigmoid(z)"
   ]
  },
  {
   "cell_type": "code",
   "execution_count": 7,
   "id": "1bf5f869-df6f-4f57-9591-1363a4a36151",
   "metadata": {},
   "outputs": [
    {
     "data": {
      "image/png": "[encoded data removed]",
      "text/plain": [
       "<Figure size 640x480 with 1 Axes>"
      ]
     },
     "metadata": {},
     "output_type": "display_data"
    }
   ],
   "source": [
    "plt.plot(z, s)\n",
    "plt.title(\"Sigmoid Function\")\n",
    "plt.xlabel(\"z\")\n",
    "plt.ylabel(\"sigmoid(z)\")\n",
    "plt.grid(True)\n",
    "plt.show()"
   ]
  },
  {
   "cell_type": "markdown",
   "id": "5eb49088-d9d3-47ff-96be-74a828d950eb",
   "metadata": {},
   "source": [
    "# 2. Binary Cross Entropy"
   ]
  },
  {
   "cell_type": "code",
   "execution_count": 14,
   "id": "6040ccb2-5f3f-4e95-acd6-452b8e12b729",
   "metadata": {},
   "outputs": [],
   "source": [
    "def binary_cross_entropy(y, y_hat):\n",
    "    epsilon = 1e-8 #avoid log(0)\n",
    "    return -np.mean(y * np.log(y_hat + epsilon) + (1 - y) * np.log(1 - y_hat + epsilon))"
   ]
  },
  {
   "cell_type": "markdown",
   "id": "d4013a39-d02e-48e7-ad04-e1b0e645b3c7",
   "metadata": {},
   "source": [
    "# 3. Logistic Regression from scratch (Numpy)\n",
    "\n",
    "## 📌 Logistic Regression — 核心推导\n",
    "\n",
    "---\n",
    "\n",
    "### 1️⃣ 线性输出 z\n",
    "\n",
    "给定输入特征 \\( x_i \\)，权重向量 \\( w \\)，偏置 \\( b \\)：\n",
    "\n",
    "\\[\n",
    "z_i = w^T x_i + b\n",
    "\\]\n",
    "\n",
    "---\n",
    "\n",
    "### 2️⃣ Sigmoid 激活函数\n",
    "\n",
    "\\[\n",
    "\\hat{y}_i = \\sigma(z_i) = \\frac{1}{1 + e^{-z_i}}\n",
    "\\]\n",
    "\n",
    "---\n",
    "\n",
    "### 3️⃣ Binary Cross-Entropy Loss (最大似然)\n",
    "\n",
    "对所有样本的损失函数：\n",
    "\n",
    "\\[\n",
    "L(w, b) = -\\frac{1}{N} \\sum_{i=1}^N \\Big[ y_i \\log(\\hat{y}_i) + (1 - y_i) \\log(1 - \\hat{y}_i) \\Big]\n",
    "\\]\n",
    "\n",
    "其中：\n",
    "- \\( y_i \\in \\{0, 1\\} \\)\n",
    "- \\( \\hat{y}_i = P(y_i = 1 | x_i) \\)\n",
    "\n",
    "---\n",
    "\n",
    "### 4️⃣ 梯度 (Key Insight)\n",
    "\n",
    "- 对 z 的梯度：\n",
    "\\[\n",
    "\\frac{\\partial L}{\\partial z_i} = \\hat{y}_i - y_i\n",
    "\\]\n",
    "\n",
    "- 对 w：\n",
    "\\[\n",
    "\\frac{\\partial L}{\\partial w} = \\frac{1}{N} X^T (\\hat{y} - y)\n",
    "\\]\n",
    "\n",
    "- 对 b：\n",
    "\\[\n",
    "\\frac{\\partial L}{\\partial b} = \\frac{1}{N} \\sum_{i=1}^N (\\hat{y}_i - y_i)\n",
    "\\]\n",
    "\n",
    "---\n",
    "\n",
    "### 📌 代码映射\n",
    "\n",
    "| 数学 | 代码 |\n",
    "|------|------|\n",
    "| \\( z = Xw + b \\) | `z = X @ w + b` |\n",
    "| \\( \\hat{y} = \\sigma(z) \\) | `y_hat = sigmoid(z)` |\n",
    "| \\( L \\) | `binary_cross_entropy(y, y_hat)` |\n",
    "| 梯度 | `dz = y_hat - y`<br>`dw = X.T @ dz / N`<br>`db = np.sum(dz) / N` |\n",
    "\n",
    "---\n",
    "\n",
    "✅ 这就是 Logistic Regression 核心推导 + 代码映射，Applied Scientist 面试必考闭环。\n"
   ]
  },
  {
   "cell_type": "markdown",
   "id": "ce3ef377-6e90-46d8-b45b-c47113bf4a37",
   "metadata": {},
   "source": [
    "## 3.1 toy data"
   ]
  },
  {
   "cell_type": "code",
   "execution_count": 40,
   "id": "dbb42cd4-deaf-4c1b-a471-87317eec2da3",
   "metadata": {},
   "outputs": [],
   "source": [
    "np.random.seed(42)\n",
    "N = 10000\n",
    "X = np.random.randn(N, 2) #generate (N, 2) shape normal distribution number N(0, 1)\n",
    "w_true = np.array([2, -3])\n",
    "b_true = 0.5\n",
    "\n",
    "logits = X @ w_true + b_true\n",
    "probs = sigmoid(logits)\n",
    "y = (probs > 0.5).astype(int)"
   ]
  },
  {
   "cell_type": "markdown",
   "id": "5c0fce51-7d3b-40c7-89dc-2b5f35774916",
   "metadata": {},
   "source": [
    "## 3.2 initial training parameter"
   ]
  },
  {
   "cell_type": "code",
   "execution_count": 61,
   "id": "32f3672f-224b-4c03-83c8-de5a0c9ccfe9",
   "metadata": {},
   "outputs": [],
   "source": [
    "w = np.zeros(2)\n",
    "b = 0."
   ]
  },
  {
   "cell_type": "markdown",
   "id": "3dec73d8-6bc1-44f2-afd0-fc1b26df31e2",
   "metadata": {},
   "source": [
    "## 3.3 Gradient Descent"
   ]
  },
  {
   "cell_type": "code",
   "execution_count": 62,
   "id": "5ca89560-6559-480a-93c6-253762d38d48",
   "metadata": {},
   "outputs": [
    {
     "name": "stdout",
     "output_type": "stream",
     "text": [
      "Epoch 0: Loss = 0.6931\n",
      "Epoch 100: Loss = 0.3654\n",
      "Epoch 200: Loss = 0.2822\n",
      "Epoch 300: Loss = 0.2415\n",
      "Epoch 400: Loss = 0.2162\n",
      "Epoch 500: Loss = 0.1985\n",
      "Epoch 600: Loss = 0.1852\n",
      "Epoch 700: Loss = 0.1747\n",
      "Epoch 800: Loss = 0.1661\n",
      "Epoch 900: Loss = 0.1590\n",
      "Trained weights: [ 2.23767986 -3.31535941], bias: 0.5637142962422402\n",
      "True weights: [ 2 -3], true bias: 0.5\n"
     ]
    }
   ],
   "source": [
    "lr = 0.05\n",
    "epochs = 1000\n",
    "losses = []\n",
    "\n",
    "for epoch in range(epochs):\n",
    "    z = X @ w + b\n",
    "    y_hat = sigmoid(z)\n",
    "\n",
    "    loss = binary_cross_entropy(y, y_hat)\n",
    "    losses.append(loss)\n",
    "\n",
    "    #get gradient\n",
    "    dz = y_hat - y\n",
    "    dw = X.T @ dz / N\n",
    "    db = np.sum(dz) / N\n",
    "\n",
    "    #update w and b\n",
    "    w -= lr * dw\n",
    "    b -= lr * db\n",
    "\n",
    "    if epoch % 100 == 0:\n",
    "        print(f\"Epoch {epoch}: Loss = {loss:.4f}\")\n",
    "\n",
    "print(f\"Trained weights: {w}, bias: {b}\")\n",
    "print(f\"True weights: {w_true}, true bias: {b_true}\")"
   ]
  },
  {
   "cell_type": "markdown",
   "id": "a8e5c503-c53f-4154-9b44-f062cec1a9cd",
   "metadata": {},
   "source": [
    "## 3.4 Loss curve"
   ]
  },
  {
   "cell_type": "code",
   "execution_count": 43,
   "id": "1fcbd6a3-87d8-41ee-8be8-b84e07dfb542",
   "metadata": {},
   "outputs": [
    {
     "data": {
      "image/png": "[encoded data removed]",
      "text/plain": [
       "<Figure size 640x480 with 1 Axes>"
      ]
     },
     "metadata": {},
     "output_type": "display_data"
    }
   ],
   "source": [
    "plt.plot(losses)\n",
    "plt.title(\"Binary Cross-Entropy Loss Curve\")\n",
    "plt.xlabel(\"Epoch\")\n",
    "plt.ylabel(\"Loss\")\n",
    "plt.show()"
   ]
  },
  {
   "cell_type": "markdown",
   "id": "b2c4277b-58a8-4002-af83-c50e00496696",
   "metadata": {},
   "source": [
    "# 4. Logistic regression with Pytorch"
   ]
  },
  {
   "cell_type": "code",
   "execution_count": 44,
   "id": "fdfc292e-f90c-4adf-bc04-0adc9b38a9d8",
   "metadata": {},
   "outputs": [],
   "source": [
    "import torch\n",
    "import torch.nn as nn\n",
    "import torch.optim as optim"
   ]
  },
  {
   "cell_type": "code",
   "execution_count": 45,
   "id": "9ac67536-e488-4a68-bcba-dafa8ebf3780",
   "metadata": {},
   "outputs": [
    {
     "data": {
      "text/plain": [
       "<torch._C.Generator at 0x126d09810>"
      ]
     },
     "execution_count": 45,
     "metadata": {},
     "output_type": "execute_result"
    }
   ],
   "source": [
    "torch.manual_seed(42)"
   ]
  },
  {
   "cell_type": "code",
   "execution_count": 46,
   "id": "87785e15-6e15-4d6a-9637-05da2c58d900",
   "metadata": {},
   "outputs": [],
   "source": [
    "X_torch = torch.tensor(X, dtype=torch.float32)\n",
    "y_torch = torch.tensor(y, dtype=torch.float32).unsqueeze(1) #shape (N,1)"
   ]
  },
  {
   "cell_type": "markdown",
   "id": "e738495a-fc7a-40bc-a6b4-97c384188cce",
   "metadata": {},
   "source": [
    "## 4.1 define model"
   ]
  },
  {
   "cell_type": "code",
   "execution_count": 47,
   "id": "c6c94fa7-7ae2-432b-820b-9d4401b0d309",
   "metadata": {},
   "outputs": [],
   "source": [
    "class LogisticRegression(nn.Module):\n",
    "    def __init__(self, input_dim):\n",
    "        super(LogisticRegression, self).__init__()\n",
    "        self.linear = nn.Linear(input_dim, 1) #output is probability shape(N,1)\n",
    "\n",
    "    def forward(self, x):\n",
    "        return torch.sigmoid(self.linear(x))\n",
    "    "
   ]
  },
  {
   "cell_type": "code",
   "execution_count": 48,
   "id": "151e6db8-fcd3-4f7d-8ff6-a4aa25fcc006",
   "metadata": {},
   "outputs": [],
   "source": [
    "model = LogisticRegression(input_dim=2)"
   ]
  },
  {
   "cell_type": "markdown",
   "id": "a9a5df0e-7032-41d8-b535-fa0e0e3099eb",
   "metadata": {},
   "source": [
    "## 4.2 define loss and optimizer"
   ]
  },
  {
   "cell_type": "code",
   "execution_count": 49,
   "id": "0c067293-80d9-4650-8c4f-5e4d8cfeae1f",
   "metadata": {},
   "outputs": [],
   "source": [
    "criterion = nn.BCELoss() #binary cross entropy\n",
    "optimizer = optim.SGD(model.parameters(), lr=0.05)"
   ]
  },
  {
   "cell_type": "markdown",
   "id": "0b1756e7-60e9-4ba8-af09-f3d18f027ffe",
   "metadata": {},
   "source": [
    "## 4.3 train"
   ]
  },
  {
   "cell_type": "code",
   "execution_count": 51,
   "id": "38d6ad9c-5408-4b93-8bb7-63cfcb197ae6",
   "metadata": {},
   "outputs": [
    {
     "name": "stdout",
     "output_type": "stream",
     "text": [
      "Epoch    0 | Loss: 0.8462\n",
      "Epoch  100 | Loss: 0.3842\n",
      "Epoch  200 | Loss: 0.2878\n",
      "Epoch  300 | Loss: 0.2442\n",
      "Epoch  400 | Loss: 0.2179\n",
      "Epoch  500 | Loss: 0.1997\n",
      "Epoch  600 | Loss: 0.1861\n",
      "Epoch  700 | Loss: 0.1755\n",
      "Epoch  800 | Loss: 0.1668\n",
      "Epoch  900 | Loss: 0.1595\n"
     ]
    }
   ],
   "source": [
    "epochs = 1000\n",
    "losses = []\n",
    "\n",
    "for epoch in range(epochs):\n",
    "    #Forward pass\n",
    "    y_pred = model(X_torch)\n",
    "\n",
    "    #loss\n",
    "    loss = criterion(y_pred, y_torch)\n",
    "    losses.append(loss.item())\n",
    "\n",
    "    #Backward and optimize\n",
    "    loss.backward()\n",
    "    optimizer.step()\n",
    "    optimizer.zero_grad()\n",
    "\n",
    "    if epoch%100==0:\n",
    "        print(f\"Epoch {epoch:>4} | Loss: {loss.item():.4f}\")\n"
   ]
  },
  {
   "cell_type": "code",
   "execution_count": 52,
   "id": "216e3b79-158e-4ca6-b1b0-fbae60899118",
   "metadata": {},
   "outputs": [
    {
     "name": "stdout",
     "output_type": "stream",
     "text": [
      "Trained weights: [[ 2.2311876 -3.3033707]], bias: [0.5615649]\n",
      "True weights: [ 2 -3], true bias: 0.5\n"
     ]
    }
   ],
   "source": [
    "w_learned = model.linear.weight.data.numpy()\n",
    "b_learned = model.linear.bias.data.numpy()\n",
    "\n",
    "print(f\"Trained weights: {w_learned}, bias: {b_learned}\")\n",
    "print(f\"True weights: {w_true}, true bias: {b_true}\")"
   ]
  },
  {
   "cell_type": "markdown",
   "id": "35f2e6ff-1c87-4e02-babe-8253d7e8ee8b",
   "metadata": {},
   "source": [
    "## 4.4 Loss curve"
   ]
  },
  {
   "cell_type": "code",
   "execution_count": 53,
   "id": "4864b5ee-4dad-4649-949f-dd00fa724388",
   "metadata": {},
   "outputs": [
    {
     "data": {
      "image/png": "[encoded data removed]",
      "text/plain": [
       "<Figure size 640x480 with 1 Axes>"
      ]
     },
     "metadata": {},
     "output_type": "display_data"
    }
   ],
   "source": [
    "plt.plot(losses)\n",
    "plt.title(\"Binary Cross-Entropy Loss Curve\")\n",
    "plt.xlabel(\"Epoch\")\n",
    "plt.ylabel(\"Loss\")\n",
    "plt.show()"
   ]
  },
  {
   "cell_type": "markdown",
   "id": "fa2b6258-a338-4f7e-b9f7-8549a8dc2240",
   "metadata": {},
   "source": [
    "# 5. Logistic Regression with sklearn"
   ]
  },
  {
   "cell_type": "code",
   "execution_count": 54,
   "id": "bda055e0-608d-419a-9e61-b1649f2a562e",
   "metadata": {},
   "outputs": [],
   "source": [
    "from sklearn.linear_model import LogisticRegression\n",
    "from sklearn.metrics import accuracy_score, roc_auc_score, roc_curve"
   ]
  },
  {
   "cell_type": "markdown",
   "id": "d12d3489-e981-4352-a74f-f4f96e965c9a",
   "metadata": {},
   "source": [
    "## 5.1 Sklearn model"
   ]
  },
  {
   "cell_type": "code",
   "execution_count": 63,
   "id": "be72bf0d-7fde-4cb8-9694-279a2cf684f6",
   "metadata": {},
   "outputs": [
    {
     "data": {
      "text/html": [
       "<style>#sk-container-id-2 {\n",
       "  /* Definition of color scheme common for light and dark mode */\n",
       "  --sklearn-color-text: black;\n",
       "  --sklearn-color-line: gray;\n",
       "  /* Definition of color scheme for unfitted estimators */\n",
       "  --sklearn-color-unfitted-level-0: #fff5e6;\n",
       "  --sklearn-color-unfitted-level-1: #f6e4d2;\n",
       "  --sklearn-color-unfitted-level-2: #ffe0b3;\n",
       "  --sklearn-color-unfitted-level-3: chocolate;\n",
       "  /* Definition of color scheme for fitted estimators */\n",
       "  --sklearn-color-fitted-level-0: #f0f8ff;\n",
       "  --sklearn-color-fitted-level-1: #d4ebff;\n",
       "  --sklearn-color-fitted-level-2: #b3dbfd;\n",
       "  --sklearn-color-fitted-level-3: cornflowerblue;\n",
       "\n",
       "  /* Specific color for light theme */\n",
       "  --sklearn-color-text-on-default-background: var(--sg-text-color, var(--theme-code-foreground, var(--jp-content-font-color1, black)));\n",
       "  --sklearn-color-background: var(--sg-background-color, var(--theme-background, var(--jp-layout-color0, white)));\n",
       "  --sklearn-color-border-box: var(--sg-text-color, var(--theme-code-foreground, var(--jp-content-font-color1, black)));\n",
       "  --sklearn-color-icon: #696969;\n",
       "\n",
       "  @media (prefers-color-scheme: dark) {\n",
       "    /* Redefinition of color scheme for dark theme */\n",
       "    --sklearn-color-text-on-default-background: var(--sg-text-color, var(--theme-code-foreground, var(--jp-content-font-color1, white)));\n",
       "    --sklearn-color-background: var(--sg-background-color, var(--theme-background, var(--jp-layout-color0, #111)));\n",
       "    --sklearn-color-border-box: var(--sg-text-color, var(--theme-code-foreground, var(--jp-content-font-color1, white)));\n",
       "    --sklearn-color-icon: #878787;\n",
       "  }\n",
       "}\n",
       "\n",
       "#sk-container-id-2 {\n",
       "  color: var(--sklearn-color-text);\n",
       "}\n",
       "\n",
       "#sk-container-id-2 pre {\n",
       "  padding: 0;\n",
       "}\n",
       "\n",
       "#sk-container-id-2 input.sk-hidden--visually {\n",
       "  border: 0;\n",
       "  clip: rect(1px 1px 1px 1px);\n",
       "  clip: rect(1px, 1px, 1px, 1px);\n",
       "  height: 1px;\n",
       "  margin: -1px;\n",
       "  overflow: hidden;\n",
       "  padding: 0;\n",
       "  position: absolute;\n",
       "  width: 1px;\n",
       "}\n",
       "\n",
       "#sk-container-id-2 div.sk-dashed-wrapped {\n",
       "  border: 1px dashed var(--sklearn-color-line);\n",
       "  margin: 0 0.4em 0.5em 0.4em;\n",
       "  box-sizing: border-box;\n",
       "  padding-bottom: 0.4em;\n",
       "  background-color: var(--sklearn-color-background);\n",
       "}\n",
       "\n",
       "#sk-container-id-2 div.sk-container {\n",
       "  /* jupyter's `normalize.less` sets `[hidden] { display: none; }`\n",
       "     but bootstrap.min.css set `[hidden] { display: none !important; }`\n",
       "     so we also need the `!important` here to be able to override the\n",
       "     default hidden behavior on the sphinx rendered scikit-learn.org.\n",
       "     See: https://github.com/scikit-learn/scikit-learn/issues/21755 */\n",
       "  display: inline-block !important;\n",
       "  position: relative;\n",
       "}\n",
       "\n",
       "#sk-container-id-2 div.sk-text-repr-fallback {\n",
       "  display: none;\n",
       "}\n",
       "\n",
       "div.sk-parallel-item,\n",
       "div.sk-serial,\n",
       "div.sk-item {\n",
       "  /* draw centered vertical line to link estimators */\n",
       "  background-image: linear-gradient(var(--sklearn-color-text-on-default-background), var(--sklearn-color-text-on-default-background));\n",
       "  background-size: 2px 100%;\n",
       "  background-repeat: no-repeat;\n",
       "  background-position: center center;\n",
       "}\n",
       "\n",
       "/* Parallel-specific style estimator block */\n",
       "\n",
       "#sk-container-id-2 div.sk-parallel-item::after {\n",
       "  content: \"\";\n",
       "  width: 100%;\n",
       "  border-bottom: 2px solid var(--sklearn-color-text-on-default-background);\n",
       "  flex-grow: 1;\n",
       "}\n",
       "\n",
       "#sk-container-id-2 div.sk-parallel {\n",
       "  display: flex;\n",
       "  align-items: stretch;\n",
       "  justify-content: center;\n",
       "  background-color: var(--sklearn-color-background);\n",
       "  position: relative;\n",
       "}\n",
       "\n",
       "#sk-container-id-2 div.sk-parallel-item {\n",
       "  display: flex;\n",
       "  flex-direction: column;\n",
       "}\n",
       "\n",
       "#sk-container-id-2 div.sk-parallel-item:first-child::after {\n",
       "  align-self: flex-end;\n",
       "  width: 50%;\n",
       "}\n",
       "\n",
       "#sk-container-id-2 div.sk-parallel-item:last-child::after {\n",
       "  align-self: flex-start;\n",
       "  width: 50%;\n",
       "}\n",
       "\n",
       "#sk-container-id-2 div.sk-parallel-item:only-child::after {\n",
       "  width: 0;\n",
       "}\n",
       "\n",
       "/* Serial-specific style estimator block */\n",
       "\n",
       "#sk-container-id-2 div.sk-serial {\n",
       "  display: flex;\n",
       "  flex-direction: column;\n",
       "  align-items: center;\n",
       "  background-color: var(--sklearn-color-background);\n",
       "  padding-right: 1em;\n",
       "  padding-left: 1em;\n",
       "}\n",
       "\n",
       "\n",
       "/* Toggleable style: style used for estimator/Pipeline/ColumnTransformer box that is\n",
       "clickable and can be expanded/collapsed.\n",
       "- Pipeline and ColumnTransformer use this feature and define the default style\n",
       "- Estimators will overwrite some part of the style using the `sk-estimator` class\n",
       "*/\n",
       "\n",
       "/* Pipeline and ColumnTransformer style (default) */\n",
       "\n",
       "#sk-container-id-2 div.sk-toggleable {\n",
       "  /* Default theme specific background. It is overwritten whether we have a\n",
       "  specific estimator or a Pipeline/ColumnTransformer */\n",
       "  background-color: var(--sklearn-color-background);\n",
       "}\n",
       "\n",
       "/* Toggleable label */\n",
       "#sk-container-id-2 label.sk-toggleable__label {\n",
       "  cursor: pointer;\n",
       "  display: block;\n",
       "  width: 100%;\n",
       "  margin-bottom: 0;\n",
       "  padding: 0.5em;\n",
       "  box-sizing: border-box;\n",
       "  text-align: center;\n",
       "}\n",
       "\n",
       "#sk-container-id-2 label.sk-toggleable__label-arrow:before {\n",
       "  /* Arrow on the left of the label */\n",
       "  content: \"▸\";\n",
       "  float: left;\n",
       "  margin-right: 0.25em;\n",
       "  color: var(--sklearn-color-icon);\n",
       "}\n",
       "\n",
       "#sk-container-id-2 label.sk-toggleable__label-arrow:hover:before {\n",
       "  color: var(--sklearn-color-text);\n",
       "}\n",
       "\n",
       "/* Toggleable content - dropdown */\n",
       "\n",
       "#sk-container-id-2 div.sk-toggleable__content {\n",
       "  max-height: 0;\n",
       "  max-width: 0;\n",
       "  overflow: hidden;\n",
       "  text-align: left;\n",
       "  /* unfitted */\n",
       "  background-color: var(--sklearn-color-unfitted-level-0);\n",
       "}\n",
       "\n",
       "#sk-container-id-2 div.sk-toggleable__content.fitted {\n",
       "  /* fitted */\n",
       "  background-color: var(--sklearn-color-fitted-level-0);\n",
       "}\n",
       "\n",
       "#sk-container-id-2 div.sk-toggleable__content pre {\n",
       "  margin: 0.2em;\n",
       "  border-radius: 0.25em;\n",
       "  color: var(--sklearn-color-text);\n",
       "  /* unfitted */\n",
       "  background-color: var(--sklearn-color-unfitted-level-0);\n",
       "}\n",
       "\n",
       "#sk-container-id-2 div.sk-toggleable__content.fitted pre {\n",
       "  /* unfitted */\n",
       "  background-color: var(--sklearn-color-fitted-level-0);\n",
       "}\n",
       "\n",
       "#sk-container-id-2 input.sk-toggleable__control:checked~div.sk-toggleable__content {\n",
       "  /* Expand drop-down */\n",
       "  max-height: 200px;\n",
       "  max-width: 100%;\n",
       "  overflow: auto;\n",
       "}\n",
       "\n",
       "#sk-container-id-2 input.sk-toggleable__control:checked~label.sk-toggleable__label-arrow:before {\n",
       "  content: \"▾\";\n",
       "}\n",
       "\n",
       "/* Pipeline/ColumnTransformer-specific style */\n",
       "\n",
       "#sk-container-id-2 div.sk-label input.sk-toggleable__control:checked~label.sk-toggleable__label {\n",
       "  color: var(--sklearn-color-text);\n",
       "  background-color: var(--sklearn-color-unfitted-level-2);\n",
       "}\n",
       "\n",
       "#sk-container-id-2 div.sk-label.fitted input.sk-toggleable__control:checked~label.sk-toggleable__label {\n",
       "  background-color: var(--sklearn-color-fitted-level-2);\n",
       "}\n",
       "\n",
       "/* Estimator-specific style */\n",
       "\n",
       "/* Colorize estimator box */\n",
       "#sk-container-id-2 div.sk-estimator input.sk-toggleable__control:checked~label.sk-toggleable__label {\n",
       "  /* unfitted */\n",
       "  background-color: var(--sklearn-color-unfitted-level-2);\n",
       "}\n",
       "\n",
       "#sk-container-id-2 div.sk-estimator.fitted input.sk-toggleable__control:checked~label.sk-toggleable__label {\n",
       "  /* fitted */\n",
       "  background-color: var(--sklearn-color-fitted-level-2);\n",
       "}\n",
       "\n",
       "#sk-container-id-2 div.sk-label label.sk-toggleable__label,\n",
       "#sk-container-id-2 div.sk-label label {\n",
       "  /* The background is the default theme color */\n",
       "  color: var(--sklearn-color-text-on-default-background);\n",
       "}\n",
       "\n",
       "/* On hover, darken the color of the background */\n",
       "#sk-container-id-2 div.sk-label:hover label.sk-toggleable__label {\n",
       "  color: var(--sklearn-color-text);\n",
       "  background-color: var(--sklearn-color-unfitted-level-2);\n",
       "}\n",
       "\n",
       "/* Label box, darken color on hover, fitted */\n",
       "#sk-container-id-2 div.sk-label.fitted:hover label.sk-toggleable__label.fitted {\n",
       "  color: var(--sklearn-color-text);\n",
       "  background-color: var(--sklearn-color-fitted-level-2);\n",
       "}\n",
       "\n",
       "/* Estimator label */\n",
       "\n",
       "#sk-container-id-2 div.sk-label label {\n",
       "  font-family: monospace;\n",
       "  font-weight: bold;\n",
       "  display: inline-block;\n",
       "  line-height: 1.2em;\n",
       "}\n",
       "\n",
       "#sk-container-id-2 div.sk-label-container {\n",
       "  text-align: center;\n",
       "}\n",
       "\n",
       "/* Estimator-specific */\n",
       "#sk-container-id-2 div.sk-estimator {\n",
       "  font-family: monospace;\n",
       "  border: 1px dotted var(--sklearn-color-border-box);\n",
       "  border-radius: 0.25em;\n",
       "  box-sizing: border-box;\n",
       "  margin-bottom: 0.5em;\n",
       "  /* unfitted */\n",
       "  background-color: var(--sklearn-color-unfitted-level-0);\n",
       "}\n",
       "\n",
       "#sk-container-id-2 div.sk-estimator.fitted {\n",
       "  /* fitted */\n",
       "  background-color: var(--sklearn-color-fitted-level-0);\n",
       "}\n",
       "\n",
       "/* on hover */\n",
       "#sk-container-id-2 div.sk-estimator:hover {\n",
       "  /* unfitted */\n",
       "  background-color: var(--sklearn-color-unfitted-level-2);\n",
       "}\n",
       "\n",
       "#sk-container-id-2 div.sk-estimator.fitted:hover {\n",
       "  /* fitted */\n",
       "  background-color: var(--sklearn-color-fitted-level-2);\n",
       "}\n",
       "\n",
       "/* Specification for estimator info (e.g. \"i\" and \"?\") */\n",
       "\n",
       "/* Common style for \"i\" and \"?\" */\n",
       "\n",
       ".sk-estimator-doc-link,\n",
       "a:link.sk-estimator-doc-link,\n",
       "a:visited.sk-estimator-doc-link {\n",
       "  float: right;\n",
       "  font-size: smaller;\n",
       "  line-height: 1em;\n",
       "  font-family: monospace;\n",
       "  background-color: var(--sklearn-color-background);\n",
       "  border-radius: 1em;\n",
       "  height: 1em;\n",
       "  width: 1em;\n",
       "  text-decoration: none !important;\n",
       "  margin-left: 1ex;\n",
       "  /* unfitted */\n",
       "  border: var(--sklearn-color-unfitted-level-1) 1pt solid;\n",
       "  color: var(--sklearn-color-unfitted-level-1);\n",
       "}\n",
       "\n",
       ".sk-estimator-doc-link.fitted,\n",
       "a:link.sk-estimator-doc-link.fitted,\n",
       "a:visited.sk-estimator-doc-link.fitted {\n",
       "  /* fitted */\n",
       "  border: var(--sklearn-color-fitted-level-1) 1pt solid;\n",
       "  color: var(--sklearn-color-fitted-level-1);\n",
       "}\n",
       "\n",
       "/* On hover */\n",
       "div.sk-estimator:hover .sk-estimator-doc-link:hover,\n",
       ".sk-estimator-doc-link:hover,\n",
       "div.sk-label-container:hover .sk-estimator-doc-link:hover,\n",
       ".sk-estimator-doc-link:hover {\n",
       "  /* unfitted */\n",
       "  background-color: var(--sklearn-color-unfitted-level-3);\n",
       "  color: var(--sklearn-color-background);\n",
       "  text-decoration: none;\n",
       "}\n",
       "\n",
       "div.sk-estimator.fitted:hover .sk-estimator-doc-link.fitted:hover,\n",
       ".sk-estimator-doc-link.fitted:hover,\n",
       "div.sk-label-container:hover .sk-estimator-doc-link.fitted:hover,\n",
       ".sk-estimator-doc-link.fitted:hover {\n",
       "  /* fitted */\n",
       "  background-color: var(--sklearn-color-fitted-level-3);\n",
       "  color: var(--sklearn-color-background);\n",
       "  text-decoration: none;\n",
       "}\n",
       "\n",
       "/* Span, style for the box shown on hovering the info icon */\n",
       ".sk-estimator-doc-link span {\n",
       "  display: none;\n",
       "  z-index: 9999;\n",
       "  position: relative;\n",
       "  font-weight: normal;\n",
       "  right: .2ex;\n",
       "  padding: .5ex;\n",
       "  margin: .5ex;\n",
       "  width: min-content;\n",
       "  min-width: 20ex;\n",
       "  max-width: 50ex;\n",
       "  color: var(--sklearn-color-text);\n",
       "  box-shadow: 2pt 2pt 4pt #999;\n",
       "  /* unfitted */\n",
       "  background: var(--sklearn-color-unfitted-level-0);\n",
       "  border: .5pt solid var(--sklearn-color-unfitted-level-3);\n",
       "}\n",
       "\n",
       ".sk-estimator-doc-link.fitted span {\n",
       "  /* fitted */\n",
       "  background: var(--sklearn-color-fitted-level-0);\n",
       "  border: var(--sklearn-color-fitted-level-3);\n",
       "}\n",
       "\n",
       ".sk-estimator-doc-link:hover span {\n",
       "  display: block;\n",
       "}\n",
       "\n",
       "/* \"?\"-specific style due to the `<a>` HTML tag */\n",
       "\n",
       "#sk-container-id-2 a.estimator_doc_link {\n",
       "  float: right;\n",
       "  font-size: 1rem;\n",
       "  line-height: 1em;\n",
       "  font-family: monospace;\n",
       "  background-color: var(--sklearn-color-background);\n",
       "  border-radius: 1rem;\n",
       "  height: 1rem;\n",
       "  width: 1rem;\n",
       "  text-decoration: none;\n",
       "  /* unfitted */\n",
       "  color: var(--sklearn-color-unfitted-level-1);\n",
       "  border: var(--sklearn-color-unfitted-level-1) 1pt solid;\n",
       "}\n",
       "\n",
       "#sk-container-id-2 a.estimator_doc_link.fitted {\n",
       "  /* fitted */\n",
       "  border: var(--sklearn-color-fitted-level-1) 1pt solid;\n",
       "  color: var(--sklearn-color-fitted-level-1);\n",
       "}\n",
       "\n",
       "/* On hover */\n",
       "#sk-container-id-2 a.estimator_doc_link:hover {\n",
       "  /* unfitted */\n",
       "  background-color: var(--sklearn-color-unfitted-level-3);\n",
       "  color: var(--sklearn-color-background);\n",
       "  text-decoration: none;\n",
       "}\n",
       "\n",
       "#sk-container-id-2 a.estimator_doc_link.fitted:hover {\n",
       "  /* fitted */\n",
       "  background-color: var(--sklearn-color-fitted-level-3);\n",
       "}\n",
       "</style><div id=\"sk-container-id-2\" class=\"sk-top-container\"><div class=\"sk-text-repr-fallback\"><pre>LogisticRegression()</pre><b>In a Jupyter environment, please rerun this cell to show the HTML representation or trust the notebook. <br />On GitHub, the HTML representation is unable to render, please try loading this page with nbviewer.org.</b></div><div class=\"sk-container\" hidden><div class=\"sk-item\"><div class=\"sk-estimator fitted sk-toggleable\"><input class=\"sk-toggleable__control sk-hidden--visually\" id=\"sk-estimator-id-2\" type=\"checkbox\" checked><label for=\"sk-estimator-id-2\" class=\"sk-toggleable__label fitted sk-toggleable__label-arrow fitted\">&nbsp;&nbsp;LogisticRegression<a class=\"sk-estimator-doc-link fitted\" rel=\"noreferrer\" target=\"_blank\" href=\"https://scikit-learn.org/1.4/modules/generated/sklearn.linear_model.LogisticRegression.html\">?<span>Documentation for LogisticRegression</span></a><span class=\"sk-estimator-doc-link fitted\">i<span>Fitted</span></span></label><div class=\"sk-toggleable__content fitted\"><pre>LogisticRegression()</pre></div> </div></div></div></div>"
      ],
      "text/plain": [
       "LogisticRegression()"
      ]
     },
     "execution_count": 63,
     "metadata": {},
     "output_type": "execute_result"
    }
   ],
   "source": [
    "clf = LogisticRegression(fit_intercept=True)\n",
    "clf.fit(X, y)"
   ]
  },
  {
   "cell_type": "markdown",
   "id": "cc83a175-e81b-4086-957a-82af81c91304",
   "metadata": {},
   "source": [
    "## 5.2 the learned parameters"
   ]
  },
  {
   "cell_type": "code",
   "execution_count": 64,
   "id": "02a4cead-bacb-4617-a845-79349c32efa8",
   "metadata": {},
   "outputs": [
    {
     "name": "stdout",
     "output_type": "stream",
     "text": [
      "\n",
      "✅ sklearn 学到的参数：\n",
      "coef_: [[ 10.32744367 -15.46355059]]\n",
      "intercept_: [2.6327741]\n"
     ]
    }
   ],
   "source": [
    "print(\"\\n✅ sklearn 学到的参数：\")\n",
    "print(f\"coef_: {clf.coef_}\")\n",
    "print(f\"intercept_: {clf.intercept_}\")"
   ]
  },
  {
   "cell_type": "code",
   "execution_count": 57,
   "id": "60d050b3-6313-47a9-bc27-60e77250402a",
   "metadata": {},
   "outputs": [],
   "source": [
    "y_pred_prob = clf.predict_proba(X)[:, 1]\n",
    "y_pred_label = clf.predict(X)"
   ]
  },
  {
   "cell_type": "markdown",
   "id": "27ee9ce3-7441-4696-80ab-bf87c86dc141",
   "metadata": {},
   "source": [
    "## 5.3 ACC AUC"
   ]
  },
  {
   "cell_type": "code",
   "execution_count": 58,
   "id": "daf3695e-71db-469e-b5b3-ce1a24b855ef",
   "metadata": {},
   "outputs": [],
   "source": [
    "acc = accuracy_score(y, y_pred_label)\n",
    "auc = roc_auc_score(y, y_pred_prob)"
   ]
  },
  {
   "cell_type": "code",
   "execution_count": 59,
   "id": "1760809a-0119-4320-92df-e2dc06920c96",
   "metadata": {},
   "outputs": [
    {
     "name": "stdout",
     "output_type": "stream",
     "text": [
      "\n",
      "Accuracy: 0.9993\n",
      "AUC: 1.0000\n"
     ]
    }
   ],
   "source": [
    "print(f\"\\nAccuracy: {acc:.4f}\")\n",
    "print(f\"AUC: {auc:.4f}\")"
   ]
  },
  {
   "cell_type": "markdown",
   "id": "518a1f4d-1261-4e2d-ab0d-622df3ddc8c5",
   "metadata": {},
   "source": [
    "## 5.4 ROC curve"
   ]
  },
  {
   "cell_type": "code",
   "execution_count": 60,
   "id": "4cf9797c-99eb-4a3d-a647-6727de55b564",
   "metadata": {},
   "outputs": [
    {
     "data": {
      "image/png": "[encoded data removed]",
      "text/plain": [
       "<Figure size 640x480 with 1 Axes>"
      ]
     },
     "metadata": {},
     "output_type": "display_data"
    }
   ],
   "source": [
    "fpr, tpr, thresholds = roc_curve(y, y_pred_prob)\n",
    "\n",
    "plt.plot(fpr, tpr, label=f\"AUC = {auc:.4f}\")\n",
    "plt.plot([0, 1], [0, 1], 'k--')\n",
    "plt.title(\"ROC Curve\")\n",
    "plt.xlabel(\"False Positive Rate\")\n",
    "plt.ylabel(\"True Positive Rate\")\n",
    "plt.legend()\n",
    "plt.grid(True)\n",
    "plt.show()"
   ]
  },
  {
   "cell_type": "markdown",
   "id": "0a07fe9c-c5f6-4bf8-8009-56542785aeaf",
   "metadata": {},
   "source": [
    "## 5.5 regularization"
   ]
  },
  {
   "cell_type": "markdown",
   "id": "b0243063-b62e-4d70-adde-280fdc2696c3",
   "metadata": {},
   "source": [
    "we can see that the weights get by sklearn is 5x that of pytorch or scratch from numpy, since the linear separable X@W + b= 0 "
   ]
  },
  {
   "cell_type": "code",
   "execution_count": 66,
   "id": "e298fc42-a2a3-421a-9093-e6a42aa302bf",
   "metadata": {},
   "outputs": [
    {
     "name": "stdout",
     "output_type": "stream",
     "text": [
      "\n",
      "✅ sklearn 学到的参数：\n",
      "coef_: [[ 10.32744367 -15.46355059]]\n",
      "intercept_: [2.6327741]\n"
     ]
    }
   ],
   "source": [
    "clf2 = LogisticRegression(penalty='l2', solver='lbfgs')\n",
    "clf2.fit(X, y)\n",
    "print(\"\\n✅ sklearn 学到的参数：\")\n",
    "print(f\"coef_: {clf2.coef_}\")\n",
    "print(f\"intercept_: {clf2.intercept_}\")"
   ]
  },
  {
   "cell_type": "markdown",
   "id": "bd0d5b9c-d699-4671-a0a7-208feaaf1317",
   "metadata": {},
   "source": [
    "but regularization still 5x that weights..."
   ]
  },
  {
   "cell_type": "code",
   "execution_count": 67,
   "id": "04a60e8b-4321-417f-865d-eef36e816fe2",
   "metadata": {},
   "outputs": [
    {
     "name": "stdout",
     "output_type": "stream",
     "text": [
      "\n",
      "✅ sklearn 学到的参数：\n",
      "coef_: [[ 4.74878194 -7.10337401]]\n",
      "intercept_: [1.22876526]\n"
     ]
    }
   ],
   "source": [
    "clf_l2_strong = LogisticRegression(penalty='l2', C=0.1)\n",
    "clf_l2_strong.fit(X, y)\n",
    "print(\"\\n✅ sklearn 学到的参数：\")\n",
    "print(f\"coef_: {clf_l2_strong.coef_}\")\n",
    "print(f\"intercept_: {clf_l2_strong.intercept_}\")"
   ]
  },
  {
   "cell_type": "code",
   "execution_count": 68,
   "id": "9dc680ec-3ff7-49fa-ac4e-762179cdd2a9",
   "metadata": {},
   "outputs": [
    {
     "name": "stdout",
     "output_type": "stream",
     "text": [
      "\n",
      "✅ sklearn 学到的参数：\n",
      "coef_: [[ 6.00954163 -8.99405291]]\n",
      "intercept_: [1.54354391]\n"
     ]
    }
   ],
   "source": [
    "clf_l2_strong = LogisticRegression(penalty='l2', C=0.2)\n",
    "clf_l2_strong.fit(X, y)\n",
    "print(\"\\n✅ sklearn 学到的参数：\")\n",
    "print(f\"coef_: {clf_l2_strong.coef_}\")\n",
    "print(f\"intercept_: {clf_l2_strong.intercept_}\")"
   ]
  },
  {
   "cell_type": "code",
   "execution_count": 69,
   "id": "079893b9-0cd0-4305-80d7-5f0a18683c4d",
   "metadata": {},
   "outputs": [
    {
     "name": "stdout",
     "output_type": "stream",
     "text": [
      "\n",
      "✅ sklearn 学到的参数：\n",
      "coef_: [[  8.18910991 -12.26419869]]\n",
      "intercept_: [2.09636527]\n"
     ]
    }
   ],
   "source": [
    "clf_l2_strong = LogisticRegression(penalty='l2', C=0.5)\n",
    "clf_l2_strong.fit(X, y)\n",
    "print(\"\\n✅ sklearn 学到的参数：\")\n",
    "print(f\"coef_: {clf_l2_strong.coef_}\")\n",
    "print(f\"intercept_: {clf_l2_strong.intercept_}\")"
   ]
  },
  {
   "cell_type": "code",
   "execution_count": 70,
   "id": "b5feadec-4f5d-4532-9d6f-353ccc28343c",
   "metadata": {},
   "outputs": [
    {
     "name": "stdout",
     "output_type": "stream",
     "text": [
      "\n",
      "✅ sklearn 学到的参数：\n",
      "coef_: [[ 10.32744367 -15.46355059]]\n",
      "intercept_: [2.6327741]\n"
     ]
    }
   ],
   "source": [
    "clf_l2_strong = LogisticRegression(penalty='l2', C=1)\n",
    "clf_l2_strong.fit(X, y)\n",
    "print(\"\\n✅ sklearn 学到的参数：\")\n",
    "print(f\"coef_: {clf_l2_strong.coef_}\")\n",
    "print(f\"intercept_: {clf_l2_strong.intercept_}\")"
   ]
  },
  {
   "cell_type": "code",
   "execution_count": null,
   "id": "eddb3119-0583-40d0-8f7b-8e202fdd90ed",
   "metadata": {},
   "outputs": [],
   "source": []
  }
 ],
 "metadata": {
  "kernelspec": {
   "display_name": "Python 3 (ipykernel)",
   "language": "python",
   "name": "python3"
  },
  "language_info": {
   "codemirror_mode": {
    "name": "ipython",
    "version": 3
   },
   "file_extension": ".py",
   "mimetype": "text/x-python",
   "name": "python",
   "nbconvert_exporter": "python",
   "pygments_lexer": "ipython3",
   "version": "3.10.13"
  }
 },
 "nbformat": 4,
 "nbformat_minor": 5
}
