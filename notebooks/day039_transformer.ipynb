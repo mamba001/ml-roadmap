{
 "cells": [
  {
   "cell_type": "code",
   "execution_count": 2,
   "id": "39708c9b-b93a-4cdf-af95-1637bf378519",
   "metadata": {},
   "outputs": [],
   "source": [
    "import math, time\n",
    "import numpy as np\n",
    "import torch\n",
    "import torch.nn as nn\n",
    "import torch.nn.functional as F\n",
    "\n",
    "torch.manual_seed(42)\n",
    "DEVICE = \"mps\""
   ]
  },
  {
   "cell_type": "markdown",
   "id": "26b761a5-432d-446a-ae6f-77b2180da6d8",
   "metadata": {},
   "source": [
    "# 1. Multi_head attention (MHA)"
   ]
  },
  {
   "cell_type": "code",
   "execution_count": 6,
   "id": "3b2feba8-01b7-48c0-a686-524316c23587",
   "metadata": {},
   "outputs": [
    {
     "name": "stdout",
     "output_type": "stream",
     "text": [
      "[1] shapes: Q torch.Size([2, 4, 8]) scores torch.Size([2, 2, 4, 4]) head_out torch.Size([2, 2, 4, 4]) out torch.Size([2, 4, 8])\n",
      "[1] param count ~ 256 (≈ 4*d_model^2)\n"
     ]
    }
   ],
   "source": [
    "B, T, d_model, h = 2, 4, 8, 2\n",
    "d_k = d_model // h\n",
    "\n",
    "x = torch.randn(B, T, d_model)\n",
    "\n",
    "Wq = torch.randn(d_model, d_model)\n",
    "Wk = torch.randn(d_model, d_model)\n",
    "Wv = torch.randn(d_model, d_model)\n",
    "Wo = torch.randn(d_model, d_model)\n",
    "\n",
    "Q = x @ Wq\n",
    "K = x @ Wk\n",
    "V = x @ Wv\n",
    "\n",
    "def split_heads(t):\n",
    "    return t.view(B, T, h, d_k).transpose(1, 2) #[B, h, T, d_k]\n",
    "\n",
    "Qh, Kh, Vh = map(split_heads, (Q, K, V))\n",
    "\n",
    "#attention per head scores [B, h, T, T]\n",
    "scores = torch.matmul(Qh, Kh.transpose(-2, -1)) / math.sqrt(d_k)\n",
    "attn = scores.softmax(dim=-1)\n",
    "\n",
    "# within head [B, h, T, d_k]\n",
    "head_out = torch.matmul(attn, Vh)\n",
    "\n",
    "# back to []B, T, d], then multiply Wo\n",
    "out = head_out.transpose(1, 2).contiguous().view(B, T, d_model) @ Wo\n",
    "\n",
    "print(\"[1] shapes:\",\n",
    "      \"Q\", Q.shape, \"scores\", scores.shape, \"head_out\", head_out.shape, \"out\", out.shape)\n",
    "print(\"[1] param count ~\", Wq.numel()+Wk.numel()+Wv.numel()+Wo.numel(), \"(≈ 4*d_model^2)\")"
   ]
  },
  {
   "cell_type": "markdown",
   "id": "c67891e2-3a44-4acf-8921-9c88ce0e491a",
   "metadata": {},
   "source": [
    "# 2. Masks"
   ]
  },
  {
   "cell_type": "code",
   "execution_count": 7,
   "id": "a6448fcf-389b-4e8a-9b24-1727590f5612",
   "metadata": {},
   "outputs": [
    {
     "name": "stdout",
     "output_type": "stream",
     "text": [
      "[2] weights with pad mask: torch.Size([1, 2, 4, 4])\n",
      "    col sums of masked keys ~ 0?: 0.0\n"
     ]
    }
   ],
   "source": [
    "attn_mod = nn.MultiheadAttention(embed_dim=8, num_heads=2, batch_first=True)\n",
    "\n",
    "x = torch.randn(1, 4, 8) #[1,4,8]\n",
    "\n",
    "#suppose last two positions are PAD\n",
    "key_padding_mask = torch.tensor([[False, False, True, True]]) # [B,T]\n",
    "\n",
    "y, w = attn_mod(x, x, x, key_padding_mask = key_padding_mask, need_weights=True, average_attn_weights=False)\n",
    "print(\"[2] weights with pad mask:\", w.shape)  # [B,h,T_q,T_k]\n",
    "print(\"    col sums of masked keys ~ 0?:\", w[0,0,:,2:].sum().item())"
   ]
  },
  {
   "cell_type": "code",
   "execution_count": 8,
   "id": "3361ee79-40ab-4a02-9f16-06579ce77fff",
   "metadata": {},
   "outputs": [
    {
     "name": "stdout",
     "output_type": "stream",
     "text": [
      "[2] causal upper triangle masked? head0 row0-> future cols sum ~ 0: 0.0\n"
     ]
    }
   ],
   "source": [
    "T = x.size(1)\n",
    "causal = torch.triu(torch.ones(T, T, dtype=torch.bool), diagonal=1) #[T,T]\n",
    "y2, w2 = attn_mod(x, x, x, key_padding_mask=key_padding_mask, attn_mask=causal, need_weights=True, average_attn_weights=False)\n",
    "print(\"[2] causal upper triangle masked? head0 row0-> future cols sum ~ 0:\", w2[0,0,0,1:].sum().item())"
   ]
  },
  {
   "cell_type": "markdown",
   "id": "08111272-5a65-4c2e-8d0b-746252efbf35",
   "metadata": {},
   "source": [
    "# 3. Pre-LN vs Post-LN"
   ]
  },
  {
   "cell_type": "code",
   "execution_count": 12,
   "id": "24bee38e-e558-452e-9116-44aa0160303e",
   "metadata": {},
   "outputs": [],
   "source": [
    "class PreLNBlock(nn.Module):\n",
    "    def __init__(self, d=16, h=2):\n",
    "        super().__init__()\n",
    "        self.ln1 = nn.LayerNorm(d)\n",
    "        self.attn = nn.MultiheadAttention(d, h, batch_first=True)\n",
    "        self.ln2 = nn.LayerNorm(d)\n",
    "        self.ffn = nn.Sequential(\n",
    "            nn.Linear(d, 4*d),\n",
    "            nn.GELU(),\n",
    "            nn.Linear(4*d, d),\n",
    "        )\n",
    "\n",
    "    def forward(self, x):\n",
    "        h = self.ln1(x)\n",
    "        a, _ = self.attn(h, h, h, need_weights=False)\n",
    "        x = x + a\n",
    "        h = self.ln2(x)\n",
    "        f = self.ffn(h)\n",
    "        x = x + f\n",
    "        return x\n",
    "    "
   ]
  },
  {
   "cell_type": "code",
   "execution_count": 13,
   "id": "0d92e842-1b02-4850-94f2-c3c1bdd1930c",
   "metadata": {},
   "outputs": [],
   "source": [
    "class PostLNBlock(nn.Module):\n",
    "    def __init__(self, d=16, h=2):\n",
    "        super().__init__()\n",
    "        self.attn = nn.MultiheadAttention(d, h, batch_first=True)\n",
    "        self.ln1 = nn.LayerNorm(d) \n",
    "        self.ffn = nn.Sequential(\n",
    "            nn.Linear(d, 4*d),\n",
    "            nn.GELU(),\n",
    "            nn.Linear(4*d, d),\n",
    "        )\n",
    "        self.ln2 = nn.LayerNorm(d)\n",
    "\n",
    "    def forward(self, x):\n",
    "        a, _ = self.attn(x, x, x, need_weights=False)\n",
    "        x = self.ln1(a + x)\n",
    "        f = self.ffn(x)\n",
    "        x = self.ln2(f + x)\n",
    "        return x"
   ]
  },
  {
   "cell_type": "code",
   "execution_count": 14,
   "id": "d301e61a-d533-4b2d-ae27-7466394a85b2",
   "metadata": {},
   "outputs": [
    {
     "name": "stdout",
     "output_type": "stream",
     "text": [
      "[3] Pre-LN out shape: torch.Size([2, 5, 16])\n",
      "[3] Post-LN out shape: torch.Size([2, 5, 16])\n"
     ]
    }
   ],
   "source": [
    "x = torch.randn(2, 5, 16)\n",
    "print(\"[3] Pre-LN out shape:\", PreLNBlock()(x).shape)\n",
    "print(\"[3] Post-LN out shape:\", PostLNBlock()(x).shape)"
   ]
  },
  {
   "cell_type": "markdown",
   "id": "ad69e5c7-6bdd-465b-b6a4-bfe29cda5bca",
   "metadata": {},
   "source": [
    "# 4. Positional encoding: sinusoidal/learned/relative/R(rotation)oPE"
   ]
  },
  {
   "cell_type": "markdown",
   "id": "15f58b56-741d-40ce-86b1-b75764367b9c",
   "metadata": {},
   "source": [
    "## 4.1 Sinusoidal (fixed) + learned"
   ]
  },
  {
   "cell_type": "code",
   "execution_count": 15,
   "id": "b5217f31-6554-41b6-b284-26188ac03da6",
   "metadata": {},
   "outputs": [],
   "source": [
    "B, T, d = 1, 6, 8\n",
    "tok = torch.randn(B, T, d)"
   ]
  },
  {
   "cell_type": "code",
   "execution_count": 19,
   "id": "1062f82a-7fd2-4bff-a8f9-1356a432420a",
   "metadata": {},
   "outputs": [
    {
     "name": "stdout",
     "output_type": "stream",
     "text": [
      "[4A] sinusoidal added shape: torch.Size([1, 6, 8])\n"
     ]
    }
   ],
   "source": [
    "# Sinusoidal\n",
    "pos = torch.arange(T).unsqueeze(1) #[T,1]\n",
    "div = torch.exp(torch.arange(0, d, 2) * (-math.log(10000.0)/d)) #[d/2]\n",
    "pe = torch.zeros(T, d) #[T, d]\n",
    "pe[:, 0::2] = torch.sin(pos * div)\n",
    "pe[:, 1::2] = torch.cos(pos * div)\n",
    "tok_sin = tok + pe.unsqueeze(0)\n",
    "print(\"[4A] sinusoidal added shape:\", tok_sin.shape)"
   ]
  },
  {
   "cell_type": "code",
   "execution_count": 24,
   "id": "5de495b2-3caa-47fb-9db1-93c2e68ae8e5",
   "metadata": {},
   "outputs": [
    {
     "name": "stdout",
     "output_type": "stream",
     "text": [
      "[4A] learned added shape: torch.Size([1, 6, 8])\n"
     ]
    }
   ],
   "source": [
    "# learned\n",
    "pos_emb = nn.Embedding(512, d) #learned table\n",
    "pos_ids = torch.arange(T).unsqueeze(0) #[1, T]\n",
    "tok_learned = tok + pos_emb(pos_ids)\n",
    "print(\"[4A] learned added shape:\", tok_learned.shape)"
   ]
  },
  {
   "cell_type": "markdown",
   "id": "f9158561-25c0-43fd-99a7-874144cca705",
   "metadata": {},
   "source": [
    "## 4.2 Relative position"
   ]
  },
  {
   "cell_type": "code",
   "execution_count": 33,
   "id": "48413e66-4411-4539-9d85-bc2e144bb3ea",
   "metadata": {},
   "outputs": [],
   "source": [
    "def relative_position_bucket(rel_pos, num_buckets=8, max_distance=32):\n",
    "    # simplified: small distance -> linear buckets, large distance -> log buckets\n",
    "    ret = torch.zeros_like(rel_pos)\n",
    "    n = rel_pos.abs()\n",
    "    max_exact = num_buckets // 2\n",
    "    is_small = n < max_exact\n",
    "    ret[is_small] = n[is_small]\n",
    "    # large distance\n",
    "    n_large = n.clone().clamp_min(max_exact)\n",
    "    val = max_exact + (\n",
    "        (torch.log(n_large.float()/max_exact) / math.log(max_distance/max_exact)) * (num_buckets - max_exact)\n",
    "    ).long().clamp_max(num_buckets - 1 - max_exact)\n",
    "    ret[~is_small] = val[~is_small]\n",
    "    return ret"
   ]
  },
  {
   "cell_type": "code",
   "execution_count": 41,
   "id": "b90b0aa9-31a9-4955-9181-abb23214d17a",
   "metadata": {},
   "outputs": [],
   "source": [
    "# explain what above code doing...\n",
    "# rel_pos is relative positions, such as i - j, shape normally [T_q, T_k]\n",
    "# output same shape as rel_pos, each element is the id of buckets, from 0 to num_buckets-1\n",
    "\n",
    "# then max_exact is dividing buckets into two sets, \n",
    "# first half [0, num_exact-1] for precise small distance and second half [num_exact, num_buckets-1] for large distance and log compression\n",
    "\n",
    "# small distance directly using distance as id of buckets from 1 to max_exact-1\n",
    "# for large distance, copy and clamp the min to max_exact\n",
    "# 详细分解：\n",
    "\n",
    "#n_large / max_exact → 把阈值点对齐到 1。\n",
    "\n",
    "#log(n_large/max_exact) / log(max_distance/max_exact) → 把对数值归一化到 [0,1]。\n",
    "\n",
    "#* (num_buckets - max_exact) → 线性放大到后半桶的区间长度。\n",
    "\n",
    "#+ max_exact → 平移，让索引落到后半区间（如 4~7）。\n",
    "\n",
    "#.long() → 取整（向下取整），得到离散桶号。\n",
    "\n",
    "#.clamp_max(num_buckets - 1 - max_exact) → 限制映射不超过后半区间最大偏移量（超出 max_distance 的距离都挤到最后一个桶）。"
   ]
  },
  {
   "cell_type": "code",
   "execution_count": 42,
   "id": "0cc89d8b-335b-4c10-bd4f-609b7b354be3",
   "metadata": {},
   "outputs": [],
   "source": [
    "# eg\n",
    "#设 num_buckets=8, max_distance=32：\n",
    "\n",
    "#距离 n=0,1,2,3 → 直接映射到桶 0,1,2,3（线性、精确）。\n",
    "\n",
    "#距离 n=4..32 → 映射到桶 4..7（对数压缩，越远越“挤”到高桶）。\n",
    "\n",
    "#距离 n>32 → 统一映射到最后一个桶 7（上限截断）。"
   ]
  },
  {
   "cell_type": "code",
   "execution_count": 34,
   "id": "f4ad70cf-673f-4429-9387-5811a21d7d27",
   "metadata": {},
   "outputs": [
    {
     "name": "stdout",
     "output_type": "stream",
     "text": [
      "[4B] relative bias per-head shape: torch.Size([2, 6, 6])\n"
     ]
    }
   ],
   "source": [
    "Tq=Tk=T\n",
    "q_pos = torch.arange(Tq).unsqueeze(1)            # [T,1]\n",
    "k_pos = torch.arange(Tk).unsqueeze(0)            # [1,T]\n",
    "rel = q_pos - k_pos                              # [T,T]  (i-j)\n",
    "buckets = relative_position_bucket(rel)          # [T,T]\n",
    "rel_bias_table = nn.Embedding(8, 2)              # 假设2头 -> 每桶2维\n",
    "bias = rel_bias_table(buckets).permute(2,0,1)    # [2,T,T] -> per-head bias\n",
    "print(\"[4B] relative bias per-head shape:\", bias.shape)"
   ]
  },
  {
   "cell_type": "markdown",
   "id": "2d65f772-b58c-4180-872d-127291cefd1a",
   "metadata": {},
   "source": [
    "## 4.3 RoPE"
   ]
  },
  {
   "cell_type": "code",
   "execution_count": 39,
   "id": "4823b31e-6e59-4133-939c-bbb5cc2a0da3",
   "metadata": {},
   "outputs": [],
   "source": [
    "def rope_apply(q, k):\n",
    "    \"\"\"\n",
    "    q, k: [B, h, T, d], assume d is even number, do rotation on every pair of dimension (2i, 2i+1)\n",
    "    \"\"\"\n",
    "    B, H, T, D = q.shape\n",
    "    half = D // 2\n",
    "    freqs = torch.exp(torch.arange(0, half) * (-math.log(10000.0)/half)) #[D/2]\n",
    "    pos = torch.arange(T)[:, None] #[T,1]\n",
    "    ang = pos * freqs[None, :] #[T, D/2]\n",
    "    sin, cos = ang.sin(), ang.cos()\n",
    "\n",
    "    def split2(x):\n",
    "        return x[..., : half], x[..., half:]\n",
    "\n",
    "    q1, q2 = split2(q)\n",
    "    k1, k2 = split2(k)\n",
    "\n",
    "    # rotation: (x1, x2) -> (x1 * cos - x2 * sin, x1 * sin + x2 * cos)\n",
    "    def rot(x1, x2):\n",
    "        # need broadcast [T, D/2] into [B, H, T, D/2]\n",
    "        return (x1 * cos[None, None, :, :] - x2 * sin[None, None, :, :],\n",
    "                x1 * sin[None, None, :, :] + x2 * cos[None, None, :, :])\n",
    "\n",
    "    rq1, rq2 = rot(q1, q2)\n",
    "    rk1, rk2 = rot(k1, k2)\n",
    "    rq = torch.cat([rq1, rq2], dim=-1)\n",
    "    rk = torch.cat([rk1, rk2], dim=-1)\n",
    "    return rq, rk"
   ]
  },
  {
   "cell_type": "code",
   "execution_count": 40,
   "id": "4fe3adcd-f1b9-4be2-be83-472bcdeded1d",
   "metadata": {},
   "outputs": [
    {
     "name": "stdout",
     "output_type": "stream",
     "text": [
      "[4C] rope/no_rope score shapes: torch.Size([1, 2, 5, 5]) torch.Size([1, 2, 5, 5])\n"
     ]
    }
   ],
   "source": [
    "B,H,T,D = 1,2,5,8\n",
    "q = torch.randn(B,H,T,D); k = torch.randn(B,H,T,D)\n",
    "rq, rk = rope_apply(q,k)\n",
    "# 对比未加 vs 加RoPE后不同行的点积，体现“相对”位置信息\n",
    "no_rope_scores = (q @ k.transpose(-2,-1)) / math.sqrt(D)\n",
    "rope_scores   = (rq @ rk.transpose(-2,-1)) / math.sqrt(D)\n",
    "print(\"[4C] rope/no_rope score shapes:\", rope_scores.shape, no_rope_scores.shape)"
   ]
  },
  {
   "cell_type": "markdown",
   "id": "69200eac-813e-44ca-8f25-ddd648694fc6",
   "metadata": {},
   "source": [
    "# 5. Label smoothing, warmup LR, grad clipping"
   ]
  },
  {
   "cell_type": "markdown",
   "id": "58d82fe4-f21c-4737-b6fe-76bb1204f406",
   "metadata": {},
   "source": [
    "## 5.1 Label smoothing vs cross entropy"
   ]
  },
  {
   "cell_type": "code",
   "execution_count": 43,
   "id": "84431bfc-29c5-4d50-ab60-31c95eb5ac28",
   "metadata": {},
   "outputs": [
    {
     "name": "stdout",
     "output_type": "stream",
     "text": [
      "[5A] CE: 2.4806559085845947   CE with LS(0.1): 2.4492783546447754\n"
     ]
    }
   ],
   "source": [
    "B, V = 3, 5\n",
    "logits = torch.randn(B, V)\n",
    "targets = torch.tensor([1, 3, 0])\n",
    "\n",
    "# typical cross entropy\n",
    "ce = F.cross_entropy(logits, targets, reduction=\"mean\")\n",
    "\n",
    "# Label smoothing\n",
    "eps = 0.1\n",
    "logp = F.log_softmax(logits, dim=-1) #[B,V]\n",
    "nll = F.nll_loss(logp, targets, reduction=\"mean\")\n",
    "ls = -logp.mean()\n",
    "ce_ls = (1 - eps) * nll + eps * ls\n",
    "\n",
    "print(\"[5A] CE:\", ce.item(), \"  CE with LS(0.1):\", ce_ls.item())"
   ]
  },
  {
   "cell_type": "markdown",
   "id": "7dbd45b2-ad49-40c1-ba6b-f99e01a2a20e",
   "metadata": {},
   "source": [
    "## 5.2 Warmup + Inverse Sqrt"
   ]
  },
  {
   "cell_type": "code",
   "execution_count": 44,
   "id": "8f17ddd1-7494-4917-affb-48fec5f65691",
   "metadata": {},
   "outputs": [
    {
     "name": "stdout",
     "output_type": "stream",
     "text": [
      "[5B] first 10 warmup+inv-sqrt lrs: ['0.000000', '0.000001', '0.000001', '0.000001', '0.000002', '0.000002', '0.000002', '0.000003', '0.000003', '0.000003']\n"
     ]
    }
   ],
   "source": [
    "def transformer_lr(step, d_model=128, warmup=4000):\n",
    "    step = max(1, step)\n",
    "    return (d_model ** -0.5) * min(step ** -0.5, step * (warmup ** -1.5))\n",
    "\n",
    "lrs = [transformer_lr(s) for s in range(1, 11)]\n",
    "print(\"[5B] first 10 warmup+inv-sqrt lrs:\", [f\"{x:.6f}\" for x in lrs])"
   ]
  },
  {
   "cell_type": "markdown",
   "id": "c85aa12d-97c7-4cf4-a4f5-1235311d6ab4",
   "metadata": {},
   "source": [
    "## 5.3 Gradient clipping"
   ]
  },
  {
   "cell_type": "code",
   "execution_count": 46,
   "id": "1f5c0968-24f9-4493-a4a1-9c52e681779a",
   "metadata": {},
   "outputs": [
    {
     "name": "stdout",
     "output_type": "stream",
     "text": [
      "[5C] grad norm before ~1250.979, after ~1.000\n"
     ]
    }
   ],
   "source": [
    "lin = nn.Linear(64, 64)\n",
    "x = torch.randn(128, 64)\n",
    "y = lin(x).sum()\n",
    "y.backward()\n",
    "before = torch.nn.utils.clip_grad_norm_(lin.parameters(), max_norm=1.0) # total norm before clipping\n",
    "after = 0.0\n",
    "for p in lin.parameters():\n",
    "    if p.grad is not None:\n",
    "        after += p.grad.norm().item()**2\n",
    "after = after ** 0.5\n",
    "print(f\"[5C] grad norm before ~{before:.3f}, after ~{after:.3f}\")"
   ]
  },
  {
   "cell_type": "markdown",
   "id": "ea9f0628-28ba-45e7-986a-c8c2693ed413",
   "metadata": {},
   "source": [
    "# 6. Decoder & KV Cache: step generation vs. full forward"
   ]
  },
  {
   "cell_type": "code",
   "execution_count": 47,
   "id": "e74c5663-7720-41ec-85d1-94a16ffbea6d",
   "metadata": {},
   "outputs": [
    {
     "name": "stdout",
     "output_type": "stream",
     "text": [
      "[6] step-vs-full allclose? -> True\n"
     ]
    }
   ],
   "source": [
    "class MiniSelfAttn(nn.Module):\n",
    "    def __init__(self, d=16, h=2):\n",
    "        super().__init__()\n",
    "        self.d = d\n",
    "        self.h = h\n",
    "        self.dk = d // h\n",
    "        self.Wq = nn.Linear(d, d, bias=False)\n",
    "        self.Wk = nn.Linear(d, d, bias=False)\n",
    "        self.Wv = nn.Linear(d, d, bias=False)\n",
    "        self.out = nn.Linear(d, d, bias=False)\n",
    "\n",
    "    def split(self, x): # [B, T, d] -> [B, h, T, dk]\n",
    "        B, T, _ = x.shape\n",
    "        return x.view(B, T, self.h, self.dk).transpose(1, 2)\n",
    "\n",
    "    def merge(self, xh): #[B, h, T, dk] -> [B, T, d]\n",
    "        B, _, T, _ = xh.shape\n",
    "        return xh.transpose(1, 2).contiguous().view(B, T, self.d)\n",
    "\n",
    "    def full_forward(self, y): #full (with causal)\n",
    "        Q = self.split(self.Wq(y))\n",
    "        K = self.split(self.Wk(y))\n",
    "        V = self.split(self.Wv(y))\n",
    "        B, H, T, _ = Q.shape\n",
    "        scores = torch.matmul(Q, K.transpose(-2, -1)) / math.sqrt(self.dk)\n",
    "        causal = torch.triu(torch.ones(T, T), diagonal=1).bool()\n",
    "        scores = scores.masked_fill(causal, float(\"-inf\"))\n",
    "        attn = scores.softmax(-1)\n",
    "        out = self.merge(torch.matmul(attn, V))\n",
    "        return self.out(out)\n",
    "\n",
    "    def step(self, y_t, cache): # step wise + cache\n",
    "        # y_t: [B, 1, d]\n",
    "        q = self.split(self.Wq(y_t))\n",
    "        k = self.split(self.Wk(y_t))\n",
    "        v = self.split(self.Wv(y_t)) # all [B, h, 1, dk]\n",
    "\n",
    "        K = k if cache[\"K\"] is None else torch.cat([cache[\"K\"], k], dim=2) #[B, h, t, dk]\n",
    "        V = v if cache[\"V\"] is None else torch.cat([cache[\"V\"], v], dim=2)\n",
    "        cache[\"K\"] = K\n",
    "        cache[\"V\"] = V\n",
    "        scores = torch.matmul(q, K.transpose(-2, -1)) / math.sqrt(self.dk)\n",
    "        attn = scores.softmax(-1)\n",
    "        out = self.merge(torch.matmul(attn, V))\n",
    "        return self.out(out), cache\n",
    "\n",
    "\n",
    "\n",
    "B,T,d,h = 1, 5, 16, 2\n",
    "y = torch.randn(B,T,d)\n",
    "cell = MiniSelfAttn(d=d,h=h)\n",
    "\n",
    "# 全量最后一步输出\n",
    "full_last = cell.full_forward(y)[:, -1, :]  # [B,d]\n",
    "\n",
    "# 逐步生成（KV cache）\n",
    "cache = {\"K\": None, \"V\": None}\n",
    "out_t = None\n",
    "for t in range(T):\n",
    "    out_t, cache = cell.step(y[:, t:t+1, :], cache)  # [B,1,d]\n",
    "\n",
    "step_last = out_t[:, 0, :]                           # [B,d]\n",
    "print(\"[6] step-vs-full allclose? ->\", torch.allclose(full_last, step_last, atol=1e-5))"
   ]
  },
  {
   "cell_type": "markdown",
   "id": "abfb49d9-609a-4d96-8415-1aa9d12e9e5d",
   "metadata": {},
   "source": [
    "# 7. Complexity intuition: O(T^2) and attention matrix"
   ]
  },
  {
   "cell_type": "code",
   "execution_count": 55,
   "id": "c7408563-d132-4a2e-92bd-a4d2b7ad443f",
   "metadata": {},
   "outputs": [
    {
     "name": "stdout",
     "output_type": "stream",
     "text": [
      "[7] avg time @T=64: 0.21 ms (应随 T^2 增长)\n",
      "[7] avg time @T=128: 0.45 ms (应随 T^2 增长)\n",
      "[7] avg time @T=256: 0.87 ms (应随 T^2 增长)\n",
      "[7] avg time @T=512: 3.68 ms (应随 T^2 增长)\n",
      "[7] attn matrix T=256: ~0.25 MB per head/batch\n",
      "[7] attn matrix T=512: ~1.00 MB per head/batch\n",
      "[7] attn matrix T=1024: ~4.00 MB per head/batch\n"
     ]
    }
   ],
   "source": [
    "def naive_attn_time(B=2, h=4, T=256, d_k=64, iters=10):\n",
    "    Q = torch.randn(B, h, T, d_k)\n",
    "    K = torch.randn(B, h, T, d_k)\n",
    "\n",
    "    t0 = time.perf_counter()\n",
    "    for _ in range(iters):\n",
    "        scores = torch.matmul(Q, K.transpose(-2, -1)) #[B, h, T, T], the key O(T^2)\n",
    "        _ = scores.softmax(-1)\n",
    "\n",
    "\n",
    "    return (time.perf_counter() - t0) / iters\n",
    "\n",
    "for T in [64, 128, 256, 512]:\n",
    "    dt = naive_attn_time(T=T)\n",
    "    print(f\"[7] avg time @T={T}: {dt*1000:.2f} ms (应随 T^2 增长)\")\n",
    "\n",
    "# 注意力矩阵内存估算（float32：4字节）\n",
    "for T in [256, 512, 1024]:\n",
    "    bytes_mat = (T*T*4)\n",
    "    print(f\"[7] attn matrix T={T}: ~{bytes_mat/1024/1024:.2f} MB per head/batch\")"
   ]
  },
  {
   "cell_type": "markdown",
   "id": "b755f669-863f-4951-9ff2-fc2a1f6d1e00",
   "metadata": {},
   "source": [
    "# 8. Diagnosis and visualization: weights row sum / masking / heatmap"
   ]
  },
  {
   "cell_type": "code",
   "execution_count": 56,
   "id": "bad4715d-8671-49dc-a4e4-9e589c6c2933",
   "metadata": {},
   "outputs": [],
   "source": [
    "# attn row sum ~= 1, pad column ~= 0"
   ]
  },
  {
   "cell_type": "code",
   "execution_count": 57,
   "id": "1dfd2992-921d-441e-88e2-b3c147bca207",
   "metadata": {},
   "outputs": [
    {
     "name": "stdout",
     "output_type": "stream",
     "text": [
      "[8] row sums (≈1): tensor([1.0000, 1.0000, 1.0000, 1.0000, 1.0000, 1.0000],\n",
      "       grad_fn=<SumBackward1>)\n",
      "[8] masked cols sum (≈0): tensor(0., grad_fn=<SumBackward0>)\n"
     ]
    },
    {
     "data": {
      "image/png": "[encoded data removed]",
      "text/plain": [
       "<Figure size 640x480 with 2 Axes>"
      ]
     },
     "metadata": {},
     "output_type": "display_data"
    }
   ],
   "source": [
    "import matplotlib.pyplot as plt\n",
    "\n",
    "attn_mod = nn.MultiheadAttention(embed_dim=16, num_heads=2, batch_first=True)\n",
    "x = torch.randn(1, 6, 16)\n",
    "pad = torch.tensor([[False, False, False, True, True, True]])  # last three positions PAD\n",
    "\n",
    "_, w = attn_mod(x, x, x, key_padding_mask=pad, need_weights=True, average_attn_weights=False)  # [B,h,T,T]\n",
    "w = w[0,0]  #  head0: [T,T]\n",
    "\n",
    "print(\"[8] row sums (≈1):\", w.sum(-1))\n",
    "print(\"[8] masked cols sum (≈0):\", w[:, 3:].sum())\n",
    "\n",
    "plt.imshow(w.detach().numpy(), aspect='auto')     # visualize the attention weights\n",
    "plt.colorbar(); plt.title(\"Head0 Attention (with pad mask)\")\n",
    "plt.xlabel(\"Keys (columns)\"); plt.ylabel(\"Queries (rows)\")\n",
    "plt.show()"
   ]
  },
  {
   "cell_type": "code",
   "execution_count": null,
   "id": "c04d6443-f221-4a87-a4f8-8e9c7daf78f1",
   "metadata": {},
   "outputs": [],
   "source": []
  }
 ],
 "metadata": {
  "kernelspec": {
   "display_name": "Python 3 (ipykernel)",
   "language": "python",
   "name": "python3"
  },
  "language_info": {
   "codemirror_mode": {
    "name": "ipython",
    "version": 3
   },
   "file_extension": ".py",
   "mimetype": "text/x-python",
   "name": "python",
   "nbconvert_exporter": "python",
   "pygments_lexer": "ipython3",
   "version": "3.10.13"
  }
 },
 "nbformat": 4,
 "nbformat_minor": 5
}
