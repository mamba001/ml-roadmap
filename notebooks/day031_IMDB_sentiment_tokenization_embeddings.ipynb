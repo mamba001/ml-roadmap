{
 "cells": [
  {
   "cell_type": "markdown",
   "id": "f126eba8-d481-4dcc-ab6d-728046164082",
   "metadata": {},
   "source": [
    "# 1. PyTorch EmbeddingBag (mean) -> Linear"
   ]
  },
  {
   "cell_type": "markdown",
   "id": "2fa52959-f3d9-433c-b6c2-c01d1dec438b",
   "metadata": {},
   "source": [
    "## 1.1 set up"
   ]
  },
  {
   "cell_type": "code",
   "execution_count": 1,
   "id": "64815bec-a870-499d-8572-52353e0bb89a",
   "metadata": {},
   "outputs": [],
   "source": [
    "import re, random\n",
    "import numpy as np\n",
    "import torch, torch.nn as nn\n",
    "from torch.utils.data import Dataset, DataLoader\n",
    "from collections import Counter"
   ]
  },
  {
   "cell_type": "code",
   "execution_count": 2,
   "id": "71e48e23-a168-47c6-b5ae-58ce36dd508b",
   "metadata": {},
   "outputs": [],
   "source": [
    "device = torch.device(\"mps\")\n",
    "SEED = 42\n",
    "random.seed(SEED)\n",
    "np.random.seed(SEED)\n",
    "torch.manual_seed(SEED)\n",
    "torch.cuda.manual_seed_all(SEED)"
   ]
  },
  {
   "cell_type": "markdown",
   "id": "a50bf80a-2bce-4ef7-b5b4-c54ba4119e18",
   "metadata": {},
   "source": [
    "## 1.2 Tiny offline dataset"
   ]
  },
  {
   "cell_type": "code",
   "execution_count": 3,
   "id": "02b0e1aa-ced1-40f0-9f00-f1735d4cd502",
   "metadata": {},
   "outputs": [],
   "source": [
    "docs_pos = [\n",
    "    \"I loved this movie, absolutely fantastic performances\",\n",
    "    \"What a wonderful experience, the plot was engaging\",\n",
    "    \"Great acting and stunning visuals highly recommend\",\n",
    "    \"This film is brilliant beautiful story and soundtrack\",\n",
    "    \"An excellent and heartwarming movie I enjoyed it\"\n",
    "]\n",
    "docs_neg = [\n",
    "    \"I hated this movie a complete waste of time\",\n",
    "    \"Terrible acting and a boring plot not recommended\",\n",
    "    \"What an awful experience I fell asleep twice\",\n",
    "    \"This film is bad messy story and poor dialogue\",\n",
    "    \"A disappointing and painful watch\"\n",
    "]\n",
    "\n",
    "X_text = docs_pos + docs_neg\n",
    "y = np.array([1] * len(docs_pos) + [0] * len(docs_neg))"
   ]
  },
  {
   "cell_type": "code",
   "execution_count": 4,
   "id": "de5fc29d-76c1-4e1b-bcda-aae2536b3ef2",
   "metadata": {},
   "outputs": [
    {
     "data": {
      "application/vnd.jupyter.widget-view+json": {
       "model_id": "7a794005c38c4127838701d65e070297",
       "version_major": 2,
       "version_minor": 0
      },
      "text/plain": [
       "README.md: 0.00B [00:00, ?B/s]"
      ]
     },
     "metadata": {},
     "output_type": "display_data"
    },
    {
     "data": {
      "application/vnd.jupyter.widget-view+json": {
       "model_id": "ca81ebe70e2d4f609d5f42c261398996",
       "version_major": 2,
       "version_minor": 0
      },
      "text/plain": [
       "plain_text/train-00000-of-00001.parquet:   0%|          | 0.00/21.0M [00:00<?, ?B/s]"
      ]
     },
     "metadata": {},
     "output_type": "display_data"
    },
    {
     "data": {
      "application/vnd.jupyter.widget-view+json": {
       "model_id": "7f48c118699846e7b4ced3888e06aee8",
       "version_major": 2,
       "version_minor": 0
      },
      "text/plain": [
       "plain_text/test-00000-of-00001.parquet:   0%|          | 0.00/20.5M [00:00<?, ?B/s]"
      ]
     },
     "metadata": {},
     "output_type": "display_data"
    },
    {
     "data": {
      "application/vnd.jupyter.widget-view+json": {
       "model_id": "67dfd34d7f304dd0bfd50504667f28ac",
       "version_major": 2,
       "version_minor": 0
      },
      "text/plain": [
       "plain_text/unsupervised-00000-of-00001.p(…):   0%|          | 0.00/42.0M [00:00<?, ?B/s]"
      ]
     },
     "metadata": {},
     "output_type": "display_data"
    },
    {
     "data": {
      "application/vnd.jupyter.widget-view+json": {
       "model_id": "e489b8833048445c812d327b001fbe1a",
       "version_major": 2,
       "version_minor": 0
      },
      "text/plain": [
       "Generating train split:   0%|          | 0/25000 [00:00<?, ? examples/s]"
      ]
     },
     "metadata": {},
     "output_type": "display_data"
    },
    {
     "data": {
      "application/vnd.jupyter.widget-view+json": {
       "model_id": "f60ad0e3bdb14fa2a9a60d0a40acd2d9",
       "version_major": 2,
       "version_minor": 0
      },
      "text/plain": [
       "Generating test split:   0%|          | 0/25000 [00:00<?, ? examples/s]"
      ]
     },
     "metadata": {},
     "output_type": "display_data"
    },
    {
     "data": {
      "application/vnd.jupyter.widget-view+json": {
       "model_id": "3ac318da57924e789900645387f21c1e",
       "version_major": 2,
       "version_minor": 0
      },
      "text/plain": [
       "Generating unsupervised split:   0%|          | 0/50000 [00:00<?, ? examples/s]"
      ]
     },
     "metadata": {},
     "output_type": "display_data"
    },
    {
     "name": "stdout",
     "output_type": "stream",
     "text": [
      "train size=25000, test size=25000\n"
     ]
    }
   ],
   "source": [
    "# can choose use tiny dataset above, or switch to IMDB\n",
    "USE_TINY = False\n",
    "if not USE_TINY:\n",
    "    from datasets import load_dataset  # pip install datasets\n",
    "    ds = load_dataset(\"imdb\")\n",
    "    train_raw = list(zip(ds[\"train\"][\"text\"], ds[\"train\"][\"label\"]))\n",
    "    test_raw  = list(zip(ds[\"test\"][\"text\"],  ds[\"test\"][\"label\"]))\n",
    "else:\n",
    "    # split tiny into \"train/test\" / 将小数据切成训练/测试\n",
    "    train_raw = list(zip(X_text, y.tolist()))\n",
    "    test_raw  = list(zip(X_text, y.tolist()))\n",
    "    random.shuffle(train_raw); random.shuffle(test_raw)\n",
    "\n",
    "print(f\"train size={len(train_raw)}, test size={len(test_raw)}\")"
   ]
  },
  {
   "cell_type": "markdown",
   "id": "75cfbe5c-0ee8-4ccd-b010-a0d1019c80b5",
   "metadata": {},
   "source": [
    "## 1.3 Tokenization & Vocab"
   ]
  },
  {
   "cell_type": "code",
   "execution_count": 7,
   "id": "587f7f89-dd4e-450f-9b9c-dc245cc7bbc2",
   "metadata": {},
   "outputs": [],
   "source": [
    "def basic_tokenize(s):\n",
    "    # lowercase + keep alphabetic tokens only\n",
    "    return re.findall(r\"[a-zA-Z]+\", s.lower())"
   ]
  },
  {
   "cell_type": "code",
   "execution_count": 8,
   "id": "2088b1f2-5bba-494e-b806-79ed8ab8a5cb",
   "metadata": {},
   "outputs": [],
   "source": [
    "counter = Counter()\n",
    "for txt, _ in train_raw:\n",
    "    counter.update(basic_tokenize(txt))"
   ]
  },
  {
   "cell_type": "code",
   "execution_count": 9,
   "id": "afaa1e5d-d1f6-41ce-b424-1328b4129a79",
   "metadata": {},
   "outputs": [
    {
     "data": {
      "text/plain": [
       "Counter({'the': 336758,\n",
       "         'and': 164143,\n",
       "         'a': 163174,\n",
       "         'of': 145867,\n",
       "         'to': 135724,\n",
       "         'is': 107337,\n",
       "         'br': 101872,\n",
       "         'it': 96472,\n",
       "         'in': 93981,\n",
       "         'i': 87702,\n",
       "         'this': 76007,\n",
       "         'that': 73287,\n",
       "         's': 66099,\n",
       "         'was': 48209,\n",
       "         'as': 46940,\n",
       "         'for': 44345,\n",
       "         'with': 44130,\n",
       "         'movie': 44047,\n",
       "         'but': 42624,\n",
       "         'film': 40162,\n",
       "         't': 34407,\n",
       "         'you': 34268,\n",
       "         'on': 34207,\n",
       "         'not': 30634,\n",
       "         'he': 30155,\n",
       "         'are': 29438,\n",
       "         'his': 29376,\n",
       "         'have': 27732,\n",
       "         'be': 26957,\n",
       "         'one': 26795,\n",
       "         'all': 23987,\n",
       "         'at': 23519,\n",
       "         'they': 22916,\n",
       "         'by': 22549,\n",
       "         'an': 21565,\n",
       "         'who': 21442,\n",
       "         'so': 20618,\n",
       "         'from': 20499,\n",
       "         'like': 20281,\n",
       "         'there': 18866,\n",
       "         'her': 18424,\n",
       "         'or': 18010,\n",
       "         'just': 17774,\n",
       "         'about': 17375,\n",
       "         'out': 17113,\n",
       "         'if': 16809,\n",
       "         'has': 16791,\n",
       "         'what': 16169,\n",
       "         'some': 15749,\n",
       "         'good': 15147,\n",
       "         'can': 14678,\n",
       "         'more': 14255,\n",
       "         'she': 14228,\n",
       "         'when': 14184,\n",
       "         'very': 14069,\n",
       "         'up': 13293,\n",
       "         'time': 12727,\n",
       "         'no': 12724,\n",
       "         'even': 12656,\n",
       "         'my': 12505,\n",
       "         'would': 12436,\n",
       "         'which': 12051,\n",
       "         'story': 11990,\n",
       "         'only': 11919,\n",
       "         'really': 11739,\n",
       "         'see': 11479,\n",
       "         'their': 11385,\n",
       "         'had': 11290,\n",
       "         'we': 10865,\n",
       "         'were': 10786,\n",
       "         'me': 10780,\n",
       "         'well': 10668,\n",
       "         'than': 9920,\n",
       "         'much': 9766,\n",
       "         'get': 9312,\n",
       "         'bad': 9308,\n",
       "         'been': 9289,\n",
       "         'people': 9287,\n",
       "         'will': 9211,\n",
       "         'do': 9182,\n",
       "         'other': 9164,\n",
       "         'also': 9159,\n",
       "         'into': 9111,\n",
       "         'first': 9064,\n",
       "         'great': 9061,\n",
       "         'because': 9047,\n",
       "         'how': 8901,\n",
       "         'him': 8879,\n",
       "         'don': 8848,\n",
       "         'most': 8787,\n",
       "         'made': 8364,\n",
       "         'its': 8182,\n",
       "         'then': 8120,\n",
       "         'way': 8026,\n",
       "         'make': 8025,\n",
       "         'them': 7972,\n",
       "         'could': 7923,\n",
       "         'too': 7833,\n",
       "         'movies': 7668,\n",
       "         'any': 7660,\n",
       "         'after': 7638,\n",
       "         'think': 7298,\n",
       "         'characters': 7159,\n",
       "         'character': 7024,\n",
       "         'watch': 6974,\n",
       "         'two': 6906,\n",
       "         'films': 6889,\n",
       "         'seen': 6681,\n",
       "         'many': 6675,\n",
       "         'life': 6632,\n",
       "         'being': 6610,\n",
       "         'plot': 6589,\n",
       "         'acting': 6494,\n",
       "         'never': 6485,\n",
       "         'love': 6454,\n",
       "         'little': 6438,\n",
       "         'best': 6416,\n",
       "         'where': 6394,\n",
       "         'over': 6334,\n",
       "         'did': 6297,\n",
       "         'show': 6295,\n",
       "         'know': 6167,\n",
       "         'off': 6032,\n",
       "         'ever': 5998,\n",
       "         'man': 5982,\n",
       "         'does': 5940,\n",
       "         'here': 5771,\n",
       "         'better': 5740,\n",
       "         'your': 5685,\n",
       "         'end': 5651,\n",
       "         'still': 5624,\n",
       "         'these': 5418,\n",
       "         'say': 5396,\n",
       "         'scene': 5383,\n",
       "         'why': 5319,\n",
       "         'while': 5317,\n",
       "         'scenes': 5213,\n",
       "         've': 5182,\n",
       "         'go': 5159,\n",
       "         'such': 5136,\n",
       "         'm': 5123,\n",
       "         'something': 5077,\n",
       "         'should': 5041,\n",
       "         'back': 4972,\n",
       "         'through': 4971,\n",
       "         'real': 4738,\n",
       "         'those': 4697,\n",
       "         'watching': 4606,\n",
       "         'now': 4605,\n",
       "         're': 4576,\n",
       "         'though': 4566,\n",
       "         'doesn': 4551,\n",
       "         'thing': 4529,\n",
       "         'old': 4526,\n",
       "         'years': 4516,\n",
       "         'actors': 4488,\n",
       "         'director': 4449,\n",
       "         'work': 4374,\n",
       "         'didn': 4339,\n",
       "         'another': 4330,\n",
       "         'before': 4325,\n",
       "         'new': 4312,\n",
       "         'nothing': 4291,\n",
       "         'funny': 4290,\n",
       "         'actually': 4240,\n",
       "         'makes': 4204,\n",
       "         'look': 4147,\n",
       "         'find': 4132,\n",
       "         'going': 4102,\n",
       "         'few': 4076,\n",
       "         'same': 4053,\n",
       "         'part': 4042,\n",
       "         'again': 4008,\n",
       "         'lot': 3980,\n",
       "         'every': 3979,\n",
       "         'world': 3835,\n",
       "         'cast': 3830,\n",
       "         'us': 3796,\n",
       "         'quite': 3739,\n",
       "         'down': 3730,\n",
       "         'want': 3703,\n",
       "         'things': 3688,\n",
       "         'pretty': 3664,\n",
       "         'young': 3660,\n",
       "         'seems': 3619,\n",
       "         'around': 3617,\n",
       "         'horror': 3592,\n",
       "         'got': 3587,\n",
       "         'however': 3537,\n",
       "         'fact': 3523,\n",
       "         'take': 3510,\n",
       "         'big': 3477,\n",
       "         'enough': 3453,\n",
       "         'long': 3452,\n",
       "         'thought': 3437,\n",
       "         'series': 3417,\n",
       "         'both': 3406,\n",
       "         'between': 3390,\n",
       "         'may': 3387,\n",
       "         'original': 3378,\n",
       "         'give': 3376,\n",
       "         'd': 3368,\n",
       "         'action': 3355,\n",
       "         'own': 3349,\n",
       "         'right': 3313,\n",
       "         'without': 3267,\n",
       "         'must': 3250,\n",
       "         'comedy': 3246,\n",
       "         'always': 3240,\n",
       "         'times': 3239,\n",
       "         'point': 3227,\n",
       "         'gets': 3204,\n",
       "         'family': 3202,\n",
       "         'come': 3189,\n",
       "         'role': 3189,\n",
       "         'isn': 3187,\n",
       "         'saw': 3168,\n",
       "         'almost': 3140,\n",
       "         'interesting': 3129,\n",
       "         'least': 3113,\n",
       "         'done': 3096,\n",
       "         'whole': 3078,\n",
       "         'music': 3057,\n",
       "         'bit': 3055,\n",
       "         'guy': 3036,\n",
       "         'script': 3029,\n",
       "         'far': 2979,\n",
       "         'making': 2962,\n",
       "         'minutes': 2953,\n",
       "         'feel': 2951,\n",
       "         'anything': 2949,\n",
       "         'last': 2933,\n",
       "         'might': 2919,\n",
       "         'since': 2907,\n",
       "         'll': 2904,\n",
       "         'performance': 2898,\n",
       "         'girl': 2854,\n",
       "         'probably': 2842,\n",
       "         'am': 2811,\n",
       "         'woman': 2796,\n",
       "         'kind': 2783,\n",
       "         'tv': 2782,\n",
       "         'away': 2776,\n",
       "         'yet': 2754,\n",
       "         'day': 2746,\n",
       "         'rather': 2734,\n",
       "         'worst': 2732,\n",
       "         'fun': 2695,\n",
       "         'sure': 2686,\n",
       "         'hard': 2668,\n",
       "         'anyone': 2632,\n",
       "         'played': 2588,\n",
       "         'each': 2580,\n",
       "         'found': 2573,\n",
       "         'having': 2546,\n",
       "         'although': 2538,\n",
       "         'especially': 2536,\n",
       "         'our': 2510,\n",
       "         'course': 2506,\n",
       "         'believe': 2505,\n",
       "         'screen': 2493,\n",
       "         'comes': 2484,\n",
       "         'looking': 2483,\n",
       "         'trying': 2473,\n",
       "         'set': 2456,\n",
       "         'goes': 2442,\n",
       "         'book': 2421,\n",
       "         'looks': 2414,\n",
       "         'place': 2411,\n",
       "         'actor': 2389,\n",
       "         'different': 2385,\n",
       "         'put': 2381,\n",
       "         'money': 2363,\n",
       "         'year': 2362,\n",
       "         'ending': 2359,\n",
       "         'dvd': 2345,\n",
       "         'let': 2344,\n",
       "         'maybe': 2342,\n",
       "         'someone': 2339,\n",
       "         'true': 2333,\n",
       "         'once': 2329,\n",
       "         'sense': 2326,\n",
       "         'everything': 2325,\n",
       "         'reason': 2324,\n",
       "         'wasn': 2317,\n",
       "         'shows': 2308,\n",
       "         'three': 2296,\n",
       "         'worth': 2278,\n",
       "         'job': 2277,\n",
       "         'main': 2264,\n",
       "         'together': 2243,\n",
       "         'play': 2238,\n",
       "         'watched': 2236,\n",
       "         'american': 2228,\n",
       "         'everyone': 2223,\n",
       "         'plays': 2214,\n",
       "         'john': 2209,\n",
       "         'effects': 2204,\n",
       "         'later': 2200,\n",
       "         'audience': 2199,\n",
       "         'said': 2196,\n",
       "         'takes': 2192,\n",
       "         'instead': 2191,\n",
       "         'house': 2185,\n",
       "         'beautiful': 2178,\n",
       "         'seem': 2175,\n",
       "         'night': 2165,\n",
       "         'high': 2161,\n",
       "         'himself': 2160,\n",
       "         'version': 2157,\n",
       "         'wife': 2140,\n",
       "         'during': 2131,\n",
       "         'left': 2125,\n",
       "         'father': 2124,\n",
       "         'special': 2113,\n",
       "         'seeing': 2099,\n",
       "         'half': 2095,\n",
       "         'star': 2087,\n",
       "         'excellent': 2071,\n",
       "         'war': 2051,\n",
       "         'shot': 2051,\n",
       "         'idea': 2043,\n",
       "         'black': 2036,\n",
       "         'nice': 2012,\n",
       "         'less': 2002,\n",
       "         'else': 2001,\n",
       "         'mind': 1995,\n",
       "         'simply': 1966,\n",
       "         'read': 1964,\n",
       "         'second': 1962,\n",
       "         'fan': 1911,\n",
       "         'men': 1909,\n",
       "         'death': 1909,\n",
       "         'hollywood': 1907,\n",
       "         'poor': 1897,\n",
       "         'help': 1896,\n",
       "         'completely': 1889,\n",
       "         'dead': 1881,\n",
       "         'used': 1879,\n",
       "         'home': 1878,\n",
       "         'line': 1872,\n",
       "         'short': 1867,\n",
       "         'either': 1866,\n",
       "         'top': 1848,\n",
       "         'given': 1848,\n",
       "         'kids': 1844,\n",
       "         'budget': 1837,\n",
       "         'try': 1831,\n",
       "         'classic': 1829,\n",
       "         'wrong': 1823,\n",
       "         'performances': 1822,\n",
       "         'women': 1819,\n",
       "         'boring': 1812,\n",
       "         'enjoy': 1812,\n",
       "         'need': 1807,\n",
       "         'use': 1804,\n",
       "         'rest': 1803,\n",
       "         'low': 1799,\n",
       "         'friends': 1791,\n",
       "         'production': 1790,\n",
       "         'until': 1779,\n",
       "         'full': 1779,\n",
       "         'camera': 1778,\n",
       "         'along': 1776,\n",
       "         'truly': 1743,\n",
       "         'video': 1731,\n",
       "         'awful': 1725,\n",
       "         'couple': 1719,\n",
       "         'tell': 1718,\n",
       "         'next': 1717,\n",
       "         'remember': 1703,\n",
       "         'stupid': 1701,\n",
       "         'stars': 1700,\n",
       "         'start': 1700,\n",
       "         'sex': 1685,\n",
       "         'perhaps': 1684,\n",
       "         'won': 1683,\n",
       "         'mean': 1683,\n",
       "         'came': 1673,\n",
       "         'recommend': 1668,\n",
       "         'moments': 1666,\n",
       "         'school': 1659,\n",
       "         'episode': 1659,\n",
       "         'wonderful': 1658,\n",
       "         'small': 1646,\n",
       "         'face': 1645,\n",
       "         'understand': 1644,\n",
       "         'terrible': 1638,\n",
       "         'playing': 1633,\n",
       "         'getting': 1627,\n",
       "         'written': 1616,\n",
       "         'early': 1605,\n",
       "         'name': 1604,\n",
       "         'doing': 1603,\n",
       "         'keep': 1601,\n",
       "         'style': 1601,\n",
       "         'often': 1601,\n",
       "         'perfect': 1598,\n",
       "         'person': 1596,\n",
       "         'human': 1596,\n",
       "         'others': 1595,\n",
       "         'definitely': 1580,\n",
       "         'gives': 1577,\n",
       "         'itself': 1562,\n",
       "         'boy': 1560,\n",
       "         'lost': 1554,\n",
       "         'lines': 1553,\n",
       "         'live': 1552,\n",
       "         'become': 1544,\n",
       "         'dialogue': 1542,\n",
       "         'head': 1541,\n",
       "         'piece': 1537,\n",
       "         'finally': 1536,\n",
       "         'yes': 1535,\n",
       "         'case': 1533,\n",
       "         'felt': 1528,\n",
       "         'mother': 1524,\n",
       "         'supposed': 1516,\n",
       "         'liked': 1516,\n",
       "         'children': 1510,\n",
       "         'couldn': 1499,\n",
       "         'title': 1497,\n",
       "         'cinema': 1494,\n",
       "         'white': 1492,\n",
       "         'absolutely': 1485,\n",
       "         'picture': 1485,\n",
       "         'against': 1477,\n",
       "         'sort': 1472,\n",
       "         'worse': 1469,\n",
       "         'certainly': 1463,\n",
       "         'went': 1463,\n",
       "         'entire': 1461,\n",
       "         'waste': 1458,\n",
       "         'killer': 1456,\n",
       "         'oh': 1451,\n",
       "         'problem': 1451,\n",
       "         'mr': 1448,\n",
       "         'evil': 1448,\n",
       "         'hope': 1447,\n",
       "         'entertaining': 1443,\n",
       "         'friend': 1442,\n",
       "         'overall': 1437,\n",
       "         'called': 1433,\n",
       "         'based': 1431,\n",
       "         'loved': 1428,\n",
       "         'fans': 1421,\n",
       "         'several': 1420,\n",
       "         'drama': 1412,\n",
       "         'beginning': 1401,\n",
       "         'lives': 1394,\n",
       "         'direction': 1386,\n",
       "         'care': 1385,\n",
       "         'dark': 1381,\n",
       "         'already': 1381,\n",
       "         'becomes': 1380,\n",
       "         'laugh': 1375,\n",
       "         'example': 1374,\n",
       "         'under': 1368,\n",
       "         'despite': 1365,\n",
       "         'seemed': 1363,\n",
       "         'throughout': 1361,\n",
       "         'turn': 1359,\n",
       "         'son': 1357,\n",
       "         'unfortunately': 1353,\n",
       "         'wanted': 1352,\n",
       "         'history': 1333,\n",
       "         'michael': 1333,\n",
       "         'final': 1329,\n",
       "         'heart': 1328,\n",
       "         'fine': 1324,\n",
       "         'child': 1324,\n",
       "         'amazing': 1321,\n",
       "         'sound': 1320,\n",
       "         'b': 1320,\n",
       "         'guess': 1311,\n",
       "         'humor': 1311,\n",
       "         'lead': 1310,\n",
       "         'totally': 1307,\n",
       "         'guys': 1304,\n",
       "         'writing': 1304,\n",
       "         'quality': 1301,\n",
       "         'close': 1296,\n",
       "         'art': 1293,\n",
       "         'wants': 1288,\n",
       "         'game': 1283,\n",
       "         'behind': 1280,\n",
       "         'works': 1279,\n",
       "         'town': 1279,\n",
       "         'side': 1277,\n",
       "         'tries': 1274,\n",
       "         'days': 1268,\n",
       "         'past': 1265,\n",
       "         'viewer': 1262,\n",
       "         'able': 1259,\n",
       "         'flick': 1258,\n",
       "         'hand': 1257,\n",
       "         'genre': 1256,\n",
       "         'act': 1251,\n",
       "         'turns': 1251,\n",
       "         'enjoyed': 1246,\n",
       "         'today': 1245,\n",
       "         'kill': 1234,\n",
       "         'favorite': 1232,\n",
       "         'car': 1225,\n",
       "         'soon': 1223,\n",
       "         'starts': 1220,\n",
       "         'actress': 1219,\n",
       "         'run': 1219,\n",
       "         'sometimes': 1218,\n",
       "         'eyes': 1217,\n",
       "         'gave': 1217,\n",
       "         'etc': 1212,\n",
       "         'late': 1211,\n",
       "         'girls': 1211,\n",
       "         'god': 1209,\n",
       "         'directed': 1204,\n",
       "         'horrible': 1201,\n",
       "         'kid': 1200,\n",
       "         'city': 1197,\n",
       "         'brilliant': 1197,\n",
       "         'parts': 1191,\n",
       "         'hour': 1189,\n",
       "         'blood': 1186,\n",
       "         'self': 1185,\n",
       "         'themselves': 1184,\n",
       "         'stories': 1180,\n",
       "         'thinking': 1179,\n",
       "         'expect': 1178,\n",
       "         'stuff': 1174,\n",
       "         'obviously': 1163,\n",
       "         'decent': 1157,\n",
       "         'voice': 1156,\n",
       "         'writer': 1153,\n",
       "         'highly': 1148,\n",
       "         'fight': 1148,\n",
       "         'myself': 1147,\n",
       "         'feeling': 1145,\n",
       "         'daughter': 1138,\n",
       "         'slow': 1132,\n",
       "         'except': 1130,\n",
       "         'matter': 1127,\n",
       "         'type': 1125,\n",
       "         'age': 1121,\n",
       "         'anyway': 1118,\n",
       "         'roles': 1113,\n",
       "         'moment': 1112,\n",
       "         'heard': 1111,\n",
       "         'killed': 1111,\n",
       "         'says': 1110,\n",
       "         'brother': 1107,\n",
       "         'leave': 1107,\n",
       "         'took': 1100,\n",
       "         'strong': 1098,\n",
       "         'cannot': 1097,\n",
       "         'police': 1097,\n",
       "         'violence': 1093,\n",
       "         'hit': 1088,\n",
       "         'stop': 1084,\n",
       "         'happens': 1081,\n",
       "         'known': 1080,\n",
       "         'particularly': 1079,\n",
       "         'involved': 1077,\n",
       "         'happened': 1076,\n",
       "         'extremely': 1069,\n",
       "         'chance': 1069,\n",
       "         'james': 1068,\n",
       "         'obvious': 1066,\n",
       "         'told': 1063,\n",
       "         'murder': 1063,\n",
       "         'living': 1063,\n",
       "         'coming': 1062,\n",
       "         'alone': 1061,\n",
       "         'experience': 1059,\n",
       "         'wouldn': 1059,\n",
       "         'lack': 1058,\n",
       "         'hero': 1056,\n",
       "         'including': 1052,\n",
       "         'attempt': 1050,\n",
       "         'please': 1047,\n",
       "         'happen': 1044,\n",
       "         'crap': 1040,\n",
       "         'gore': 1040,\n",
       "         'wonder': 1038,\n",
       "         'cut': 1035,\n",
       "         'complete': 1035,\n",
       "         'group': 1034,\n",
       "         'ago': 1033,\n",
       "         'interest': 1033,\n",
       "         'none': 1032,\n",
       "         'score': 1030,\n",
       "         'husband': 1027,\n",
       "         'david': 1025,\n",
       "         'hell': 1025,\n",
       "         'simple': 1023,\n",
       "         'save': 1023,\n",
       "         'ok': 1018,\n",
       "         'song': 1010,\n",
       "         'looked': 1010,\n",
       "         'career': 1007,\n",
       "         'number': 1006,\n",
       "         'seriously': 1002,\n",
       "         'possible': 1000,\n",
       "         'king': 999,\n",
       "         'annoying': 998,\n",
       "         'sad': 996,\n",
       "         'exactly': 995,\n",
       "         'shown': 994,\n",
       "         'running': 992,\n",
       "         'musical': 992,\n",
       "         'yourself': 989,\n",
       "         'serious': 989,\n",
       "         'scary': 989,\n",
       "         'reality': 987,\n",
       "         'taken': 987,\n",
       "         'released': 986,\n",
       "         'whose': 986,\n",
       "         'english': 986,\n",
       "         'cinematography': 985,\n",
       "         'ends': 984,\n",
       "         'hours': 984,\n",
       "         'usually': 981,\n",
       "         'opening': 979,\n",
       "         'jokes': 977,\n",
       "         'light': 976,\n",
       "         'hilarious': 973,\n",
       "         'body': 972,\n",
       "         'across': 971,\n",
       "         'cool': 971,\n",
       "         'somewhat': 966,\n",
       "         'relationship': 966,\n",
       "         'ridiculous': 965,\n",
       "         'usual': 965,\n",
       "         'happy': 965,\n",
       "         'view': 964,\n",
       "         'level': 963,\n",
       "         'started': 963,\n",
       "         'change': 961,\n",
       "         'opinion': 959,\n",
       "         'novel': 958,\n",
       "         'wish': 957,\n",
       "         'middle': 956,\n",
       "         'taking': 955,\n",
       "         'talking': 955,\n",
       "         'documentary': 953,\n",
       "         'ones': 953,\n",
       "         'robert': 951,\n",
       "         'order': 951,\n",
       "         'power': 948,\n",
       "         'shots': 948,\n",
       "         'finds': 948,\n",
       "         'female': 946,\n",
       "         'saying': 946,\n",
       "         'huge': 945,\n",
       "         'room': 945,\n",
       "         'mostly': 941,\n",
       "         'episodes': 939,\n",
       "         'country': 935,\n",
       "         'talent': 933,\n",
       "         'five': 933,\n",
       "         'important': 931,\n",
       "         'rating': 930,\n",
       "         'modern': 929,\n",
       "         'earth': 928,\n",
       "         'major': 927,\n",
       "         'word': 927,\n",
       "         'strange': 927,\n",
       "         'turned': 925,\n",
       "         'jack': 925,\n",
       "         'call': 923,\n",
       "         'apparently': 918,\n",
       "         'single': 918,\n",
       "         'disappointed': 917,\n",
       "         'four': 912,\n",
       "         'events': 911,\n",
       "         'due': 909,\n",
       "         'songs': 908,\n",
       "         'attention': 906,\n",
       "         'basically': 906,\n",
       "         'television': 904,\n",
       "         'o': 904,\n",
       "         'knows': 901,\n",
       "         'comic': 901,\n",
       "         'future': 900,\n",
       "         'non': 899,\n",
       "         'supporting': 899,\n",
       "         'clearly': 899,\n",
       "         'knew': 898,\n",
       "         'british': 898,\n",
       "         'fast': 897,\n",
       "         'thriller': 897,\n",
       "         'paul': 897,\n",
       "         'class': 893,\n",
       "         'cheap': 892,\n",
       "         'easily': 892,\n",
       "         'silly': 889,\n",
       "         'problems': 887,\n",
       "         'aren': 886,\n",
       "         'words': 885,\n",
       "         'miss': 883,\n",
       "         'tells': 881,\n",
       "         'entertainment': 879,\n",
       "         'local': 877,\n",
       "         'rock': 876,\n",
       "         'sequence': 875,\n",
       "         'bring': 869,\n",
       "         'beyond': 867,\n",
       "         'george': 864,\n",
       "         'straight': 864,\n",
       "         'oscar': 861,\n",
       "         'upon': 859,\n",
       "         'romantic': 856,\n",
       "         'whether': 856,\n",
       "         'predictable': 854,\n",
       "         'moving': 854,\n",
       "         'similar': 852,\n",
       "         'sets': 852,\n",
       "         'falls': 851,\n",
       "         'review': 851,\n",
       "         'eye': 851,\n",
       "         'mystery': 850,\n",
       "         'lady': 848,\n",
       "         'richard': 847,\n",
       "         'talk': 842,\n",
       "         'enjoyable': 842,\n",
       "         'appears': 841,\n",
       "         'needs': 841,\n",
       "         'clich': 840,\n",
       "         'giving': 839,\n",
       "         'within': 832,\n",
       "         'ten': 829,\n",
       "         'message': 829,\n",
       "         'theater': 828,\n",
       "         'animation': 826,\n",
       "         'near': 824,\n",
       "         'team': 824,\n",
       "         'above': 819,\n",
       "         'red': 819,\n",
       "         'sister': 818,\n",
       "         'sequel': 818,\n",
       "         'dull': 816,\n",
       "         'theme': 816,\n",
       "         'stand': 815,\n",
       "         'nearly': 815,\n",
       "         'lee': 814,\n",
       "         'points': 814,\n",
       "         'haven': 813,\n",
       "         'bunch': 813,\n",
       "         'herself': 811,\n",
       "         'mention': 811,\n",
       "         'york': 810,\n",
       "         'feels': 810,\n",
       "         'add': 810,\n",
       "         'release': 807,\n",
       "         'ways': 804,\n",
       "         'storyline': 804,\n",
       "         'surprised': 802,\n",
       "         'easy': 802,\n",
       "         'e': 801,\n",
       "         'using': 801,\n",
       "         'named': 800,\n",
       "         'lots': 799,\n",
       "         'fantastic': 798,\n",
       "         'begins': 796,\n",
       "         'die': 795,\n",
       "         'working': 794,\n",
       "         'actual': 793,\n",
       "         'effort': 792,\n",
       "         'feature': 791,\n",
       "         'tale': 790,\n",
       "         'french': 789,\n",
       "         'minute': 789,\n",
       "         'hate': 789,\n",
       "         'tom': 788,\n",
       "         'stay': 787,\n",
       "         'follow': 787,\n",
       "         'viewers': 786,\n",
       "         'clear': 786,\n",
       "         'elements': 783,\n",
       "         'among': 783,\n",
       "         'comments': 779,\n",
       "         'typical': 778,\n",
       "         'avoid': 776,\n",
       "         'editing': 775,\n",
       "         'showing': 775,\n",
       "         'tried': 773,\n",
       "         'season': 773,\n",
       "         'famous': 772,\n",
       "         'sorry': 771,\n",
       "         'peter': 770,\n",
       "         'fall': 770,\n",
       "         'check': 770,\n",
       "         'dialog': 769,\n",
       "         'period': 767,\n",
       "         'certain': 765,\n",
       "         'general': 765,\n",
       "         'filmed': 765,\n",
       "         'form': 765,\n",
       "         'soundtrack': 764,\n",
       "         'buy': 764,\n",
       "         'parents': 763,\n",
       "         'weak': 762,\n",
       "         'means': 761,\n",
       "         'material': 761,\n",
       "         'realistic': 758,\n",
       "         'figure': 758,\n",
       "         'doubt': 757,\n",
       "         'crime': 757,\n",
       "         'somehow': 757,\n",
       "         'space': 755,\n",
       "         'gone': 754,\n",
       "         'disney': 754,\n",
       "         'kept': 750,\n",
       "         'leads': 750,\n",
       "         'viewing': 750,\n",
       "         'greatest': 745,\n",
       "         'th': 745,\n",
       "         'dance': 744,\n",
       "         'lame': 742,\n",
       "         'suspense': 741,\n",
       "         'zombie': 740,\n",
       "         'third': 739,\n",
       "         'brought': 737,\n",
       "         'imagine': 737,\n",
       "         'atmosphere': 735,\n",
       "         'hear': 734,\n",
       "         'whatever': 732,\n",
       "         'particular': 730,\n",
       "         'de': 730,\n",
       "         'america': 728,\n",
       "         'sequences': 728,\n",
       "         'move': 727,\n",
       "         'indeed': 722,\n",
       "         'rent': 721,\n",
       "         'learn': 720,\n",
       "         'average': 720,\n",
       "         'eventually': 720,\n",
       "         'wait': 719,\n",
       "         'note': 719,\n",
       "         'reviews': 718,\n",
       "         'forget': 718,\n",
       "         'deal': 717,\n",
       "         'surprise': 716,\n",
       "         'japanese': 716,\n",
       "         'okay': 715,\n",
       "         'stage': 714,\n",
       "         'poorly': 714,\n",
       "         'sexual': 714,\n",
       "         'premise': 712,\n",
       "         'believable': 711,\n",
       "         'nature': 711,\n",
       "         'subject': 709,\n",
       "         'sit': 709,\n",
       "         'possibly': 709,\n",
       "         'decided': 705,\n",
       "         'expected': 704,\n",
       "         'imdb': 702,\n",
       "         'dr': 702,\n",
       "         'truth': 700,\n",
       "         'street': 699,\n",
       "         'became': 697,\n",
       "         'free': 697,\n",
       "         'screenplay': 695,\n",
       "         'difficult': 695,\n",
       "         'killing': 694,\n",
       "         'romance': 694,\n",
       "         'baby': 693,\n",
       "         'joe': 691,\n",
       "         'dog': 688,\n",
       "         'hot': 688,\n",
       "         'nor': 686,\n",
       "         'reading': 685,\n",
       "         'question': 685,\n",
       "         'leaves': 683,\n",
       "         'needed': 683,\n",
       "         'begin': 678,\n",
       "         'meets': 677,\n",
       "         'society': 676,\n",
       "         'unless': 675,\n",
       "         'directors': 675,\n",
       "         'credits': 674,\n",
       "         'otherwise': 671,\n",
       "         'shame': 671,\n",
       "         'superb': 671,\n",
       "         'write': 670,\n",
       "         'situation': 669,\n",
       "         'meet': 668,\n",
       "         'dramatic': 667,\n",
       "         'male': 666,\n",
       "         'memorable': 666,\n",
       "         'open': 665,\n",
       "         'badly': 663,\n",
       "         'earlier': 663,\n",
       "         'weird': 663,\n",
       "         'dream': 663,\n",
       "         'writers': 662,\n",
       "         'forced': 661,\n",
       "         'fi': 661,\n",
       "         'acted': 660,\n",
       "         'laughs': 658,\n",
       "         'sci': 658,\n",
       "         'emotional': 657,\n",
       "         'crazy': 657,\n",
       "         'jane': 657,\n",
       "         'older': 656,\n",
       "         'beauty': 655,\n",
       "         'monster': 655,\n",
       "         'realize': 654,\n",
       "         'comment': 653,\n",
       "         'deep': 653,\n",
       "         'forward': 651,\n",
       "         'footage': 651,\n",
       "         'interested': 651,\n",
       "         'fantasy': 649,\n",
       "         'ask': 648,\n",
       "         'sounds': 645,\n",
       "         'plus': 645,\n",
       "         'whom': 645,\n",
       "         'mark': 645,\n",
       "         'directing': 644,\n",
       "         'features': 643,\n",
       "         'development': 642,\n",
       "         'keeps': 642,\n",
       "         'c': 641,\n",
       "         'mess': 641,\n",
       "         'quickly': 639,\n",
       "         'air': 639,\n",
       "         'box': 638,\n",
       "         'creepy': 638,\n",
       "         'girlfriend': 637,\n",
       "         'towards': 637,\n",
       "         'perfectly': 637,\n",
       "         'worked': 635,\n",
       "         'setting': 634,\n",
       "         'cheesy': 634,\n",
       "         'unique': 634,\n",
       "         'effect': 633,\n",
       "         'bill': 633,\n",
       "         'hands': 632,\n",
       "         'fire': 632,\n",
       "         'total': 632,\n",
       "         'plenty': 632,\n",
       "         'result': 632,\n",
       "         'previous': 630,\n",
       "         'brings': 630,\n",
       "         'personal': 629,\n",
       "         'incredibly': 628,\n",
       "         'rate': 627,\n",
       "         'business': 625,\n",
       "         'doctor': 625,\n",
       "         'joke': 624,\n",
       "         'return': 624,\n",
       "         'apart': 623,\n",
       "         'casting': 623,\n",
       "         'christmas': 623,\n",
       "         'leading': 622,\n",
       "         'admit': 621,\n",
       "         'background': 620,\n",
       "         'powerful': 620,\n",
       "         'appear': 620,\n",
       "         'cop': 620,\n",
       "         'boys': 618,\n",
       "         'ben': 617,\n",
       "         'present': 616,\n",
       "         'meant': 615,\n",
       "         'telling': 614,\n",
       "         'battle': 614,\n",
       "         'era': 614,\n",
       "         'hardly': 613,\n",
       "         'masterpiece': 613,\n",
       "         'break': 613,\n",
       "         'create': 612,\n",
       "         'potential': 612,\n",
       "         'secret': 611,\n",
       "         'pay': 610,\n",
       "         'political': 609,\n",
       "         'gay': 609,\n",
       "         'dumb': 609,\n",
       "         'fighting': 607,\n",
       "         'twist': 606,\n",
       "         'fails': 606,\n",
       "         'co': 604,\n",
       "         'various': 604,\n",
       "         'portrayed': 601,\n",
       "         'villain': 601,\n",
       "         'western': 600,\n",
       "         'inside': 600,\n",
       "         'nudity': 598,\n",
       "         'outside': 598,\n",
       "         'reasons': 596,\n",
       "         'william': 596,\n",
       "         'front': 595,\n",
       "         'ideas': 595,\n",
       "         'match': 594,\n",
       "         'missing': 594,\n",
       "         'deserves': 591,\n",
       "         'married': 590,\n",
       "         'expecting': 588,\n",
       "         'fairly': 587,\n",
       "         'rich': 587,\n",
       "         'list': 586,\n",
       "         ...})"
      ]
     },
     "execution_count": 9,
     "metadata": {},
     "output_type": "execute_result"
    }
   ],
   "source": [
    "counter"
   ]
  },
  {
   "cell_type": "code",
   "execution_count": 11,
   "id": "19c192a1-fdaa-4d3a-9e03-578ab0736f6f",
   "metadata": {},
   "outputs": [
    {
     "name": "stdout",
     "output_type": "stream",
     "text": [
      "Vocab size: 46334\n"
     ]
    }
   ],
   "source": [
    "PAD, UNK = \"<pad>\", \"<unk>\"\n",
    "itos = [PAD, UNK] #index to token/string, for pad and unknown, use index 0 and 1\n",
    "min_freq = 1 if USE_TINY else 2\n",
    "itos += [tok for tok, c in counter.items() if c >= min_freq] # other words if freq >= min_freq, add to itos, use index 2,3,...\n",
    "stoi = {tok: i for i, tok in enumerate(itos)} #map for token to index\n",
    "vocab_size = len(itos)\n",
    "print(\"Vocab size:\", vocab_size)"
   ]
  },
  {
   "cell_type": "code",
   "execution_count": 12,
   "id": "59f65ef8-71d6-4452-ba21-0ed3032dbf0c",
   "metadata": {},
   "outputs": [],
   "source": [
    "def encode(text):\n",
    "    #map tokens to index, if not find in stoi, use unknown index\n",
    "    return [stoi.get(tok, stoi[UNK]) for tok in basic_tokenize(text)]"
   ]
  },
  {
   "cell_type": "code",
   "execution_count": 13,
   "id": "7247f9f1-7cdb-43e6-9866-f3f3782d2d0b",
   "metadata": {},
   "outputs": [
    {
     "data": {
      "text/plain": [
       "['i', 'hated', 'this', 'movie', 'a', 'complete', 'waste', 'of', 'time']"
      ]
     },
     "execution_count": 13,
     "metadata": {},
     "output_type": "execute_result"
    }
   ],
   "source": [
    "basic_tokenize(\"I hated this movie a complete waste of time\")"
   ]
  },
  {
   "cell_type": "code",
   "execution_count": 19,
   "id": "d09f2f23-bcc2-4775-ba7e-5fffc3abd726",
   "metadata": {},
   "outputs": [
    {
     "data": {
      "text/plain": [
       "[2, 5539, 37, 370, 41, 1743, 815, 12, 323]"
      ]
     },
     "execution_count": 19,
     "metadata": {},
     "output_type": "execute_result"
    }
   ],
   "source": [
    "encode(\"I hated this movie a complete waste of time\")"
   ]
  },
  {
   "cell_type": "markdown",
   "id": "8da6664b-a837-4ff1-bde7-28e24b9061a7",
   "metadata": {},
   "source": [
    "## 1.4 EmbeddingBag"
   ]
  },
  {
   "cell_type": "code",
   "execution_count": 20,
   "id": "7365cf8f-fd21-49a6-b6a8-c204258370a2",
   "metadata": {},
   "outputs": [],
   "source": [
    "class IMDBBagDataset(Dataset):\n",
    "    def __init__(self, pairs): #pairs like [(text, label), ...]\n",
    "        self.data = [(encode(t), int(y)) for t, y in pairs]\n",
    "\n",
    "    def __len__(self):\n",
    "        return len(self.data)\n",
    "\n",
    "    def __getitem__(self, i):\n",
    "        return self.data[i]"
   ]
  },
  {
   "cell_type": "code",
   "execution_count": 22,
   "id": "eaf12d3e-56aa-46a7-b4ef-7bc589f027f4",
   "metadata": {},
   "outputs": [],
   "source": [
    "def bag_collate(batch):\n",
    "    #build flat token id list + offsets for EmbeddingBag(mean)\n",
    "    #do not do padding, for samples within a batch, add all of their token ids into a flat all_ids array\n",
    "    #offsets to represent the offset of every sample offset in the flat array\n",
    "    all_ids, offsets, labels = [], [0], [] \n",
    "    for ids, lab in batch:\n",
    "        all_ids.extend(ids)\n",
    "        offsets.append(len(all_ids))\n",
    "        labels.append(lab)\n",
    "\n",
    "    all_ids = torch.tensor(all_ids, dtype=torch.long)\n",
    "    offsets = torch.tensor(offsets[:-1], dtype=torch.long) #deleta last element, which is the total length\n",
    "    labels = torch.tensor(labels, dtype=torch.long)\n",
    "    return all_ids, offsets, labels"
   ]
  },
  {
   "cell_type": "code",
   "execution_count": 23,
   "id": "4f898227-37ad-4ee3-a6ee-dd2ba85cbd07",
   "metadata": {},
   "outputs": [],
   "source": [
    "train_ds = IMDBBagDataset(train_raw)\n",
    "test_ds = IMDBBagDataset(test_raw)"
   ]
  },
  {
   "cell_type": "code",
   "execution_count": 25,
   "id": "0960ce36-523a-43d7-83e0-b20194a00b90",
   "metadata": {},
   "outputs": [],
   "source": [
    "train_loader = DataLoader(train_ds, batch_size=64, shuffle=True, collate_fn=bag_collate)\n",
    "test_loader = DataLoader(test_ds, batch_size=128, shuffle=False, collate_fn=bag_collate)"
   ]
  },
  {
   "cell_type": "markdown",
   "id": "4247cf96-4edd-4a78-9047-d491bf60c24c",
   "metadata": {},
   "source": [
    "## 1.5 Model: embeddingbag(mean) -> linear"
   ]
  },
  {
   "cell_type": "code",
   "execution_count": 30,
   "id": "b684a66d-2967-47d7-acd9-4d8269d8a4ff",
   "metadata": {},
   "outputs": [],
   "source": [
    "class BagClassifier(nn.Module):\n",
    "    def __init__(self, vocab_size, emb_dim=128, num_classes=2):\n",
    "        super().__init__()\n",
    "        #embeddingBag(mean) computes averaged embeddings per sample\n",
    "        self.emb = nn.EmbeddingBag(vocab_size, emb_dim, mode=\"mean\")\n",
    "        self.fc = nn.Linear(emb_dim, num_classes)\n",
    "\n",
    "    def forward(self, all_ids, offsets):\n",
    "        x = self.emb(all_ids, offsets)\n",
    "        return self.fc(x)"
   ]
  },
  {
   "cell_type": "code",
   "execution_count": 31,
   "id": "801880b0-4ff3-44ae-9bff-262ea8bd829e",
   "metadata": {},
   "outputs": [],
   "source": [
    "model = BagClassifier(vocab_size, emb_dim=128, num_classes=2).to(device)\n",
    "criterion = nn.CrossEntropyLoss()\n",
    "optimizer = torch.optim.AdamW(model.parameters(), lr=1e-3, weight_decay=1e-4)"
   ]
  },
  {
   "cell_type": "markdown",
   "id": "c89eae81-dc25-4703-9cbd-2e72f1a6cdb8",
   "metadata": {},
   "source": [
    "## 1.6 Train and Evaluate"
   ]
  },
  {
   "cell_type": "code",
   "execution_count": 32,
   "id": "93675935-3f53-49f1-b969-17df050dd446",
   "metadata": {},
   "outputs": [],
   "source": [
    "def acc_from_logits(logits, y):\n",
    "    return (logits.argmax(1) == y).float().mean().item()"
   ]
  },
  {
   "cell_type": "code",
   "execution_count": 33,
   "id": "bb1ff3b9-f0c9-4eea-873d-8321f748b96a",
   "metadata": {},
   "outputs": [],
   "source": [
    "@torch.no_grad()\n",
    "def evaluate(loader):\n",
    "    model.eval()\n",
    "    totL, totA, n = 0.0, 0.0, 0\n",
    "    for all_ids, offsets, y in loader:\n",
    "        all_ids, offsets, y = all_ids.to(device), offsets.to(device), y.to(device)\n",
    "        out = model(all_ids, offsets)\n",
    "        loss = criterion(out, y)\n",
    "        bs = y.size(0)\n",
    "        totL += loss.item() * bs\n",
    "        totA += acc_from_logits(out, y) * bs\n",
    "        n += bs\n",
    "    return totL / n, totA / n"
   ]
  },
  {
   "cell_type": "code",
   "execution_count": 34,
   "id": "0c7b01ee-d614-47ff-8d03-c9ad17d83159",
   "metadata": {},
   "outputs": [],
   "source": [
    "def train_one_epoch():\n",
    "    model.train()\n",
    "    totL, totA, n = 0.0, 0.0, 0\n",
    "    for all_ids, offsets, y in train_loader:\n",
    "        all_ids, offsets, y = all_ids.to(device), offsets.to(device), y.to(device)\n",
    "        optimizer.zero_grad()\n",
    "        out = model(all_ids, offsets)\n",
    "        loss = criterion(out, y)\n",
    "        loss.backward()\n",
    "        optimizer.step()\n",
    "        bs = y.size(0)\n",
    "        totL += loss.item() * bs\n",
    "        totA += acc_from_logits(out, y) * bs\n",
    "        n += bs\n",
    "    return totL / n, totA / n"
   ]
  },
  {
   "cell_type": "code",
   "execution_count": 35,
   "id": "9d618f72-5ebc-4e35-a7cd-426e2dc06ff2",
   "metadata": {},
   "outputs": [
    {
     "ename": "NotImplementedError",
     "evalue": "The operator 'aten::_embedding_bag' is not currently implemented for the MPS device. If you want this op to be added in priority during the prototype phase of this feature, please comment on https://github.com/pytorch/pytorch/issues/77764. As a temporary fix, you can set the environment variable `PYTORCH_ENABLE_MPS_FALLBACK=1` to use the CPU as a fallback for this op. WARNING: this will be slower than running natively on MPS.",
     "output_type": "error",
     "traceback": [
      "\u001b[0;31m---------------------------------------------------------------------------\u001b[0m",
      "\u001b[0;31mNotImplementedError\u001b[0m                       Traceback (most recent call last)",
      "Cell \u001b[0;32mIn[35], line 4\u001b[0m\n\u001b[1;32m      2\u001b[0m hist_pt \u001b[38;5;241m=\u001b[39m {\u001b[38;5;124m\"\u001b[39m\u001b[38;5;124mtrL\u001b[39m\u001b[38;5;124m\"\u001b[39m:[], \u001b[38;5;124m\"\u001b[39m\u001b[38;5;124mtrA\u001b[39m\u001b[38;5;124m\"\u001b[39m:[], \u001b[38;5;124m\"\u001b[39m\u001b[38;5;124mteL\u001b[39m\u001b[38;5;124m\"\u001b[39m:[], \u001b[38;5;124m\"\u001b[39m\u001b[38;5;124mteA\u001b[39m\u001b[38;5;124m\"\u001b[39m:[]}\n\u001b[1;32m      3\u001b[0m \u001b[38;5;28;01mfor\u001b[39;00m ep \u001b[38;5;129;01min\u001b[39;00m \u001b[38;5;28mrange\u001b[39m(\u001b[38;5;241m1\u001b[39m, EPOCHS\u001b[38;5;241m+\u001b[39m\u001b[38;5;241m1\u001b[39m):\n\u001b[0;32m----> 4\u001b[0m     trL, trA \u001b[38;5;241m=\u001b[39m \u001b[43mtrain_one_epoch\u001b[49m\u001b[43m(\u001b[49m\u001b[43m)\u001b[49m\n\u001b[1;32m      5\u001b[0m     teL, teA \u001b[38;5;241m=\u001b[39m evaluate(test_loader)\n\u001b[1;32m      6\u001b[0m     hist_pt[\u001b[38;5;124m\"\u001b[39m\u001b[38;5;124mtrL\u001b[39m\u001b[38;5;124m\"\u001b[39m]\u001b[38;5;241m.\u001b[39mappend(trL); hist_pt[\u001b[38;5;124m\"\u001b[39m\u001b[38;5;124mtrA\u001b[39m\u001b[38;5;124m\"\u001b[39m]\u001b[38;5;241m.\u001b[39mappend(trA)\n",
      "Cell \u001b[0;32mIn[34], line 7\u001b[0m, in \u001b[0;36mtrain_one_epoch\u001b[0;34m()\u001b[0m\n\u001b[1;32m      5\u001b[0m all_ids, offsets, y \u001b[38;5;241m=\u001b[39m all_ids\u001b[38;5;241m.\u001b[39mto(device), offsets\u001b[38;5;241m.\u001b[39mto(device), y\u001b[38;5;241m.\u001b[39mto(device)\n\u001b[1;32m      6\u001b[0m optimizer\u001b[38;5;241m.\u001b[39mzero_grad()\n\u001b[0;32m----> 7\u001b[0m out \u001b[38;5;241m=\u001b[39m \u001b[43mmodel\u001b[49m\u001b[43m(\u001b[49m\u001b[43mall_ids\u001b[49m\u001b[43m,\u001b[49m\u001b[43m \u001b[49m\u001b[43moffsets\u001b[49m\u001b[43m)\u001b[49m\n\u001b[1;32m      8\u001b[0m loss \u001b[38;5;241m=\u001b[39m criterion(out, y)\n\u001b[1;32m      9\u001b[0m loss\u001b[38;5;241m.\u001b[39mbackward()\n",
      "File \u001b[0;32m~/Documents/MOOC/ML/env/lib/python3.10/site-packages/torch/nn/modules/module.py:1553\u001b[0m, in \u001b[0;36mModule._wrapped_call_impl\u001b[0;34m(self, *args, **kwargs)\u001b[0m\n\u001b[1;32m   1551\u001b[0m     \u001b[38;5;28;01mreturn\u001b[39;00m \u001b[38;5;28mself\u001b[39m\u001b[38;5;241m.\u001b[39m_compiled_call_impl(\u001b[38;5;241m*\u001b[39margs, \u001b[38;5;241m*\u001b[39m\u001b[38;5;241m*\u001b[39mkwargs)  \u001b[38;5;66;03m# type: ignore[misc]\u001b[39;00m\n\u001b[1;32m   1552\u001b[0m \u001b[38;5;28;01melse\u001b[39;00m:\n\u001b[0;32m-> 1553\u001b[0m     \u001b[38;5;28;01mreturn\u001b[39;00m \u001b[38;5;28;43mself\u001b[39;49m\u001b[38;5;241;43m.\u001b[39;49m\u001b[43m_call_impl\u001b[49m\u001b[43m(\u001b[49m\u001b[38;5;241;43m*\u001b[39;49m\u001b[43margs\u001b[49m\u001b[43m,\u001b[49m\u001b[43m \u001b[49m\u001b[38;5;241;43m*\u001b[39;49m\u001b[38;5;241;43m*\u001b[39;49m\u001b[43mkwargs\u001b[49m\u001b[43m)\u001b[49m\n",
      "File \u001b[0;32m~/Documents/MOOC/ML/env/lib/python3.10/site-packages/torch/nn/modules/module.py:1562\u001b[0m, in \u001b[0;36mModule._call_impl\u001b[0;34m(self, *args, **kwargs)\u001b[0m\n\u001b[1;32m   1557\u001b[0m \u001b[38;5;66;03m# If we don't have any hooks, we want to skip the rest of the logic in\u001b[39;00m\n\u001b[1;32m   1558\u001b[0m \u001b[38;5;66;03m# this function, and just call forward.\u001b[39;00m\n\u001b[1;32m   1559\u001b[0m \u001b[38;5;28;01mif\u001b[39;00m \u001b[38;5;129;01mnot\u001b[39;00m (\u001b[38;5;28mself\u001b[39m\u001b[38;5;241m.\u001b[39m_backward_hooks \u001b[38;5;129;01mor\u001b[39;00m \u001b[38;5;28mself\u001b[39m\u001b[38;5;241m.\u001b[39m_backward_pre_hooks \u001b[38;5;129;01mor\u001b[39;00m \u001b[38;5;28mself\u001b[39m\u001b[38;5;241m.\u001b[39m_forward_hooks \u001b[38;5;129;01mor\u001b[39;00m \u001b[38;5;28mself\u001b[39m\u001b[38;5;241m.\u001b[39m_forward_pre_hooks\n\u001b[1;32m   1560\u001b[0m         \u001b[38;5;129;01mor\u001b[39;00m _global_backward_pre_hooks \u001b[38;5;129;01mor\u001b[39;00m _global_backward_hooks\n\u001b[1;32m   1561\u001b[0m         \u001b[38;5;129;01mor\u001b[39;00m _global_forward_hooks \u001b[38;5;129;01mor\u001b[39;00m _global_forward_pre_hooks):\n\u001b[0;32m-> 1562\u001b[0m     \u001b[38;5;28;01mreturn\u001b[39;00m \u001b[43mforward_call\u001b[49m\u001b[43m(\u001b[49m\u001b[38;5;241;43m*\u001b[39;49m\u001b[43margs\u001b[49m\u001b[43m,\u001b[49m\u001b[43m \u001b[49m\u001b[38;5;241;43m*\u001b[39;49m\u001b[38;5;241;43m*\u001b[39;49m\u001b[43mkwargs\u001b[49m\u001b[43m)\u001b[49m\n\u001b[1;32m   1564\u001b[0m \u001b[38;5;28;01mtry\u001b[39;00m:\n\u001b[1;32m   1565\u001b[0m     result \u001b[38;5;241m=\u001b[39m \u001b[38;5;28;01mNone\u001b[39;00m\n",
      "Cell \u001b[0;32mIn[30], line 9\u001b[0m, in \u001b[0;36mBagClassifier.forward\u001b[0;34m(self, all_ids, offsets)\u001b[0m\n\u001b[1;32m      8\u001b[0m \u001b[38;5;28;01mdef\u001b[39;00m \u001b[38;5;21mforward\u001b[39m(\u001b[38;5;28mself\u001b[39m, all_ids, offsets):\n\u001b[0;32m----> 9\u001b[0m     x \u001b[38;5;241m=\u001b[39m \u001b[38;5;28;43mself\u001b[39;49m\u001b[38;5;241;43m.\u001b[39;49m\u001b[43memb\u001b[49m\u001b[43m(\u001b[49m\u001b[43mall_ids\u001b[49m\u001b[43m,\u001b[49m\u001b[43m \u001b[49m\u001b[43moffsets\u001b[49m\u001b[43m)\u001b[49m\n\u001b[1;32m     10\u001b[0m     \u001b[38;5;28;01mreturn\u001b[39;00m \u001b[38;5;28mself\u001b[39m\u001b[38;5;241m.\u001b[39mfc(x)\n",
      "File \u001b[0;32m~/Documents/MOOC/ML/env/lib/python3.10/site-packages/torch/nn/modules/module.py:1553\u001b[0m, in \u001b[0;36mModule._wrapped_call_impl\u001b[0;34m(self, *args, **kwargs)\u001b[0m\n\u001b[1;32m   1551\u001b[0m     \u001b[38;5;28;01mreturn\u001b[39;00m \u001b[38;5;28mself\u001b[39m\u001b[38;5;241m.\u001b[39m_compiled_call_impl(\u001b[38;5;241m*\u001b[39margs, \u001b[38;5;241m*\u001b[39m\u001b[38;5;241m*\u001b[39mkwargs)  \u001b[38;5;66;03m# type: ignore[misc]\u001b[39;00m\n\u001b[1;32m   1552\u001b[0m \u001b[38;5;28;01melse\u001b[39;00m:\n\u001b[0;32m-> 1553\u001b[0m     \u001b[38;5;28;01mreturn\u001b[39;00m \u001b[38;5;28;43mself\u001b[39;49m\u001b[38;5;241;43m.\u001b[39;49m\u001b[43m_call_impl\u001b[49m\u001b[43m(\u001b[49m\u001b[38;5;241;43m*\u001b[39;49m\u001b[43margs\u001b[49m\u001b[43m,\u001b[49m\u001b[43m \u001b[49m\u001b[38;5;241;43m*\u001b[39;49m\u001b[38;5;241;43m*\u001b[39;49m\u001b[43mkwargs\u001b[49m\u001b[43m)\u001b[49m\n",
      "File \u001b[0;32m~/Documents/MOOC/ML/env/lib/python3.10/site-packages/torch/nn/modules/module.py:1562\u001b[0m, in \u001b[0;36mModule._call_impl\u001b[0;34m(self, *args, **kwargs)\u001b[0m\n\u001b[1;32m   1557\u001b[0m \u001b[38;5;66;03m# If we don't have any hooks, we want to skip the rest of the logic in\u001b[39;00m\n\u001b[1;32m   1558\u001b[0m \u001b[38;5;66;03m# this function, and just call forward.\u001b[39;00m\n\u001b[1;32m   1559\u001b[0m \u001b[38;5;28;01mif\u001b[39;00m \u001b[38;5;129;01mnot\u001b[39;00m (\u001b[38;5;28mself\u001b[39m\u001b[38;5;241m.\u001b[39m_backward_hooks \u001b[38;5;129;01mor\u001b[39;00m \u001b[38;5;28mself\u001b[39m\u001b[38;5;241m.\u001b[39m_backward_pre_hooks \u001b[38;5;129;01mor\u001b[39;00m \u001b[38;5;28mself\u001b[39m\u001b[38;5;241m.\u001b[39m_forward_hooks \u001b[38;5;129;01mor\u001b[39;00m \u001b[38;5;28mself\u001b[39m\u001b[38;5;241m.\u001b[39m_forward_pre_hooks\n\u001b[1;32m   1560\u001b[0m         \u001b[38;5;129;01mor\u001b[39;00m _global_backward_pre_hooks \u001b[38;5;129;01mor\u001b[39;00m _global_backward_hooks\n\u001b[1;32m   1561\u001b[0m         \u001b[38;5;129;01mor\u001b[39;00m _global_forward_hooks \u001b[38;5;129;01mor\u001b[39;00m _global_forward_pre_hooks):\n\u001b[0;32m-> 1562\u001b[0m     \u001b[38;5;28;01mreturn\u001b[39;00m \u001b[43mforward_call\u001b[49m\u001b[43m(\u001b[49m\u001b[38;5;241;43m*\u001b[39;49m\u001b[43margs\u001b[49m\u001b[43m,\u001b[49m\u001b[43m \u001b[49m\u001b[38;5;241;43m*\u001b[39;49m\u001b[38;5;241;43m*\u001b[39;49m\u001b[43mkwargs\u001b[49m\u001b[43m)\u001b[49m\n\u001b[1;32m   1564\u001b[0m \u001b[38;5;28;01mtry\u001b[39;00m:\n\u001b[1;32m   1565\u001b[0m     result \u001b[38;5;241m=\u001b[39m \u001b[38;5;28;01mNone\u001b[39;00m\n",
      "File \u001b[0;32m~/Documents/MOOC/ML/env/lib/python3.10/site-packages/torch/nn/modules/sparse.py:391\u001b[0m, in \u001b[0;36mEmbeddingBag.forward\u001b[0;34m(self, input, offsets, per_sample_weights)\u001b[0m\n\u001b[1;32m    360\u001b[0m \u001b[38;5;28;01mdef\u001b[39;00m \u001b[38;5;21mforward\u001b[39m(\u001b[38;5;28mself\u001b[39m, \u001b[38;5;28minput\u001b[39m: Tensor, offsets: Optional[Tensor] \u001b[38;5;241m=\u001b[39m \u001b[38;5;28;01mNone\u001b[39;00m, per_sample_weights: Optional[Tensor] \u001b[38;5;241m=\u001b[39m \u001b[38;5;28;01mNone\u001b[39;00m) \u001b[38;5;241m-\u001b[39m\u001b[38;5;241m>\u001b[39m Tensor:\n\u001b[1;32m    361\u001b[0m \u001b[38;5;250m    \u001b[39m\u001b[38;5;124;03m\"\"\"Forward pass of EmbeddingBag.\u001b[39;00m\n\u001b[1;32m    362\u001b[0m \n\u001b[1;32m    363\u001b[0m \u001b[38;5;124;03m    Args:\u001b[39;00m\n\u001b[0;32m   (...)\u001b[0m\n\u001b[1;32m    389\u001b[0m \u001b[38;5;124;03m          returned vectors filled by zeros.\u001b[39;00m\n\u001b[1;32m    390\u001b[0m \u001b[38;5;124;03m    \"\"\"\u001b[39;00m\n\u001b[0;32m--> 391\u001b[0m     \u001b[38;5;28;01mreturn\u001b[39;00m \u001b[43mF\u001b[49m\u001b[38;5;241;43m.\u001b[39;49m\u001b[43membedding_bag\u001b[49m\u001b[43m(\u001b[49m\u001b[38;5;28;43minput\u001b[39;49m\u001b[43m,\u001b[49m\u001b[43m \u001b[49m\u001b[38;5;28;43mself\u001b[39;49m\u001b[38;5;241;43m.\u001b[39;49m\u001b[43mweight\u001b[49m\u001b[43m,\u001b[49m\u001b[43m \u001b[49m\u001b[43moffsets\u001b[49m\u001b[43m,\u001b[49m\n\u001b[1;32m    392\u001b[0m \u001b[43m                           \u001b[49m\u001b[38;5;28;43mself\u001b[39;49m\u001b[38;5;241;43m.\u001b[39;49m\u001b[43mmax_norm\u001b[49m\u001b[43m,\u001b[49m\u001b[43m \u001b[49m\u001b[38;5;28;43mself\u001b[39;49m\u001b[38;5;241;43m.\u001b[39;49m\u001b[43mnorm_type\u001b[49m\u001b[43m,\u001b[49m\n\u001b[1;32m    393\u001b[0m \u001b[43m                           \u001b[49m\u001b[38;5;28;43mself\u001b[39;49m\u001b[38;5;241;43m.\u001b[39;49m\u001b[43mscale_grad_by_freq\u001b[49m\u001b[43m,\u001b[49m\u001b[43m \u001b[49m\u001b[38;5;28;43mself\u001b[39;49m\u001b[38;5;241;43m.\u001b[39;49m\u001b[43mmode\u001b[49m\u001b[43m,\u001b[49m\u001b[43m \u001b[49m\u001b[38;5;28;43mself\u001b[39;49m\u001b[38;5;241;43m.\u001b[39;49m\u001b[43msparse\u001b[49m\u001b[43m,\u001b[49m\n\u001b[1;32m    394\u001b[0m \u001b[43m                           \u001b[49m\u001b[43mper_sample_weights\u001b[49m\u001b[43m,\u001b[49m\u001b[43m \u001b[49m\u001b[38;5;28;43mself\u001b[39;49m\u001b[38;5;241;43m.\u001b[39;49m\u001b[43minclude_last_offset\u001b[49m\u001b[43m,\u001b[49m\n\u001b[1;32m    395\u001b[0m \u001b[43m                           \u001b[49m\u001b[38;5;28;43mself\u001b[39;49m\u001b[38;5;241;43m.\u001b[39;49m\u001b[43mpadding_idx\u001b[49m\u001b[43m)\u001b[49m\n",
      "File \u001b[0;32m~/Documents/MOOC/ML/env/lib/python3.10/site-packages/torch/nn/functional.py:2454\u001b[0m, in \u001b[0;36membedding_bag\u001b[0;34m(input, weight, offsets, max_norm, norm_type, scale_grad_by_freq, mode, sparse, per_sample_weights, include_last_offset, padding_idx)\u001b[0m\n\u001b[1;32m   2447\u001b[0m \u001b[38;5;28;01mif\u001b[39;00m per_sample_weights \u001b[38;5;129;01mis\u001b[39;00m \u001b[38;5;129;01mnot\u001b[39;00m \u001b[38;5;28;01mNone\u001b[39;00m \u001b[38;5;129;01mand\u001b[39;00m mode \u001b[38;5;241m!=\u001b[39m \u001b[38;5;124m\"\u001b[39m\u001b[38;5;124msum\u001b[39m\u001b[38;5;124m\"\u001b[39m:\n\u001b[1;32m   2448\u001b[0m     \u001b[38;5;28;01mraise\u001b[39;00m \u001b[38;5;167;01mNotImplementedError\u001b[39;00m(\n\u001b[1;32m   2449\u001b[0m         \u001b[38;5;124m\"\u001b[39m\u001b[38;5;124membedding_bag: per_sample_weights was not None. \u001b[39m\u001b[38;5;124m\"\u001b[39m\n\u001b[1;32m   2450\u001b[0m         \u001b[38;5;124m\"\u001b[39m\u001b[38;5;124mper_sample_weights is only supported for mode=\u001b[39m\u001b[38;5;124m'\u001b[39m\u001b[38;5;124msum\u001b[39m\u001b[38;5;124m'\u001b[39m\u001b[38;5;124m \u001b[39m\u001b[38;5;124m\"\u001b[39m\n\u001b[1;32m   2451\u001b[0m         \u001b[38;5;124mf\u001b[39m\u001b[38;5;124m\"\u001b[39m\u001b[38;5;124m(got mode=\u001b[39m\u001b[38;5;124m'\u001b[39m\u001b[38;5;132;01m{\u001b[39;00mmode\u001b[38;5;132;01m}\u001b[39;00m\u001b[38;5;124m'\u001b[39m\u001b[38;5;124m). Please open a feature request on GitHub.\u001b[39m\u001b[38;5;124m\"\u001b[39m\n\u001b[1;32m   2452\u001b[0m     )\n\u001b[0;32m-> 2454\u001b[0m ret, _, _, _ \u001b[38;5;241m=\u001b[39m \u001b[43mtorch\u001b[49m\u001b[38;5;241;43m.\u001b[39;49m\u001b[43membedding_bag\u001b[49m\u001b[43m(\u001b[49m\n\u001b[1;32m   2455\u001b[0m \u001b[43m    \u001b[49m\u001b[43mweight\u001b[49m\u001b[43m,\u001b[49m\u001b[43m \u001b[49m\u001b[38;5;28;43minput\u001b[39;49m\u001b[43m,\u001b[49m\u001b[43m \u001b[49m\u001b[43moffsets\u001b[49m\u001b[43m,\u001b[49m\u001b[43m \u001b[49m\u001b[43mscale_grad_by_freq\u001b[49m\u001b[43m,\u001b[49m\u001b[43m \u001b[49m\u001b[43mmode_enum\u001b[49m\u001b[43m,\u001b[49m\u001b[43m \u001b[49m\u001b[43msparse\u001b[49m\u001b[43m,\u001b[49m\u001b[43m \u001b[49m\u001b[43mper_sample_weights\u001b[49m\u001b[43m,\u001b[49m\u001b[43m \u001b[49m\u001b[43minclude_last_offset\u001b[49m\u001b[43m,\u001b[49m\u001b[43m \u001b[49m\u001b[43mpadding_idx\u001b[49m\n\u001b[1;32m   2456\u001b[0m \u001b[43m\u001b[49m\u001b[43m)\u001b[49m\n\u001b[1;32m   2457\u001b[0m \u001b[38;5;28;01mreturn\u001b[39;00m ret\n",
      "\u001b[0;31mNotImplementedError\u001b[0m: The operator 'aten::_embedding_bag' is not currently implemented for the MPS device. If you want this op to be added in priority during the prototype phase of this feature, please comment on https://github.com/pytorch/pytorch/issues/77764. As a temporary fix, you can set the environment variable `PYTORCH_ENABLE_MPS_FALLBACK=1` to use the CPU as a fallback for this op. WARNING: this will be slower than running natively on MPS."
     ]
    }
   ],
   "source": [
    "EPOCHS = 6\n",
    "hist_pt = {\"trL\":[], \"trA\":[], \"teL\":[], \"teA\":[]}\n",
    "for ep in range(1, EPOCHS+1):\n",
    "    trL, trA = train_one_epoch()\n",
    "    teL, teA = evaluate(test_loader)\n",
    "    hist_pt[\"trL\"].append(trL); hist_pt[\"trA\"].append(trA)\n",
    "    hist_pt[\"teL\"].append(teL); hist_pt[\"teA\"].append(teA)\n",
    "    print(f\"[PyTorch] ep{ep:02d} | train {trL:.4f}/{trA:.4f} | test {teL:.4f}/{teA:.4f}\")"
   ]
  },
  {
   "cell_type": "code",
   "execution_count": 36,
   "id": "e08a47f1-ac4f-432e-aa7c-5bd446cc2e2a",
   "metadata": {},
   "outputs": [],
   "source": [
    "class MeanBag(nn.Module):\n",
    "    def __init__(self, vocab_size, emb_dim, num_classes):\n",
    "        super().__init__()\n",
    "        self.emb = nn.Embedding(vocab_size, emb_dim)  # 用普通 Embedding\n",
    "        self.fc  = nn.Linear(emb_dim, num_classes)\n",
    "\n",
    "    def forward(self, all_ids, offsets):\n",
    "        # all_ids: [N_tokens], offsets: [B]（每个样本的起点）\n",
    "        x_tok = self.emb(all_ids)                     # [N_tokens, D]\n",
    "\n",
    "        B = offsets.size(0)\n",
    "        N = all_ids.size(0)\n",
    "        device = all_ids.device\n",
    "\n",
    "        # 计算每个 token 属于哪条样本（bag_id）\n",
    "        # offsets = [o0, o1, ..., o_{B-1}]，默认 include_last_offset=False\n",
    "        # 第 b 条样本的范围是 [offsets[b], offsets[b+1])，最后一条到 N\n",
    "        idx = torch.arange(N, device=device)         # [0, 1, ..., N-1]\n",
    "        # bucketize 到 offsets[1:]，得到每个 token 的样本编号 0..B-1\n",
    "        bag_id = torch.bucketize(idx, offsets[1:])   # [N_tokens]\n",
    "\n",
    "        # 按样本聚合求和\n",
    "        out = torch.zeros(B, x_tok.size(1), device=device)  # [B, D]\n",
    "        out.index_add_(0, bag_id, x_tok)                    # sum pooling\n",
    "\n",
    "        # 计算每个样本的 token 数，再做 mean\n",
    "        counts = torch.bincount(bag_id, minlength=B).clamp(min=1).unsqueeze(1).to(out.dtype)  # [B,1]\n",
    "        sent = out / counts                                # mean pooling -> [B, D]\n",
    "\n",
    "        return self.fc(sent)                               # [B, C]"
   ]
  },
  {
   "cell_type": "code",
   "execution_count": 37,
   "id": "a5c07b9e-eded-46c1-8937-f909a4ca0c83",
   "metadata": {},
   "outputs": [],
   "source": [
    "model = MeanBag(vocab_size, emb_dim=128, num_classes=2).to(device)"
   ]
  },
  {
   "cell_type": "code",
   "execution_count": 39,
   "id": "cd96a774-bc4d-4651-a45c-25a42f88d0f3",
   "metadata": {},
   "outputs": [
    {
     "ename": "RuntimeError",
     "evalue": "MPS backend out of memory (MPS allocated: 1.02 GB, other allocations: 17.12 GB, max allowed: 18.13 GB). Tried to allocate 7.77 MB on private pool. Use PYTORCH_MPS_HIGH_WATERMARK_RATIO=0.0 to disable upper limit for memory allocations (may cause system failure).",
     "output_type": "error",
     "traceback": [
      "\u001b[0;31m---------------------------------------------------------------------------\u001b[0m",
      "\u001b[0;31mRuntimeError\u001b[0m                              Traceback (most recent call last)",
      "Cell \u001b[0;32mIn[39], line 6\u001b[0m\n\u001b[1;32m      4\u001b[0m hist_pt \u001b[38;5;241m=\u001b[39m {\u001b[38;5;124m\"\u001b[39m\u001b[38;5;124mtrL\u001b[39m\u001b[38;5;124m\"\u001b[39m:[], \u001b[38;5;124m\"\u001b[39m\u001b[38;5;124mtrA\u001b[39m\u001b[38;5;124m\"\u001b[39m:[], \u001b[38;5;124m\"\u001b[39m\u001b[38;5;124mteL\u001b[39m\u001b[38;5;124m\"\u001b[39m:[], \u001b[38;5;124m\"\u001b[39m\u001b[38;5;124mteA\u001b[39m\u001b[38;5;124m\"\u001b[39m:[]}\n\u001b[1;32m      5\u001b[0m \u001b[38;5;28;01mfor\u001b[39;00m ep \u001b[38;5;129;01min\u001b[39;00m \u001b[38;5;28mrange\u001b[39m(\u001b[38;5;241m1\u001b[39m, EPOCHS\u001b[38;5;241m+\u001b[39m\u001b[38;5;241m1\u001b[39m):\n\u001b[0;32m----> 6\u001b[0m     trL, trA \u001b[38;5;241m=\u001b[39m \u001b[43mtrain_one_epoch\u001b[49m\u001b[43m(\u001b[49m\u001b[43m)\u001b[49m\n\u001b[1;32m      7\u001b[0m     teL, teA \u001b[38;5;241m=\u001b[39m evaluate(test_loader)\n\u001b[1;32m      8\u001b[0m     hist_pt[\u001b[38;5;124m\"\u001b[39m\u001b[38;5;124mtrL\u001b[39m\u001b[38;5;124m\"\u001b[39m]\u001b[38;5;241m.\u001b[39mappend(trL); hist_pt[\u001b[38;5;124m\"\u001b[39m\u001b[38;5;124mtrA\u001b[39m\u001b[38;5;124m\"\u001b[39m]\u001b[38;5;241m.\u001b[39mappend(trA)\n",
      "Cell \u001b[0;32mIn[34], line 7\u001b[0m, in \u001b[0;36mtrain_one_epoch\u001b[0;34m()\u001b[0m\n\u001b[1;32m      5\u001b[0m all_ids, offsets, y \u001b[38;5;241m=\u001b[39m all_ids\u001b[38;5;241m.\u001b[39mto(device), offsets\u001b[38;5;241m.\u001b[39mto(device), y\u001b[38;5;241m.\u001b[39mto(device)\n\u001b[1;32m      6\u001b[0m optimizer\u001b[38;5;241m.\u001b[39mzero_grad()\n\u001b[0;32m----> 7\u001b[0m out \u001b[38;5;241m=\u001b[39m \u001b[43mmodel\u001b[49m\u001b[43m(\u001b[49m\u001b[43mall_ids\u001b[49m\u001b[43m,\u001b[49m\u001b[43m \u001b[49m\u001b[43moffsets\u001b[49m\u001b[43m)\u001b[49m\n\u001b[1;32m      8\u001b[0m loss \u001b[38;5;241m=\u001b[39m criterion(out, y)\n\u001b[1;32m      9\u001b[0m loss\u001b[38;5;241m.\u001b[39mbackward()\n",
      "File \u001b[0;32m~/Documents/MOOC/ML/env/lib/python3.10/site-packages/torch/nn/modules/module.py:1553\u001b[0m, in \u001b[0;36mModule._wrapped_call_impl\u001b[0;34m(self, *args, **kwargs)\u001b[0m\n\u001b[1;32m   1551\u001b[0m     \u001b[38;5;28;01mreturn\u001b[39;00m \u001b[38;5;28mself\u001b[39m\u001b[38;5;241m.\u001b[39m_compiled_call_impl(\u001b[38;5;241m*\u001b[39margs, \u001b[38;5;241m*\u001b[39m\u001b[38;5;241m*\u001b[39mkwargs)  \u001b[38;5;66;03m# type: ignore[misc]\u001b[39;00m\n\u001b[1;32m   1552\u001b[0m \u001b[38;5;28;01melse\u001b[39;00m:\n\u001b[0;32m-> 1553\u001b[0m     \u001b[38;5;28;01mreturn\u001b[39;00m \u001b[38;5;28;43mself\u001b[39;49m\u001b[38;5;241;43m.\u001b[39;49m\u001b[43m_call_impl\u001b[49m\u001b[43m(\u001b[49m\u001b[38;5;241;43m*\u001b[39;49m\u001b[43margs\u001b[49m\u001b[43m,\u001b[49m\u001b[43m \u001b[49m\u001b[38;5;241;43m*\u001b[39;49m\u001b[38;5;241;43m*\u001b[39;49m\u001b[43mkwargs\u001b[49m\u001b[43m)\u001b[49m\n",
      "File \u001b[0;32m~/Documents/MOOC/ML/env/lib/python3.10/site-packages/torch/nn/modules/module.py:1562\u001b[0m, in \u001b[0;36mModule._call_impl\u001b[0;34m(self, *args, **kwargs)\u001b[0m\n\u001b[1;32m   1557\u001b[0m \u001b[38;5;66;03m# If we don't have any hooks, we want to skip the rest of the logic in\u001b[39;00m\n\u001b[1;32m   1558\u001b[0m \u001b[38;5;66;03m# this function, and just call forward.\u001b[39;00m\n\u001b[1;32m   1559\u001b[0m \u001b[38;5;28;01mif\u001b[39;00m \u001b[38;5;129;01mnot\u001b[39;00m (\u001b[38;5;28mself\u001b[39m\u001b[38;5;241m.\u001b[39m_backward_hooks \u001b[38;5;129;01mor\u001b[39;00m \u001b[38;5;28mself\u001b[39m\u001b[38;5;241m.\u001b[39m_backward_pre_hooks \u001b[38;5;129;01mor\u001b[39;00m \u001b[38;5;28mself\u001b[39m\u001b[38;5;241m.\u001b[39m_forward_hooks \u001b[38;5;129;01mor\u001b[39;00m \u001b[38;5;28mself\u001b[39m\u001b[38;5;241m.\u001b[39m_forward_pre_hooks\n\u001b[1;32m   1560\u001b[0m         \u001b[38;5;129;01mor\u001b[39;00m _global_backward_pre_hooks \u001b[38;5;129;01mor\u001b[39;00m _global_backward_hooks\n\u001b[1;32m   1561\u001b[0m         \u001b[38;5;129;01mor\u001b[39;00m _global_forward_hooks \u001b[38;5;129;01mor\u001b[39;00m _global_forward_pre_hooks):\n\u001b[0;32m-> 1562\u001b[0m     \u001b[38;5;28;01mreturn\u001b[39;00m \u001b[43mforward_call\u001b[49m\u001b[43m(\u001b[49m\u001b[38;5;241;43m*\u001b[39;49m\u001b[43margs\u001b[49m\u001b[43m,\u001b[49m\u001b[43m \u001b[49m\u001b[38;5;241;43m*\u001b[39;49m\u001b[38;5;241;43m*\u001b[39;49m\u001b[43mkwargs\u001b[49m\u001b[43m)\u001b[49m\n\u001b[1;32m   1564\u001b[0m \u001b[38;5;28;01mtry\u001b[39;00m:\n\u001b[1;32m   1565\u001b[0m     result \u001b[38;5;241m=\u001b[39m \u001b[38;5;28;01mNone\u001b[39;00m\n",
      "Cell \u001b[0;32mIn[36], line 9\u001b[0m, in \u001b[0;36mMeanBag.forward\u001b[0;34m(self, all_ids, offsets)\u001b[0m\n\u001b[1;32m      7\u001b[0m \u001b[38;5;28;01mdef\u001b[39;00m \u001b[38;5;21mforward\u001b[39m(\u001b[38;5;28mself\u001b[39m, all_ids, offsets):\n\u001b[1;32m      8\u001b[0m     \u001b[38;5;66;03m# all_ids: [N_tokens], offsets: [B]（每个样本的起点）\u001b[39;00m\n\u001b[0;32m----> 9\u001b[0m     x_tok \u001b[38;5;241m=\u001b[39m \u001b[38;5;28;43mself\u001b[39;49m\u001b[38;5;241;43m.\u001b[39;49m\u001b[43memb\u001b[49m\u001b[43m(\u001b[49m\u001b[43mall_ids\u001b[49m\u001b[43m)\u001b[49m                     \u001b[38;5;66;03m# [N_tokens, D]\u001b[39;00m\n\u001b[1;32m     11\u001b[0m     B \u001b[38;5;241m=\u001b[39m offsets\u001b[38;5;241m.\u001b[39msize(\u001b[38;5;241m0\u001b[39m)\n\u001b[1;32m     12\u001b[0m     N \u001b[38;5;241m=\u001b[39m all_ids\u001b[38;5;241m.\u001b[39msize(\u001b[38;5;241m0\u001b[39m)\n",
      "File \u001b[0;32m~/Documents/MOOC/ML/env/lib/python3.10/site-packages/torch/nn/modules/module.py:1553\u001b[0m, in \u001b[0;36mModule._wrapped_call_impl\u001b[0;34m(self, *args, **kwargs)\u001b[0m\n\u001b[1;32m   1551\u001b[0m     \u001b[38;5;28;01mreturn\u001b[39;00m \u001b[38;5;28mself\u001b[39m\u001b[38;5;241m.\u001b[39m_compiled_call_impl(\u001b[38;5;241m*\u001b[39margs, \u001b[38;5;241m*\u001b[39m\u001b[38;5;241m*\u001b[39mkwargs)  \u001b[38;5;66;03m# type: ignore[misc]\u001b[39;00m\n\u001b[1;32m   1552\u001b[0m \u001b[38;5;28;01melse\u001b[39;00m:\n\u001b[0;32m-> 1553\u001b[0m     \u001b[38;5;28;01mreturn\u001b[39;00m \u001b[38;5;28;43mself\u001b[39;49m\u001b[38;5;241;43m.\u001b[39;49m\u001b[43m_call_impl\u001b[49m\u001b[43m(\u001b[49m\u001b[38;5;241;43m*\u001b[39;49m\u001b[43margs\u001b[49m\u001b[43m,\u001b[49m\u001b[43m \u001b[49m\u001b[38;5;241;43m*\u001b[39;49m\u001b[38;5;241;43m*\u001b[39;49m\u001b[43mkwargs\u001b[49m\u001b[43m)\u001b[49m\n",
      "File \u001b[0;32m~/Documents/MOOC/ML/env/lib/python3.10/site-packages/torch/nn/modules/module.py:1562\u001b[0m, in \u001b[0;36mModule._call_impl\u001b[0;34m(self, *args, **kwargs)\u001b[0m\n\u001b[1;32m   1557\u001b[0m \u001b[38;5;66;03m# If we don't have any hooks, we want to skip the rest of the logic in\u001b[39;00m\n\u001b[1;32m   1558\u001b[0m \u001b[38;5;66;03m# this function, and just call forward.\u001b[39;00m\n\u001b[1;32m   1559\u001b[0m \u001b[38;5;28;01mif\u001b[39;00m \u001b[38;5;129;01mnot\u001b[39;00m (\u001b[38;5;28mself\u001b[39m\u001b[38;5;241m.\u001b[39m_backward_hooks \u001b[38;5;129;01mor\u001b[39;00m \u001b[38;5;28mself\u001b[39m\u001b[38;5;241m.\u001b[39m_backward_pre_hooks \u001b[38;5;129;01mor\u001b[39;00m \u001b[38;5;28mself\u001b[39m\u001b[38;5;241m.\u001b[39m_forward_hooks \u001b[38;5;129;01mor\u001b[39;00m \u001b[38;5;28mself\u001b[39m\u001b[38;5;241m.\u001b[39m_forward_pre_hooks\n\u001b[1;32m   1560\u001b[0m         \u001b[38;5;129;01mor\u001b[39;00m _global_backward_pre_hooks \u001b[38;5;129;01mor\u001b[39;00m _global_backward_hooks\n\u001b[1;32m   1561\u001b[0m         \u001b[38;5;129;01mor\u001b[39;00m _global_forward_hooks \u001b[38;5;129;01mor\u001b[39;00m _global_forward_pre_hooks):\n\u001b[0;32m-> 1562\u001b[0m     \u001b[38;5;28;01mreturn\u001b[39;00m \u001b[43mforward_call\u001b[49m\u001b[43m(\u001b[49m\u001b[38;5;241;43m*\u001b[39;49m\u001b[43margs\u001b[49m\u001b[43m,\u001b[49m\u001b[43m \u001b[49m\u001b[38;5;241;43m*\u001b[39;49m\u001b[38;5;241;43m*\u001b[39;49m\u001b[43mkwargs\u001b[49m\u001b[43m)\u001b[49m\n\u001b[1;32m   1564\u001b[0m \u001b[38;5;28;01mtry\u001b[39;00m:\n\u001b[1;32m   1565\u001b[0m     result \u001b[38;5;241m=\u001b[39m \u001b[38;5;28;01mNone\u001b[39;00m\n",
      "File \u001b[0;32m~/Documents/MOOC/ML/env/lib/python3.10/site-packages/torch/nn/modules/sparse.py:164\u001b[0m, in \u001b[0;36mEmbedding.forward\u001b[0;34m(self, input)\u001b[0m\n\u001b[1;32m    163\u001b[0m \u001b[38;5;28;01mdef\u001b[39;00m \u001b[38;5;21mforward\u001b[39m(\u001b[38;5;28mself\u001b[39m, \u001b[38;5;28minput\u001b[39m: Tensor) \u001b[38;5;241m-\u001b[39m\u001b[38;5;241m>\u001b[39m Tensor:\n\u001b[0;32m--> 164\u001b[0m     \u001b[38;5;28;01mreturn\u001b[39;00m \u001b[43mF\u001b[49m\u001b[38;5;241;43m.\u001b[39;49m\u001b[43membedding\u001b[49m\u001b[43m(\u001b[49m\n\u001b[1;32m    165\u001b[0m \u001b[43m        \u001b[49m\u001b[38;5;28;43minput\u001b[39;49m\u001b[43m,\u001b[49m\u001b[43m \u001b[49m\u001b[38;5;28;43mself\u001b[39;49m\u001b[38;5;241;43m.\u001b[39;49m\u001b[43mweight\u001b[49m\u001b[43m,\u001b[49m\u001b[43m \u001b[49m\u001b[38;5;28;43mself\u001b[39;49m\u001b[38;5;241;43m.\u001b[39;49m\u001b[43mpadding_idx\u001b[49m\u001b[43m,\u001b[49m\u001b[43m \u001b[49m\u001b[38;5;28;43mself\u001b[39;49m\u001b[38;5;241;43m.\u001b[39;49m\u001b[43mmax_norm\u001b[49m\u001b[43m,\u001b[49m\n\u001b[1;32m    166\u001b[0m \u001b[43m        \u001b[49m\u001b[38;5;28;43mself\u001b[39;49m\u001b[38;5;241;43m.\u001b[39;49m\u001b[43mnorm_type\u001b[49m\u001b[43m,\u001b[49m\u001b[43m \u001b[49m\u001b[38;5;28;43mself\u001b[39;49m\u001b[38;5;241;43m.\u001b[39;49m\u001b[43mscale_grad_by_freq\u001b[49m\u001b[43m,\u001b[49m\u001b[43m \u001b[49m\u001b[38;5;28;43mself\u001b[39;49m\u001b[38;5;241;43m.\u001b[39;49m\u001b[43msparse\u001b[49m\u001b[43m)\u001b[49m\n",
      "File \u001b[0;32m~/Documents/MOOC/ML/env/lib/python3.10/site-packages/torch/nn/functional.py:2267\u001b[0m, in \u001b[0;36membedding\u001b[0;34m(input, weight, padding_idx, max_norm, norm_type, scale_grad_by_freq, sparse)\u001b[0m\n\u001b[1;32m   2261\u001b[0m     \u001b[38;5;66;03m# Note [embedding_renorm set_grad_enabled]\u001b[39;00m\n\u001b[1;32m   2262\u001b[0m     \u001b[38;5;66;03m# XXX: equivalent to\u001b[39;00m\n\u001b[1;32m   2263\u001b[0m     \u001b[38;5;66;03m# with torch.no_grad():\u001b[39;00m\n\u001b[1;32m   2264\u001b[0m     \u001b[38;5;66;03m#   torch.embedding_renorm_\u001b[39;00m\n\u001b[1;32m   2265\u001b[0m     \u001b[38;5;66;03m# remove once script supports set_grad_enabled\u001b[39;00m\n\u001b[1;32m   2266\u001b[0m     _no_grad_embedding_renorm_(weight, \u001b[38;5;28minput\u001b[39m, max_norm, norm_type)\n\u001b[0;32m-> 2267\u001b[0m \u001b[38;5;28;01mreturn\u001b[39;00m \u001b[43mtorch\u001b[49m\u001b[38;5;241;43m.\u001b[39;49m\u001b[43membedding\u001b[49m\u001b[43m(\u001b[49m\u001b[43mweight\u001b[49m\u001b[43m,\u001b[49m\u001b[43m \u001b[49m\u001b[38;5;28;43minput\u001b[39;49m\u001b[43m,\u001b[49m\u001b[43m \u001b[49m\u001b[43mpadding_idx\u001b[49m\u001b[43m,\u001b[49m\u001b[43m \u001b[49m\u001b[43mscale_grad_by_freq\u001b[49m\u001b[43m,\u001b[49m\u001b[43m \u001b[49m\u001b[43msparse\u001b[49m\u001b[43m)\u001b[49m\n",
      "\u001b[0;31mRuntimeError\u001b[0m: MPS backend out of memory (MPS allocated: 1.02 GB, other allocations: 17.12 GB, max allowed: 18.13 GB). Tried to allocate 7.77 MB on private pool. Use PYTORCH_MPS_HIGH_WATERMARK_RATIO=0.0 to disable upper limit for memory allocations (may cause system failure)."
     ]
    }
   ],
   "source": [
    "PYTORCH_MPS_HIGH_WATERMARK_RATIO=0.0\n",
    "\n",
    "EPOCHS = 6\n",
    "hist_pt = {\"trL\":[], \"trA\":[], \"teL\":[], \"teA\":[]}\n",
    "for ep in range(1, EPOCHS+1):\n",
    "    trL, trA = train_one_epoch()\n",
    "    teL, teA = evaluate(test_loader)\n",
    "    hist_pt[\"trL\"].append(trL); hist_pt[\"trA\"].append(trA)\n",
    "    hist_pt[\"teL\"].append(teL); hist_pt[\"teA\"].append(teA)\n",
    "    print(f\"[PyTorch] ep{ep:02d} | train {trL:.4f}/{trA:.4f} | test {teL:.4f}/{teA:.4f}\")"
   ]
  },
  {
   "cell_type": "markdown",
   "id": "a1225383-9672-419e-96e9-c1b40daec3be",
   "metadata": {},
   "source": [
    "## 1.7 plot"
   ]
  },
  {
   "cell_type": "code",
   "execution_count": null,
   "id": "6a5b18fc-b067-4b98-842b-45b90f7d9b3f",
   "metadata": {},
   "outputs": [],
   "source": [
    "import matplotlib.pyplot as plt\n",
    "ep = range(1, len(hist_pt[\"trA\"])+1)\n",
    "plt.figure(figsize=(7,4.5))\n",
    "plt.plot(ep, 1-np.array(hist_pt[\"trA\"]), \"--\", label=\"train error\")\n",
    "plt.plot(ep, 1-np.array(hist_pt[\"teA\"]),  \"-\", label=\"test error\")\n",
    "plt.title(\"IMDB (Toy) — EmbeddingBag: Error vs Epoch\")\n",
    "plt.xlabel(\"Epoch\"); plt.ylabel(\"Error (1-acc)\"); plt.grid(True); plt.legend(); plt.show()"
   ]
  },
  {
   "cell_type": "markdown",
   "id": "db2fed83-66bf-4a9b-899f-78d583bbc69a",
   "metadata": {},
   "source": [
    "# 2. Tensorflow TextVectorization -> Embedding -> GlobalAveragePooling"
   ]
  },
  {
   "cell_type": "markdown",
   "id": "0f46c0f3-3270-43c1-a238-b6b8978a2a39",
   "metadata": {},
   "source": [
    "## 2.1 Set up"
   ]
  },
  {
   "cell_type": "code",
   "execution_count": 40,
   "id": "e671443f-d679-467f-9466-77fbbb028b3c",
   "metadata": {},
   "outputs": [],
   "source": [
    "import tensorflow as tf\n",
    "from tensorflow.keras import layers, models, optimizers"
   ]
  },
  {
   "cell_type": "code",
   "execution_count": 41,
   "id": "22ddf780-4691-41b0-b378-bb8b3e6d5693",
   "metadata": {},
   "outputs": [],
   "source": [
    "AUTO = tf.data.AUTOTUNE\n",
    "BATCH = 64\n",
    "MAX_TOKENS = 20000\n",
    "MAX_LEN = 256\n",
    "\n",
    "USE_TINY_TF = False"
   ]
  },
  {
   "cell_type": "code",
   "execution_count": 45,
   "id": "dce618c6-0d1b-474b-91cf-8a9ab00d6000",
   "metadata": {},
   "outputs": [
    {
     "name": "stderr",
     "output_type": "stream",
     "text": [
      "WARNING:absl:Variant folder /Users/mamba/tensorflow_datasets/imdb_reviews/plain_text/1.0.0 has no dataset_info.json\n"
     ]
    },
    {
     "name": "stdout",
     "output_type": "stream",
     "text": [
      "\u001b[1mDownloading and preparing dataset Unknown size (download: Unknown size, generated: Unknown size, total: Unknown size) to /Users/mamba/tensorflow_datasets/imdb_reviews/plain_text/1.0.0...\u001b[0m\n"
     ]
    },
    {
     "data": {
      "application/vnd.jupyter.widget-view+json": {
       "model_id": "c666ef572d814d4894984535a1f20705",
       "version_major": 2,
       "version_minor": 0
      },
      "text/plain": [
       "Dl Completed...: 0 url [00:00, ? url/s]"
      ]
     },
     "metadata": {},
     "output_type": "display_data"
    },
    {
     "data": {
      "application/vnd.jupyter.widget-view+json": {
       "model_id": "8984bc8d9da5478596e9d9c4fcb5c4ab",
       "version_major": 2,
       "version_minor": 0
      },
      "text/plain": [
       "Dl Size...: 0 MiB [00:00, ? MiB/s]"
      ]
     },
     "metadata": {},
     "output_type": "display_data"
    },
    {
     "data": {
      "application/vnd.jupyter.widget-view+json": {
       "model_id": "",
       "version_major": 2,
       "version_minor": 0
      },
      "text/plain": [
       "Generating splits...:   0%|          | 0/3 [00:00<?, ? splits/s]"
      ]
     },
     "metadata": {},
     "output_type": "display_data"
    },
    {
     "data": {
      "application/vnd.jupyter.widget-view+json": {
       "model_id": "",
       "version_major": 2,
       "version_minor": 0
      },
      "text/plain": [
       "Generating train examples...: 0 examples [00:00, ? examples/s]"
      ]
     },
     "metadata": {},
     "output_type": "display_data"
    },
    {
     "data": {
      "application/vnd.jupyter.widget-view+json": {
       "model_id": "",
       "version_major": 2,
       "version_minor": 0
      },
      "text/plain": [
       "Shuffling /Users/mamba/tensorflow_datasets/imdb_reviews/plain_text/incomplete.HBRPOI_1.0.0/imdb_reviews-train.…"
      ]
     },
     "metadata": {},
     "output_type": "display_data"
    },
    {
     "data": {
      "application/vnd.jupyter.widget-view+json": {
       "model_id": "",
       "version_major": 2,
       "version_minor": 0
      },
      "text/plain": [
       "Generating test examples...: 0 examples [00:00, ? examples/s]"
      ]
     },
     "metadata": {},
     "output_type": "display_data"
    },
    {
     "data": {
      "application/vnd.jupyter.widget-view+json": {
       "model_id": "",
       "version_major": 2,
       "version_minor": 0
      },
      "text/plain": [
       "Shuffling /Users/mamba/tensorflow_datasets/imdb_reviews/plain_text/incomplete.HBRPOI_1.0.0/imdb_reviews-test.t…"
      ]
     },
     "metadata": {},
     "output_type": "display_data"
    },
    {
     "data": {
      "application/vnd.jupyter.widget-view+json": {
       "model_id": "",
       "version_major": 2,
       "version_minor": 0
      },
      "text/plain": [
       "Generating unsupervised examples...: 0 examples [00:00, ? examples/s]"
      ]
     },
     "metadata": {},
     "output_type": "display_data"
    },
    {
     "data": {
      "application/vnd.jupyter.widget-view+json": {
       "model_id": "",
       "version_major": 2,
       "version_minor": 0
      },
      "text/plain": [
       "Shuffling /Users/mamba/tensorflow_datasets/imdb_reviews/plain_text/incomplete.HBRPOI_1.0.0/imdb_reviews-unsupe…"
      ]
     },
     "metadata": {},
     "output_type": "display_data"
    },
    {
     "name": "stdout",
     "output_type": "stream",
     "text": [
      "\u001b[1mDataset imdb_reviews downloaded and prepared to /Users/mamba/tensorflow_datasets/imdb_reviews/plain_text/1.0.0. Subsequent calls will reuse this data.\u001b[0m\n"
     ]
    }
   ],
   "source": [
    "if not USE_TINY_TF:\n",
    "    # Real IMDB via TFDS (requires internet) / 真实 IMDB（需联网）\n",
    "    import tensorflow_datasets as tfds\n",
    "    ds_train, ds_test = tfds.load(\"imdb_reviews\", split=[\"train\", \"test\"], as_supervised=True)\n",
    "    ds_train = ds_train.shuffle(10000).batch(BATCH).prefetch(AUTO)\n",
    "    ds_test  = ds_test.batch(BATCH).prefetch(AUTO)\n",
    "else:\n",
    "    texts = tf.constant(X_text)\n",
    "    labels = tf.constant(y, dtype=tf.int64)\n",
    "    ds_all = tf.data.Dataset.from_tensor_slices((texts, labels))\n",
    "    ds_train = ds_all.shuffle(42).take(len(X_text)).batch(BATCH)\n",
    "    ds_test  = ds_all.shuffle(43).take(len(X_text)).batch(BATCH)"
   ]
  },
  {
   "cell_type": "markdown",
   "id": "52d9bf6e-c5ac-4484-bfc2-76af3501e5ae",
   "metadata": {},
   "source": [
    "## 2.2 TextVectorization (build vocab + pad/truncate)"
   ]
  },
  {
   "cell_type": "code",
   "execution_count": 47,
   "id": "f4021883-6a96-4275-9056-da4553054fad",
   "metadata": {},
   "outputs": [],
   "source": [
    "vectorizer = layers.TextVectorization(\n",
    "    max_tokens=MAX_TOKENS,\n",
    "    output_mode=\"int\",\n",
    "    output_sequence_length=MAX_LEN,\n",
    "    standardize=\"lower_and_strip_punctuation\", # lower case and remove punctuation\n",
    "    split=\"whitespace\"\n",
    ")"
   ]
  },
  {
   "cell_type": "code",
   "execution_count": 48,
   "id": "0a94d5ab-134c-4fad-b8d2-cd2733395625",
   "metadata": {},
   "outputs": [
    {
     "name": "stdout",
     "output_type": "stream",
     "text": [
      "WARNING:tensorflow:From /Users/mamba/Documents/MOOC/ML/env/lib/python3.10/site-packages/tensorflow/python/autograph/pyct/static_analysis/liveness.py:83: Analyzer.lamba_check (from tensorflow.python.autograph.pyct.static_analysis.liveness) is deprecated and will be removed after 2023-09-23.\n",
      "Instructions for updating:\n",
      "Lambda fuctions will be no more assumed to be used in the statement where they are used, or at least in the same block. https://github.com/tensorflow/tensorflow/issues/56089\n"
     ]
    },
    {
     "name": "stderr",
     "output_type": "stream",
     "text": [
      "WARNING:tensorflow:From /Users/mamba/Documents/MOOC/ML/env/lib/python3.10/site-packages/tensorflow/python/autograph/pyct/static_analysis/liveness.py:83: Analyzer.lamba_check (from tensorflow.python.autograph.pyct.static_analysis.liveness) is deprecated and will be removed after 2023-09-23.\n",
      "Instructions for updating:\n",
      "Lambda fuctions will be no more assumed to be used in the statement where they are used, or at least in the same block. https://github.com/tensorflow/tensorflow/issues/56089\n",
      "2025-08-28 21:03:17.778981: W tensorflow/tsl/platform/profile_utils/cpu_utils.cc:128] Failed to get CPU frequency: 0 Hz\n"
     ]
    }
   ],
   "source": [
    "if not USE_TINY_TF:\n",
    "    text_only = ds_train.map(lambda x,y: x)\n",
    "    vectorizer.adapt(text_only)\n",
    "else:\n",
    "    vectorizer.adapt(tf.constant(X_text))"
   ]
  },
  {
   "cell_type": "code",
   "execution_count": 49,
   "id": "a0440783-6ced-4dc7-9059-4e09c375b7f1",
   "metadata": {},
   "outputs": [],
   "source": [
    "def vec_map(x, y):\n",
    "    return vectorizer(x), y"
   ]
  },
  {
   "cell_type": "code",
   "execution_count": 50,
   "id": "7217ae28-816f-42e0-a14e-ff50f428f8ed",
   "metadata": {},
   "outputs": [],
   "source": [
    "ds_train_vec = ds_train.map(vec_map, num_parallel_calls=AUTO).prefetch(AUTO)\n",
    "ds_test_vec = ds_test.map(vec_map, num_parallel_calls=AUTO).prefetch(AUTO)"
   ]
  },
  {
   "cell_type": "markdown",
   "id": "1964b9a8-e68c-4bac-ac3e-24df5da05fca",
   "metadata": {},
   "source": [
    "## 2.3 Model: embedding + GAP + Dense"
   ]
  },
  {
   "cell_type": "code",
   "execution_count": 51,
   "id": "ade385cb-d471-49e7-82dc-1c0e223eef25",
   "metadata": {},
   "outputs": [
    {
     "name": "stdout",
     "output_type": "stream",
     "text": [
      "Model: \"model\"\n",
      "_________________________________________________________________\n",
      " Layer (type)                Output Shape              Param #   \n",
      "=================================================================\n",
      " input_1 (InputLayer)        [(None, 256)]             0         \n",
      "                                                                 \n",
      " embedding (Embedding)       (None, 256, 128)          2560000   \n",
      "                                                                 \n",
      " global_average_pooling1d (G  (None, 128)              0         \n",
      " lobalAveragePooling1D)                                          \n",
      "                                                                 \n",
      " dropout (Dropout)           (None, 128)               0         \n",
      "                                                                 \n",
      " dense (Dense)               (None, 1)                 129       \n",
      "                                                                 \n",
      "=================================================================\n",
      "Total params: 2,560,129\n",
      "Trainable params: 2,560,129\n",
      "Non-trainable params: 0\n",
      "_________________________________________________________________\n"
     ]
    }
   ],
   "source": [
    "inputs = layers.Input(shape=(MAX_LEN,), dtype=tf.int64)\n",
    "x = layers.Embedding(input_dim=MAX_TOKENS, output_dim=128)(inputs)\n",
    "x = layers.GlobalAveragePooling1D()(x)\n",
    "x = layers.Dropout(0.2)(x)\n",
    "outputs = layers.Dense(1, activation=\"sigmoid\")(x)\n",
    "model = models.Model(inputs, outputs)\n",
    "model.compile(optimizer=optimizers.Adam(1e-3),\n",
    "              loss=\"binary_crossentropy\",\n",
    "              metrics=[\"accuracy\"])\n",
    "model.summary()"
   ]
  },
  {
   "cell_type": "markdown",
   "id": "6ed94296-3ccd-4c67-a897-14ca06330690",
   "metadata": {},
   "source": [
    "## 2.4 Train and Plot"
   ]
  },
  {
   "cell_type": "code",
   "execution_count": 52,
   "id": "6cd318b6-71db-4f48-bf94-204621385716",
   "metadata": {},
   "outputs": [
    {
     "name": "stdout",
     "output_type": "stream",
     "text": [
      "Epoch 1/6\n",
      "391/391 [==============================] - 4s 8ms/step - loss: 0.6138 - accuracy: 0.7363 - val_loss: 0.5054 - val_accuracy: 0.8056\n",
      "Epoch 2/6\n",
      "391/391 [==============================] - 3s 8ms/step - loss: 0.4052 - accuracy: 0.8537 - val_loss: 0.3797 - val_accuracy: 0.8539\n",
      "Epoch 3/6\n",
      "391/391 [==============================] - 3s 8ms/step - loss: 0.3074 - accuracy: 0.8884 - val_loss: 0.3405 - val_accuracy: 0.8616\n",
      "Epoch 4/6\n",
      "391/391 [==============================] - 3s 8ms/step - loss: 0.2555 - accuracy: 0.9076 - val_loss: 0.3231 - val_accuracy: 0.8658\n",
      "Epoch 5/6\n",
      "391/391 [==============================] - 3s 8ms/step - loss: 0.2208 - accuracy: 0.9213 - val_loss: 0.3078 - val_accuracy: 0.8743\n",
      "Epoch 6/6\n",
      "391/391 [==============================] - 3s 8ms/step - loss: 0.1928 - accuracy: 0.9318 - val_loss: 0.3043 - val_accuracy: 0.8747\n"
     ]
    },
    {
     "data": {
      "image/png": "[encoded data removed]",
      "text/plain": [
       "<Figure size 700x450 with 1 Axes>"
      ]
     },
     "metadata": {},
     "output_type": "display_data"
    }
   ],
   "source": [
    "EPOCHS_TF = 6\n",
    "hist_tf = model.fit(ds_train_vec, validation_data=ds_test_vec, epochs=EPOCHS_TF, verbose=1)\n",
    "\n",
    "import matplotlib.pyplot as plt\n",
    "ep = range(1, EPOCHS_TF+1)\n",
    "train_err = [1 - v for v in hist_tf.history[\"accuracy\"]]\n",
    "val_err   = [1 - v for v in hist_tf.history[\"val_accuracy\"]]\n",
    "plt.figure(figsize=(7,4.5))\n",
    "plt.plot(ep, train_err, \"--\", label=\"train error\")\n",
    "plt.plot(ep, val_err,   \"-\",  label=\"val error\")\n",
    "plt.title(\"IMDB (Toy) — TF Embedding+GAP: Error vs Epoch\")\n",
    "plt.xlabel(\"Epoch\"); plt.ylabel(\"Error (1-acc)\"); plt.grid(True); plt.legend(); plt.show()"
   ]
  },
  {
   "cell_type": "code",
   "execution_count": null,
   "id": "2fd1dbe8-8d73-48c3-a2a5-608289002029",
   "metadata": {},
   "outputs": [],
   "source": []
  }
 ],
 "metadata": {
  "kernelspec": {
   "display_name": "Python 3 (ipykernel)",
   "language": "python",
   "name": "python3"
  },
  "language_info": {
   "codemirror_mode": {
    "name": "ipython",
    "version": 3
   },
   "file_extension": ".py",
   "mimetype": "text/x-python",
   "name": "python",
   "nbconvert_exporter": "python",
   "pygments_lexer": "ipython3",
   "version": "3.10.13"
  }
 },
 "nbformat": 4,
 "nbformat_minor": 5
}
